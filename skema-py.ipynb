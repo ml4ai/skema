{
 "cells": [
  {
   "cell_type": "code",
   "execution_count": 7,
   "id": "1e6fc894",
   "metadata": {
    "scrolled": true
   },
   "outputs": [],
   "source": [
    "!curl http://127.0.0.1:8010/ping"
   ]
  }
 ],
 "metadata": {
  "kernelspec": {
   "display_name": "Python 3 (ipykernel)",
   "language": "python",
   "name": "python3"
  },
  "language_info": {
   "codemirror_mode": {
    "name": "ipython",
    "version": 3
   },
   "file_extension": ".py",
   "mimetype": "text/x-python",
   "name": "python",
   "nbconvert_exporter": "python",
   "pygments_lexer": "ipython3",
   "version": "3.8.10"
  }
 },
 "nbformat": 4,
 "nbformat_minor": 5
}
