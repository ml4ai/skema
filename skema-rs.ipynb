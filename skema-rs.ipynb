{
 "cells": [
  {
   "cell_type": "markdown",
   "id": "41c2d808",
   "metadata": {},
   "source": [
    "# skema-rs #\n",
    "- Host = http://127.0.0.1\n",
    "- Port = 8080"
   ]
  },
  {
   "cell_type": "code",
   "execution_count": 3,
   "id": "1e6fc894",
   "metadata": {
    "scrolled": true
   },
   "outputs": [
    {
     "name": "stdout",
     "output_type": "stream",
     "text": [
      "The SKEMA Rust web services are running."
     ]
    }
   ],
   "source": [
    "!curl http://127.0.0.1:8080/ping"
   ]
  },
  {
   "cell_type": "code",
   "execution_count": null,
   "id": "47b362e0",
   "metadata": {},
   "outputs": [],
   "source": []
  }
 ],
 "metadata": {
  "kernelspec": {
   "display_name": "Python 3 (ipykernel)",
   "language": "python",
   "name": "python3"
  },
  "language_info": {
   "codemirror_mode": {
    "name": "ipython",
    "version": 3
   },
   "file_extension": ".py",
   "mimetype": "text/x-python",
   "name": "python",
   "nbconvert_exporter": "python",
   "pygments_lexer": "ipython3",
   "version": "3.8.10"
  }
 },
 "nbformat": 4,
 "nbformat_minor": 5
}
