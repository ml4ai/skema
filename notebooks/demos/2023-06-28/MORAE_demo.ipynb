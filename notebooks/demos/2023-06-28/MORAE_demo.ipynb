{
 "cells": [
  {
   "attachments": {},
   "cell_type": "markdown",
   "metadata": {},
   "source": [
    "# SKEMA-TA1-UAZ-MORAE Demo (2022-12-08)\n",
    "\n",
    "**Authors**: Justin Lieffers, Liang Zhang, Deepsana Shahi, Adarsh Pyarelal, Clayton Morrison"
   ]
  },
  {
   "cell_type": "code",
   "execution_count": 2,
   "metadata": {},
   "outputs": [],
   "source": [
    "# Set the base URL\n",
    "BASE_URL=\"http://localhost:8080\""
   ]
  },
  {
   "cell_type": "code",
   "execution_count": 3,
   "metadata": {},
   "outputs": [
    {
     "data": {
      "text/html": [
       "\n",
       "        <iframe\n",
       "            width=\"700\"\n",
       "            height=\"350\"\n",
       "            src=\"http://localhost:8080/docs/\"\n",
       "            frameborder=\"0\"\n",
       "            allowfullscreen\n",
       "            \n",
       "        ></iframe>\n",
       "        "
      ],
      "text/plain": [
       "<IPython.lib.display.IFrame at 0x10af0e220>"
      ]
     },
     "execution_count": 3,
     "metadata": {},
     "output_type": "execute_result"
    }
   ],
   "source": [
    "from IPython.display import IFrame\n",
    "IFrame(f\"{BASE_URL}/docs/\", width=700, height=350)"
   ]
  },
  {
   "attachments": {},
   "cell_type": "markdown",
   "metadata": {},
   "source": [
    "## Model role identification\n",
    "\n",
    "One of the prerequisites for model role identification is the ability to efficiently query GroMEts, including path traversal queries. For this reason, we have adopted a graph database backend for storing the structure inherent in GroMEt JSON files, along with additional metadata to speed up queries.\n",
    "\n",
    "Below, we demonstrate how to interact with this database using our REST API.\n",
    "\n",
    "First, we perform our imports and set the base URL"
   ]
  },
  {
   "cell_type": "code",
   "execution_count": 5,
   "metadata": {
    "scrolled": true
   },
   "outputs": [],
   "source": [
    "import json\n",
    "from requests import get, put, post, delete"
   ]
  },
  {
   "attachments": {},
   "cell_type": "markdown",
   "metadata": {},
   "source": [
    "Then, we check if the service is running."
   ]
  },
  {
   "cell_type": "code",
   "execution_count": 6,
   "metadata": {
    "scrolled": true
   },
   "outputs": [
    {
     "data": {
      "text/plain": [
       "'The SKEMA Rust web services are running.'"
      ]
     },
     "execution_count": 6,
     "metadata": {},
     "output_type": "execute_result"
    }
   ],
   "source": [
    "get(f\"{BASE_URL}/ping\").text"
   ]
  },
  {
   "attachments": {},
   "cell_type": "markdown",
   "metadata": {},
   "source": [
    "We then insert the model represented by the GroMEt JSON file `sir_core--Gromet-FN-auto.json` into the database. The operation returns the ID of the model that was just inserted - we will use this ID to query the model later."
   ]
  },
  {
   "cell_type": "code",
   "execution_count": 23,
   "metadata": {},
   "outputs": [
    {
     "name": "stdout",
     "output_type": "stream",
     "text": [
      "Model ID: 2708\n"
     ]
    }
   ],
   "source": [
    "with open('data/sir_core--Gromet-FN-auto.json') as f:\n",
    "    r = post(f\"{BASE_URL}/models\", json=json.load(f))\n",
    "    MODEL_ID = r.json()\n",
    "    print(f\"Model ID: {MODEL_ID}\")"
   ]
  },
  {
   "attachments": {},
   "cell_type": "markdown",
   "metadata": {},
   "source": [
    "We then get the IDs of all the models in the database to double check if our model ID is among them."
   ]
  },
  {
   "cell_type": "code",
   "execution_count": 24,
   "metadata": {},
   "outputs": [
    {
     "data": {
      "text/plain": [
       "[2233, 2328, 2423, 2518, 2708]"
      ]
     },
     "execution_count": 24,
     "metadata": {},
     "output_type": "execute_result"
    }
   ],
   "source": [
    "get(f\"{BASE_URL}/models\").json()"
   ]
  },
  {
   "attachments": {},
   "cell_type": "markdown",
   "metadata": {},
   "source": [
    "We can run a query to get all the names of named `opi`s in the model."
   ]
  },
  {
   "cell_type": "code",
   "execution_count": 25,
   "metadata": {},
   "outputs": [
    {
     "data": {
      "text/plain": [
       "['s', 'i', 'r', 'beta', 'gamma', 'n']"
      ]
     },
     "execution_count": 25,
     "metadata": {},
     "output_type": "execute_result"
    }
   ],
   "source": [
    "get(f\"{BASE_URL}/models/{MODEL_ID}/named_opis\").json()"
   ]
  },
  {
   "attachments": {},
   "cell_type": "markdown",
   "metadata": {},
   "source": [
    "We can also run a query to get all the names of named `opo`s in the model."
   ]
  },
  {
   "cell_type": "code",
   "execution_count": 26,
   "metadata": {},
   "outputs": [
    {
     "data": {
      "text/plain": [
       "['s_n', 'i_n', 'r_n', 'scale', 's', 'i', 'r']"
      ]
     },
     "execution_count": 26,
     "metadata": {},
     "output_type": "execute_result"
    }
   ],
   "source": [
    "get(f\"{BASE_URL}/models/{MODEL_ID}/named_opos\").json()"
   ]
  },
  {
   "attachments": {},
   "cell_type": "markdown",
   "metadata": {},
   "source": [
    "We now also have preliminary support for converting the code graphs into AMR's. Where the example below is for a PetriNet version, as we ingested an SIR model. For RegNet's change PN -> RN"
   ]
  },
  {
   "cell_type": "code",
   "execution_count": 27,
   "metadata": {},
   "outputs": [
    {
     "data": {
      "text/plain": [
       "{'name': 'mathml model',\n",
       " 'schema': 'https://raw.githubusercontent.com/DARPA-ASKEM/Model-Representations/petrinet_v0.1/petrinet/petrinet_schema.json',\n",
       " 'schema_name': 'PetriNet',\n",
       " 'description': 'This is a model from mathml equations',\n",
       " 'model_version': '0.1',\n",
       " 'model': {'states': [{'id': 'i', 'name': 'i'},\n",
       "   {'id': 'r', 'name': 'r'},\n",
       "   {'id': 's', 'name': 's'}],\n",
       "  'transitions': [{'id': 'beta',\n",
       "    'input': ['i', 's'],\n",
       "    'output': ['i', 'i'],\n",
       "    'grounding': None},\n",
       "   {'id': 'gamma', 'input': ['i'], 'output': ['r'], 'grounding': None}]}}"
      ]
     },
     "execution_count": 27,
     "metadata": {},
     "output_type": "execute_result"
    }
   ],
   "source": [
    "get(f\"{BASE_URL}/models/{MODEL_ID}/PN\").json()"
   ]
  },
  {
   "attachments": {},
   "cell_type": "markdown",
   "metadata": {},
   "source": [
    "Finally, we demonstrate the API endpoint for deleting a model."
   ]
  },
  {
   "cell_type": "code",
   "execution_count": 28,
   "metadata": {},
   "outputs": [
    {
     "data": {
      "text/plain": [
       "'Model deleted'"
      ]
     },
     "execution_count": 28,
     "metadata": {},
     "output_type": "execute_result"
    }
   ],
   "source": [
    "delete(f\"{BASE_URL}/models/{MODEL_ID}\").text"
   ]
  },
  {
   "attachments": {},
   "cell_type": "markdown",
   "metadata": {},
   "source": [
    "Get the IDs of all the models in the database again to check that the model has been deleted."
   ]
  },
  {
   "cell_type": "code",
   "execution_count": 29,
   "metadata": {},
   "outputs": [
    {
     "data": {
      "text/plain": [
       "[2233, 2328, 2423, 2518]"
      ]
     },
     "execution_count": 29,
     "metadata": {},
     "output_type": "execute_result"
    }
   ],
   "source": [
    "get(f\"{BASE_URL}/models\").json()"
   ]
  },
  {
   "attachments": {},
   "cell_type": "markdown",
   "metadata": {},
   "source": [
    "There is also support for converting mathml into AMR's, either PetriNets or RegNets again. Below is for regnets using lotka voltera mathml"
   ]
  },
  {
   "cell_type": "code",
   "execution_count": 63,
   "metadata": {},
   "outputs": [
    {
     "name": "stdout",
     "output_type": "stream",
     "text": [
      "[\"<math><mrow><mfrac><mrow><mi>d</mi><mi>x</mi></mrow><mrow><mi>d</mi><mi>t</mi></mrow></mfrac><mo>=</mo><mi>alpha</mi><mi>x</mi><mo>-</mo><mi>beta</mi><mi>x</mi><mi>y</mi></mrow></math>\", \"<math><mrow><mfrac><mrow><mi>d</mi><mi>y</mi></mrow><mrow><mi>d</mi><mi>t</mi></mrow></mfrac><mo>=</mo><mi>delta</mi><mi>x</mi><mi>y</mi><mo>-</mo><mi>gamma</mi><mi>y</mi></mrow></math>\"]\n"
     ]
    },
    {
     "data": {
      "text/plain": [
       "{'name': 'Regnet mathml model',\n",
       " 'schema': 'https://raw.githubusercontent.com/DARPA-ASKEM/Model-Representations/regnet_v0.1/regnet/regnet_schema.json',\n",
       " 'schema_name': 'regnet',\n",
       " 'description': 'This is a Regnet model from mathml equations',\n",
       " 'model_version': '0.1',\n",
       " 'model': {'vertices': [{'id': 'x',\n",
       "    'name': 'x',\n",
       "    'rate_constant': 'alpha',\n",
       "    'sign': True},\n",
       "   {'id': 'y', 'name': 'y', 'rate_constant': 'gamma', 'sign': False}],\n",
       "  'edges': [{'id': 'beta',\n",
       "    'source': ['y'],\n",
       "    'target': ['x'],\n",
       "    'sign': False,\n",
       "    'grounding': None,\n",
       "    'properties': {'rate_constant': 'beta'}},\n",
       "   {'id': 'delta',\n",
       "    'source': ['x'],\n",
       "    'target': ['y'],\n",
       "    'sign': True,\n",
       "    'grounding': None,\n",
       "    'properties': {'rate_constant': 'delta'}}]}}"
      ]
     },
     "execution_count": 63,
     "metadata": {},
     "output_type": "execute_result"
    }
   ],
   "source": [
    "mathml_vec = []\n",
    "\n",
    "with open(\"data/lotka_voltera/mml_list.txt\") as file:\n",
    "    for line in file:\n",
    "        mathml_vec.append(line.rstrip())\n",
    "\n",
    "print(json.dumps(mathml_vec))\n",
    "\n",
    "headers = {\n",
    "    \"Content-Type\": \"application/json\"\n",
    "}\n",
    "\n",
    "r = put(f\"{BASE_URL}/mathml/regnet\", data=json.dumps(mathml_vec), headers=headers)\n",
    "r.json()"
   ]
  },
  {
   "attachments": {},
   "cell_type": "markdown",
   "metadata": {},
   "source": [
    "We can also generate for a petrinet, below is an example with sir mathml"
   ]
  },
  {
   "cell_type": "code",
   "execution_count": 64,
   "metadata": {},
   "outputs": [
    {
     "name": "stdout",
     "output_type": "stream",
     "text": [
      "[\"<math display=\\\"block\\\" style=\\\"display:inline-block;\\\"><mrow><mfrac><mrow><mi>d</mi><mi>S</mi></mrow><mrow><mi>d</mi><mi>t</mi></mrow></mfrac><mo>=</mo><mo>\\u2212</mo><mi>\\u03b2</mi><mi>S</mi><mi>I</mi></mrow></math>\", \"<math display=\\\"block\\\" style=\\\"display:inline-block;\\\"><mrow><mfrac><mrow><mi>d</mi><mi>I</mi></mrow><mrow><mi>d</mi><mi>t</mi></mrow></mfrac><mo>=</mo><mi>\\u03b2</mi><mi>S</mi><mi>I</mi><mo>\\u2212</mo><mi>\\u03b3</mi><mi>I</mi></mrow></math>\", \"<math display=\\\"block\\\" style=\\\"display:inline-block;\\\"><mrow><mfrac><mrow><mi>d</mi><mi>R</mi></mrow><mrow><mi>d</mi><mi>t</mi></mrow></mfrac><mo>=</mo><mi>\\u03b3</mi><mi>I</mi></mrow></math>\"]\n"
     ]
    },
    {
     "data": {
      "text/plain": [
       "{'name': 'mathml model',\n",
       " 'schema': 'https://raw.githubusercontent.com/DARPA-ASKEM/Model-Representations/petrinet_v0.1/petrinet/petrinet_schema.json',\n",
       " 'schema_name': 'PetriNet',\n",
       " 'description': 'This is a model from mathml equations',\n",
       " 'model_version': '0.1',\n",
       " 'model': {'states': [{'id': 'I', 'name': 'I'},\n",
       "   {'id': 'R', 'name': 'R'},\n",
       "   {'id': 'S', 'name': 'S'}],\n",
       "  'transitions': [{'id': 'β',\n",
       "    'input': ['I', 'S'],\n",
       "    'output': ['I', 'I'],\n",
       "    'grounding': None},\n",
       "   {'id': 'γ', 'input': ['I'], 'output': ['R'], 'grounding': None}]}}"
      ]
     },
     "execution_count": 64,
     "metadata": {},
     "output_type": "execute_result"
    }
   ],
   "source": [
    "mathml_vec = []\n",
    "\n",
    "with open(\"data/simple_sir_v1/mml_list.txt\") as file:\n",
    "    for line in file:\n",
    "        mathml_vec.append(line.rstrip())\n",
    "\n",
    "print(json.dumps(mathml_vec))\n",
    "\n",
    "headers = {\n",
    "    \"Content-Type\": \"application/json\"\n",
    "}\n",
    "\n",
    "r = put(f\"{BASE_URL}/mathml/petrinet\", data=json.dumps(mathml_vec), headers=headers)\n",
    "r.json()"
   ]
  },
  {
   "attachments": {},
   "cell_type": "markdown",
   "metadata": {},
   "source": [
    "Lastly we also have support to route the mathml based on the model type if given as json object as the following:"
   ]
  },
  {
   "cell_type": "code",
   "execution_count": 65,
   "metadata": {},
   "outputs": [
    {
     "name": "stdout",
     "output_type": "stream",
     "text": [
      "{\n",
      "    \"mathml\": [\n",
      "        \"<math><mrow><mfrac><mrow><mi>d</mi><mi>x</mi></mrow><mrow><mi>d</mi><mi>t</mi></mrow></mfrac><mo>=</mo><mi>alpha</mi><mi>x</mi><mo>-</mo><mi>beta</mi><mi>x</mi><mi>y</mi></mrow></math>\",\n",
      "        \"<math><mrow><mfrac><mrow><mi>d</mi><mi>y</mi></mrow><mrow><mi>d</mi><mi>t</mi></mrow></mfrac><mo>=</mo><mi>delta</mi><mi>x</mi><mi>y</mi><mo>-</mo><mi>gamma</mi><mi>y</mi></mrow></math>\"\n",
      "    ],\n",
      "    \"model\": \"regnet\"\n",
      "}\n"
     ]
    },
    {
     "data": {
      "text/plain": [
       "{'name': 'Regnet mathml model',\n",
       " 'schema': 'https://raw.githubusercontent.com/DARPA-ASKEM/Model-Representations/regnet_v0.1/regnet/regnet_schema.json',\n",
       " 'schema_name': 'regnet',\n",
       " 'description': 'This is a Regnet model from mathml equations',\n",
       " 'model_version': '0.1',\n",
       " 'model': {'vertices': [{'id': 'y',\n",
       "    'name': 'y',\n",
       "    'rate_constant': 'gamma',\n",
       "    'sign': False},\n",
       "   {'id': 'x', 'name': 'x', 'rate_constant': 'alpha', 'sign': True}],\n",
       "  'edges': [{'id': 'delta',\n",
       "    'source': ['x'],\n",
       "    'target': ['y'],\n",
       "    'sign': True,\n",
       "    'grounding': None,\n",
       "    'properties': {'rate_constant': 'delta'}},\n",
       "   {'id': 'beta',\n",
       "    'source': ['y'],\n",
       "    'target': ['x'],\n",
       "    'sign': False,\n",
       "    'grounding': None,\n",
       "    'properties': {'rate_constant': 'beta'}}]}}"
      ]
     },
     "execution_count": 65,
     "metadata": {},
     "output_type": "execute_result"
    }
   ],
   "source": [
    "class MathmlModel:\n",
    "    def __init__(self, mathml, model):\n",
    "        self.mathml = mathml\n",
    "        self.model = model\n",
    "    def toJSON(self):\n",
    "        return json.dumps(self, default=lambda o: o.__dict__, \n",
    "            sort_keys=True, indent=4)\n",
    "\n",
    "mathml_vec = []\n",
    "\n",
    "with open(\"data/lotka_voltera/mml_list.txt\") as file:\n",
    "    for line in file:\n",
    "        mathml_vec.append(line.rstrip())\n",
    "\n",
    "lotka_voltera = MathmlModel(mathml_vec, \"regnet\")\n",
    "\n",
    "headers = {\n",
    "    \"Content-Type\": \"application/json\"\n",
    "}\n",
    "\n",
    "print(lotka_voltera.toJSON())\n",
    "\n",
    "r = put(f\"{BASE_URL}/mathml/amr\", data=lotka_voltera.toJSON(), headers=headers)\n",
    "r.json()"
   ]
  }
 ],
 "metadata": {
  "kernelspec": {
   "display_name": "Python 3 (ipykernel)",
   "language": "python",
   "name": "python3"
  },
  "language_info": {
   "codemirror_mode": {
    "name": "ipython",
    "version": 3
   },
   "file_extension": ".py",
   "mimetype": "text/x-python",
   "name": "python",
   "nbconvert_exporter": "python",
   "pygments_lexer": "ipython3",
   "version": "3.8.2"
  },
  "varInspector": {
   "cols": {
    "lenName": 16,
    "lenType": 16,
    "lenVar": 40
   },
   "kernels_config": {
    "python": {
     "delete_cmd_postfix": "",
     "delete_cmd_prefix": "del ",
     "library": "var_list.py",
     "varRefreshCmd": "print(var_dic_list())"
    },
    "r": {
     "delete_cmd_postfix": ") ",
     "delete_cmd_prefix": "rm(",
     "library": "var_list.r",
     "varRefreshCmd": "cat(var_dic_list()) "
    }
   },
   "types_to_exclude": [
    "module",
    "function",
    "builtin_function_or_method",
    "instance",
    "_Feature"
   ],
   "window_display": false
  },
  "vscode": {
   "interpreter": {
    "hash": "7a792fcb311f9eb9f3c1b942a8c87ada8484712b89b670347c16a1088e0a1f69"
   }
  }
 },
 "nbformat": 4,
 "nbformat_minor": 2
}
