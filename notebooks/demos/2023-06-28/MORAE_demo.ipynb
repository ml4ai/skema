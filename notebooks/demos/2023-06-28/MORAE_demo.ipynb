{
 "cells": [
  {
   "attachments": {},
   "cell_type": "markdown",
   "metadata": {},
   "source": [
    "# SKEMA-TA1-UAZ-MORAE Demo (2022-12-08)\n",
    "\n",
    "**Authors**: Justin Lieffers, Liang Zhang, Deepsana Shahi, Adarsh Pyarelal, Clayton Morrison"
   ]
  },
  {
   "cell_type": "code",
   "execution_count": 3,
   "metadata": {},
   "outputs": [],
   "source": [
    "# Set the base URL\n",
    "BASE_URL=\"http://localhost:8080\""
   ]
  },
  {
   "cell_type": "code",
   "execution_count": 4,
   "metadata": {},
   "outputs": [
    {
     "data": {
      "text/html": [
       "\n",
       "        <iframe\n",
       "            width=\"700\"\n",
       "            height=\"350\"\n",
       "            src=\"http://localhost:8080/docs/\"\n",
       "            frameborder=\"0\"\n",
       "            allowfullscreen\n",
       "            \n",
       "        ></iframe>\n",
       "        "
      ],
      "text/plain": [
       "<IPython.lib.display.IFrame at 0x10c34ceb0>"
      ]
     },
     "execution_count": 4,
     "metadata": {},
     "output_type": "execute_result"
    }
   ],
   "source": [
    "from IPython.display import IFrame\n",
    "IFrame(f\"{BASE_URL}/docs/\", width=700, height=350)"
   ]
  },
  {
   "attachments": {},
   "cell_type": "markdown",
   "metadata": {},
   "source": [
    "## Model role identification\n",
    "\n",
    "One of the prerequisites for model role identification is the ability to efficiently query GroMEts, including path traversal queries. For this reason, we have adopted a graph database backend for storing the structure inherent in GroMEt JSON files, along with additional metadata to speed up queries.\n",
    "\n",
    "Below, we demonstrate how to interact with this database using our REST API.\n",
    "\n",
    "First, we perform our imports and set the base URL"
   ]
  },
  {
   "cell_type": "code",
   "execution_count": 5,
   "metadata": {
    "scrolled": true
   },
   "outputs": [
    {
     "name": "stderr",
     "output_type": "stream",
     "text": [
      "/Users/lieffers/Library/Python/3.8/lib/python/site-packages/urllib3/__init__.py:34: NotOpenSSLWarning: urllib3 v2.0 only supports OpenSSL 1.1.1+, currently the 'ssl' module is compiled with 'LibreSSL 2.8.3'. See: https://github.com/urllib3/urllib3/issues/3020\n",
      "  warnings.warn(\n"
     ]
    }
   ],
   "source": [
    "import json\n",
    "from requests import get, put, post, delete"
   ]
  },
  {
   "attachments": {},
   "cell_type": "markdown",
   "metadata": {},
   "source": [
    "Then, we check if the service is running."
   ]
  },
  {
   "cell_type": "code",
   "execution_count": 18,
   "metadata": {
    "scrolled": true
   },
   "outputs": [
    {
     "data": {
      "text/plain": [
       "'The SKEMA Rust web services are running.'"
      ]
     },
     "execution_count": 18,
     "metadata": {},
     "output_type": "execute_result"
    }
   ],
   "source": [
    "get(f\"{BASE_URL}/ping\").text"
   ]
  },
  {
   "attachments": {},
   "cell_type": "markdown",
   "metadata": {},
   "source": [
    "We now have functionality to ingest GroMEt JSON files `sir_core--Gromet-FN-auto.json` and return AMR JSONs. There exists endpoints for PetriNets (PN) and RegNets (RN).\n",
    "\n",
    "These are currently \"barebones\" AMR's in that it just has the structural data, but are something to build and expand on. "
   ]
  },
  {
   "cell_type": "code",
   "execution_count": 13,
   "metadata": {},
   "outputs": [
    {
     "data": {
      "text/plain": [
       "{'name': 'mathml model',\n",
       " 'schema': 'https://raw.githubusercontent.com/DARPA-ASKEM/Model-Representations/petrinet_v0.1/petrinet/petrinet_schema.json',\n",
       " 'schema_name': 'PetriNet',\n",
       " 'description': 'This is a model from mathml equations',\n",
       " 'model_version': '0.1',\n",
       " 'model': {'states': [{'id': 'i', 'name': 'i'},\n",
       "   {'id': 'r', 'name': 'r'},\n",
       "   {'id': 's', 'name': 's'}],\n",
       "  'transitions': [{'id': 'beta',\n",
       "    'input': ['i', 's'],\n",
       "    'output': ['i', 'i'],\n",
       "    'grounding': None},\n",
       "   {'id': 'gamma', 'input': ['i'], 'output': ['r'], 'grounding': None}]}}"
      ]
     },
     "execution_count": 13,
     "metadata": {},
     "output_type": "execute_result"
    }
   ],
   "source": [
    "with open('data/sir_core--Gromet-FN-auto.json') as f:\n",
    "    r = put(f\"{BASE_URL}/models/PN\", json=json.load(f))\n",
    "r.json()"
   ]
  },
  {
   "attachments": {},
   "cell_type": "markdown",
   "metadata": {},
   "source": [
    "There is also support for converting mathml into AMR's, either PetriNets or RegNets again. Once again only \"barebones\" AMR's immediately. \n",
    "\n",
    "Below is for regnets using lotka voltera mathml"
   ]
  },
  {
   "cell_type": "code",
   "execution_count": 11,
   "metadata": {},
   "outputs": [
    {
     "name": "stdout",
     "output_type": "stream",
     "text": [
      "[\"<math><mrow><mfrac><mrow><mi>d</mi><mi>x</mi></mrow><mrow><mi>d</mi><mi>t</mi></mrow></mfrac><mo>=</mo><mi>alpha</mi><mi>x</mi><mo>-</mo><mi>beta</mi><mi>x</mi><mi>y</mi></mrow></math>\", \"<math><mrow><mfrac><mrow><mi>d</mi><mi>y</mi></mrow><mrow><mi>d</mi><mi>t</mi></mrow></mfrac><mo>=</mo><mi>delta</mi><mi>x</mi><mi>y</mi><mo>-</mo><mi>gamma</mi><mi>y</mi></mrow></math>\"]\n"
     ]
    },
    {
     "data": {
      "text/plain": [
       "{'name': 'Regnet mathml model',\n",
       " 'schema': 'https://raw.githubusercontent.com/DARPA-ASKEM/Model-Representations/regnet_v0.1/regnet/regnet_schema.json',\n",
       " 'schema_name': 'regnet',\n",
       " 'description': 'This is a Regnet model from mathml equations',\n",
       " 'model_version': '0.1',\n",
       " 'model': {'vertices': [{'id': 'x',\n",
       "    'name': 'x',\n",
       "    'rate_constant': 'alpha',\n",
       "    'sign': True},\n",
       "   {'id': 'y', 'name': 'y', 'rate_constant': 'gamma', 'sign': False}],\n",
       "  'edges': [{'id': 'beta',\n",
       "    'source': ['y'],\n",
       "    'target': ['x'],\n",
       "    'sign': False,\n",
       "    'grounding': None,\n",
       "    'properties': {'rate_constant': 'beta'}},\n",
       "   {'id': 'delta',\n",
       "    'source': ['x'],\n",
       "    'target': ['y'],\n",
       "    'sign': True,\n",
       "    'grounding': None,\n",
       "    'properties': {'rate_constant': 'delta'}}]}}"
      ]
     },
     "execution_count": 11,
     "metadata": {},
     "output_type": "execute_result"
    }
   ],
   "source": [
    "mathml_vec = []\n",
    "\n",
    "with open(\"data/lotka_voltera/mml_list.txt\") as file:\n",
    "    for line in file:\n",
    "        mathml_vec.append(line.rstrip())\n",
    "\n",
    "print(json.dumps(mathml_vec))\n",
    "\n",
    "headers = {\n",
    "    \"Content-Type\": \"application/json\"\n",
    "}\n",
    "\n",
    "r = put(f\"{BASE_URL}/mathml/regnet\", data=json.dumps(mathml_vec), headers=headers)\n",
    "r.json()"
   ]
  },
  {
   "attachments": {},
   "cell_type": "markdown",
   "metadata": {},
   "source": [
    "We can also generate for a petrinet, below is an example with sir mathml"
   ]
  },
  {
   "cell_type": "code",
   "execution_count": 16,
   "metadata": {},
   "outputs": [
    {
     "name": "stdout",
     "output_type": "stream",
     "text": [
      "[\"<math display=\\\"block\\\" style=\\\"display:inline-block;\\\"><mrow><mfrac><mrow><mi>d</mi><mi>S</mi></mrow><mrow><mi>d</mi><mi>t</mi></mrow></mfrac><mo>=</mo><mo>\\u2212</mo><mi>\\u03b2</mi><mi>S</mi><mi>I</mi></mrow></math>\", \"<math display=\\\"block\\\" style=\\\"display:inline-block;\\\"><mrow><mfrac><mrow><mi>d</mi><mi>I</mi></mrow><mrow><mi>d</mi><mi>t</mi></mrow></mfrac><mo>=</mo><mi>\\u03b2</mi><mi>S</mi><mi>I</mi><mo>\\u2212</mo><mi>\\u03b3</mi><mi>I</mi></mrow></math>\", \"<math display=\\\"block\\\" style=\\\"display:inline-block;\\\"><mrow><mfrac><mrow><mi>d</mi><mi>R</mi></mrow><mrow><mi>d</mi><mi>t</mi></mrow></mfrac><mo>=</mo><mi>\\u03b3</mi><mi>I</mi></mrow></math>\"]\n"
     ]
    },
    {
     "data": {
      "text/plain": [
       "{'name': 'mathml model',\n",
       " 'schema': 'https://raw.githubusercontent.com/DARPA-ASKEM/Model-Representations/petrinet_v0.1/petrinet/petrinet_schema.json',\n",
       " 'schema_name': 'PetriNet',\n",
       " 'description': 'This is a model from mathml equations',\n",
       " 'model_version': '0.1',\n",
       " 'model': {'states': [{'id': 'I', 'name': 'I'},\n",
       "   {'id': 'R', 'name': 'R'},\n",
       "   {'id': 'S', 'name': 'S'}],\n",
       "  'transitions': [{'id': 'β',\n",
       "    'input': ['I', 'S'],\n",
       "    'output': ['I', 'I'],\n",
       "    'grounding': None},\n",
       "   {'id': 'γ', 'input': ['I'], 'output': ['R'], 'grounding': None}]}}"
      ]
     },
     "execution_count": 16,
     "metadata": {},
     "output_type": "execute_result"
    }
   ],
   "source": [
    "mathml_vec = []\n",
    "\n",
    "with open(\"data/simple_sir_v1/mml_list.txt\") as file:\n",
    "    for line in file:\n",
    "        mathml_vec.append(line.rstrip())\n",
    "\n",
    "print(json.dumps(mathml_vec))\n",
    "\n",
    "headers = {\n",
    "    \"Content-Type\": \"application/json\"\n",
    "}\n",
    "\n",
    "r = put(f\"{BASE_URL}/mathml/petrinet\", data=json.dumps(mathml_vec), headers=headers)\n",
    "r.json()"
   ]
  },
  {
   "attachments": {},
   "cell_type": "markdown",
   "metadata": {},
   "source": [
    "Lastly we also have support to route the mathml based on the model type if given as json object as the following:"
   ]
  },
  {
   "cell_type": "code",
   "execution_count": 17,
   "metadata": {},
   "outputs": [
    {
     "name": "stdout",
     "output_type": "stream",
     "text": [
      "{\n",
      "    \"mathml\": [\n",
      "        \"<math><mrow><mfrac><mrow><mi>d</mi><mi>x</mi></mrow><mrow><mi>d</mi><mi>t</mi></mrow></mfrac><mo>=</mo><mi>alpha</mi><mi>x</mi><mo>-</mo><mi>beta</mi><mi>x</mi><mi>y</mi></mrow></math>\",\n",
      "        \"<math><mrow><mfrac><mrow><mi>d</mi><mi>y</mi></mrow><mrow><mi>d</mi><mi>t</mi></mrow></mfrac><mo>=</mo><mi>delta</mi><mi>x</mi><mi>y</mi><mo>-</mo><mi>gamma</mi><mi>y</mi></mrow></math>\"\n",
      "    ],\n",
      "    \"model\": \"regnet\"\n",
      "}\n"
     ]
    },
    {
     "data": {
      "text/plain": [
       "{'name': 'Regnet mathml model',\n",
       " 'schema': 'https://raw.githubusercontent.com/DARPA-ASKEM/Model-Representations/regnet_v0.1/regnet/regnet_schema.json',\n",
       " 'schema_name': 'regnet',\n",
       " 'description': 'This is a Regnet model from mathml equations',\n",
       " 'model_version': '0.1',\n",
       " 'model': {'vertices': [{'id': 'x',\n",
       "    'name': 'x',\n",
       "    'rate_constant': 'alpha',\n",
       "    'sign': True},\n",
       "   {'id': 'y', 'name': 'y', 'rate_constant': 'gamma', 'sign': False}],\n",
       "  'edges': [{'id': 'beta',\n",
       "    'source': ['y'],\n",
       "    'target': ['x'],\n",
       "    'sign': False,\n",
       "    'grounding': None,\n",
       "    'properties': {'rate_constant': 'beta'}},\n",
       "   {'id': 'delta',\n",
       "    'source': ['x'],\n",
       "    'target': ['y'],\n",
       "    'sign': True,\n",
       "    'grounding': None,\n",
       "    'properties': {'rate_constant': 'delta'}}]}}"
      ]
     },
     "execution_count": 17,
     "metadata": {},
     "output_type": "execute_result"
    }
   ],
   "source": [
    "class MathmlModel:\n",
    "    def __init__(self, mathml, model):\n",
    "        self.mathml = mathml\n",
    "        self.model = model\n",
    "    def toJSON(self):\n",
    "        return json.dumps(self, default=lambda o: o.__dict__, \n",
    "            sort_keys=True, indent=4)\n",
    "\n",
    "mathml_vec = []\n",
    "\n",
    "with open(\"data/lotka_voltera/mml_list.txt\") as file:\n",
    "    for line in file:\n",
    "        mathml_vec.append(line.rstrip())\n",
    "\n",
    "lotka_voltera = MathmlModel(mathml_vec, \"regnet\")\n",
    "\n",
    "headers = {\n",
    "    \"Content-Type\": \"application/json\"\n",
    "}\n",
    "\n",
    "print(lotka_voltera.toJSON())\n",
    "\n",
    "r = put(f\"{BASE_URL}/mathml/amr\", data=lotka_voltera.toJSON(), headers=headers)\n",
    "r.json()"
   ]
  }
 ],
 "metadata": {
  "kernelspec": {
   "display_name": "Python 3 (ipykernel)",
   "language": "python",
   "name": "python3"
  },
  "language_info": {
   "codemirror_mode": {
    "name": "ipython",
    "version": 3
   },
   "file_extension": ".py",
   "mimetype": "text/x-python",
   "name": "python",
   "nbconvert_exporter": "python",
   "pygments_lexer": "ipython3",
   "version": "3.8.2"
  },
  "varInspector": {
   "cols": {
    "lenName": 16,
    "lenType": 16,
    "lenVar": 40
   },
   "kernels_config": {
    "python": {
     "delete_cmd_postfix": "",
     "delete_cmd_prefix": "del ",
     "library": "var_list.py",
     "varRefreshCmd": "print(var_dic_list())"
    },
    "r": {
     "delete_cmd_postfix": ") ",
     "delete_cmd_prefix": "rm(",
     "library": "var_list.r",
     "varRefreshCmd": "cat(var_dic_list()) "
    }
   },
   "types_to_exclude": [
    "module",
    "function",
    "builtin_function_or_method",
    "instance",
    "_Feature"
   ],
   "window_display": false
  },
  "vscode": {
   "interpreter": {
    "hash": "7a792fcb311f9eb9f3c1b942a8c87ada8484712b89b670347c16a1088e0a1f69"
   }
  }
 },
 "nbformat": 4,
 "nbformat_minor": 2
}
