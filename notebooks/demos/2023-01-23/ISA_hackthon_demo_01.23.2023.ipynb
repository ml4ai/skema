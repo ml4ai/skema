{
 "cells": [
  {
   "cell_type": "markdown",
   "metadata": {
    "pycharm": {
     "name": "#%%\n"
    }
   },
   "source": [
    "# SKEMA-TA2-UAZ Incremental Structral Alignment Demo (2023-01-23)\n",
    "\n",
    "**Authors**: Liang Zhang, Adarsh Pyarelal, Clayton Morrison"
   ]
  },
  {
   "cell_type": "markdown",
   "metadata": {
    "pycharm": {
     "name": "#%%\n"
    }
   },
   "source": [
    "Pipeline: PDF document -> Equation images -> MathML representation -> *Graph representation -> *Equation alignment\n",
    "\n",
    "\\* What we implement in this demo\n",
    "\n",
    "The overall goals of this demo are:\n",
    "- Convert MathML representation to graph represention\n",
    "- Align two equations and return the matching ratio and the varible alignment result\n",
    "\n",
    "Swagger docs for the REST API can be found at http://localhost:8080/docs/\n",
    "\n",
    "## Incremental structural alignment\n",
    "\n",
    "**A quick review**: We proposed using seeded graph matching (SGM) to achieve incremental structural alignment (ISA) of equations. At a high level, the procedure is as follows:\n",
    "\n",
    "1. Create a graph representation based on the MathML input.\n",
    "2. Construct the adjacency matrices corresponding to the above graph representations. \n",
    "3. Apply the SGM algorithm with the two adjacency matrices as inputs.\n"
   ]
  },
  {
   "cell_type": "markdown",
   "metadata": {},
   "source": [
    "* Please apply 'pip install requests pydot graspologic' if you don't have them installed in your machine.\n",
    "\n",
    "We will align the core equations from SEIR and SEIRD+V as an example."
   ]
  },
  {
   "cell_type": "code",
   "execution_count": 1,
   "metadata": {},
   "outputs": [],
   "source": [
    "from IPython.display import Image"
   ]
  },
  {
   "cell_type": "code",
   "execution_count": 2,
   "metadata": {
    "pycharm": {
     "name": "#%%\n"
    }
   },
   "outputs": [
    {
     "data": {
      "text/html": [
       "<img src=\"data/seir_core.png\" width=\"200\" height=\"200\"/>"
      ],
      "text/plain": [
       "<IPython.core.display.Image object>"
      ]
     },
     "execution_count": 2,
     "metadata": {},
     "output_type": "execute_result"
    }
   ],
   "source": [
    "Image(url=\"data/seir_core.png\", width=200, height=200) # Human in the loop: identify the core of SEIR"
   ]
  },
  {
   "cell_type": "code",
   "execution_count": 3,
   "metadata": {
    "pycharm": {
     "name": "#%%\n"
    }
   },
   "outputs": [
    {
     "data": {
      "text/html": [
       "<img src=\"data/seirdv_core.png\" width=\"200\" height=\"200\"/>"
      ],
      "text/plain": [
       "<IPython.core.display.Image object>"
      ]
     },
     "execution_count": 3,
     "metadata": {},
     "output_type": "execute_result"
    }
   ],
   "source": [
    "Image(url=\"data/seirdv_core.png\", width=200, height=200) # Human in the loop: identify the core of SEIRD+V"
   ]
  },
  {
   "cell_type": "code",
   "execution_count": 4,
   "metadata": {},
   "outputs": [],
   "source": [
    "# -*- coding: utf-8 -*\n",
    "import warnings\n",
    "warnings.filterwarnings('ignore')\n",
    "import requests\n",
    "import pydot\n",
    "import numpy as np\n",
    "from graspologic.match import graph_match\n",
    "from graphviz import Source"
   ]
  },
  {
   "cell_type": "code",
   "execution_count": 5,
   "metadata": {},
   "outputs": [],
   "source": [
    "np.random.seed(1)\n",
    "rng = np.random.default_rng(1)"
   ]
  },
  {
   "cell_type": "markdown",
   "metadata": {},
   "source": [
    "Operator encodings in adjacency matrix"
   ]
  },
  {
   "cell_type": "code",
   "execution_count": 6,
   "metadata": {},
   "outputs": [],
   "source": [
    "op_dict = {\"+\": 1, \"-\": 2, \"*\": 3, \"/\": 4, \"=\": 5, \"√\": 6}"
   ]
  },
  {
   "cell_type": "markdown",
   "metadata": {},
   "source": [
    "Call the graph generation API"
   ]
  },
  {
   "cell_type": "code",
   "execution_count": 7,
   "metadata": {},
   "outputs": [],
   "source": [
    "def generate_graph(file=\"seir_eq1.xml\", render=False):\n",
    "    if '<math>' in file and '</math>' in file:\n",
    "        content = file\n",
    "    else:\n",
    "        with open(\"data/\" + file) as f:\n",
    "            content = f.read()\n",
    "\n",
    "    digraph = requests.put('http://localhost:8080/mathml/math-exp-graph', data=content.encode('utf-8'))\n",
    "    if render:\n",
    "        src = Source(digraph.text)\n",
    "        src.render('doctest-output/mathml_exp_tree', view=True)\n",
    "    graph = pydot.graph_from_dot_data(str(digraph.text))[0]\n",
    "    return graph"
   ]
  },
  {
   "cell_type": "markdown",
   "metadata": {},
   "source": [
    "Generate adjacency matrix based on the graph representation"
   ]
  },
  {
   "cell_type": "code",
   "execution_count": 8,
   "metadata": {},
   "outputs": [],
   "source": [
    "def generate_amatrix(graph):\n",
    "    node_labels = []\n",
    "    for node in graph.get_nodes():\n",
    "        node_labels.append(node.obj_dict['attributes']['label'].replace('\"', ''))\n",
    "\n",
    "    amatrix = np.zeros((len(node_labels), len(node_labels)))\n",
    "\n",
    "    for edge in graph.get_edges():\n",
    "        x, y = edge.obj_dict['points']\n",
    "        label = edge.obj_dict['attributes']['label'].replace('\"', '')\n",
    "        amatrix[int(x)][int(y)] = op_dict[label] if label in op_dict else 7\n",
    "\n",
    "    return amatrix, node_labels"
   ]
  },
  {
   "cell_type": "markdown",
   "metadata": {},
   "source": [
    "Align two equations"
   ]
  },
  {
   "cell_type": "code",
   "execution_count": 9,
   "metadata": {
    "pycharm": {
     "name": "#%%\n"
    }
   },
   "outputs": [],
   "source": [
    "def align_mathml_eqs(file1, file2):\n",
    "    graph1 = generate_graph(file1)\n",
    "    graph2 = generate_graph(file2)\n",
    "\n",
    "    amatrix1, node_labels1 = generate_amatrix(graph1)\n",
    "    amatrix2, node_labels2 = generate_amatrix(graph2)\n",
    "\n",
    "    seed1 = [0, 1]\n",
    "    seed2 = [0, 1]\n",
    "    for i in range(2, len(node_labels1)):\n",
    "        for j in range(2, len(node_labels2)):\n",
    "            if node_labels1[i].lower() == node_labels2[j].lower():\n",
    "                seed1.append(i)\n",
    "                seed2.append(j)\n",
    "\n",
    "    partial_match = np.column_stack((seed1, seed2))\n",
    "\n",
    "    matched_indices1, matched_indices2, _, _ = graph_match(\n",
    "        amatrix1, amatrix2, partial_match=partial_match, padding=\"adopted\", rng=rng, max_iter=50\n",
    "    )\n",
    "\n",
    "    big_graph_idx = 0 if len(node_labels1) >= len(node_labels2) else 1\n",
    "    if big_graph_idx == 0:\n",
    "        big_graph = amatrix1\n",
    "        big_graph_matched_indices = matched_indices1\n",
    "        small_graph = amatrix2\n",
    "        small_graph_matched_indices = matched_indices2\n",
    "    else:\n",
    "        big_graph = amatrix2\n",
    "        big_graph_matched_indices = matched_indices2\n",
    "        small_graph = amatrix1\n",
    "        small_graph_matched_indices = matched_indices1\n",
    "\n",
    "    small_graph_aligned = small_graph[small_graph_matched_indices][:, small_graph_matched_indices]\n",
    "    small_graph_aligned_full = np.zeros(big_graph.shape)\n",
    "    small_graph_aligned_full[np.ix_(big_graph_matched_indices, big_graph_matched_indices)] = small_graph_aligned\n",
    "\n",
    "    num_edges = ((big_graph + small_graph_aligned_full) > 0).sum()\n",
    "    diff_edges = abs(big_graph - small_graph_aligned_full)\n",
    "    diff_edges[diff_edges > 0] = 1\n",
    "    num_diff_edges = np.sum(diff_edges)\n",
    "    matching_ratio = round(1 - (num_diff_edges / num_edges), 2)\n",
    "\n",
    "    long_len = len(node_labels1) if len(node_labels1) >= len(node_labels2) else len(node_labels2)\n",
    "    aligned_indices1 = np.zeros((long_len)) - 1\n",
    "    aligned_indices2 = np.zeros((long_len)) - 1\n",
    "    for i in range(long_len):\n",
    "        if i < len(node_labels1):\n",
    "            if i in matched_indices1:\n",
    "                aligned_indices1[i] = matched_indices2[np.where(matched_indices1 == i)[0][0]]\n",
    "                aligned_indices2[matched_indices2[np.where(matched_indices1 == i)[0][0]]] = i\n",
    "\n",
    "    return matching_ratio, node_labels1, node_labels2, aligned_indices1, aligned_indices2"
   ]
  },
  {
   "cell_type": "markdown",
   "metadata": {},
   "source": [
    "Visualize the graph of the derivative of S in the SEIR paper"
   ]
  },
  {
   "cell_type": "code",
   "execution_count": 10,
   "metadata": {},
   "outputs": [
    {
     "data": {
      "text/plain": [
       "<pydot.Dot at 0x7fc440a543d0>"
      ]
     },
     "execution_count": 10,
     "metadata": {},
     "output_type": "execute_result"
    }
   ],
   "source": [
    "generate_graph(\"seir_eq1.xml\", render=True)"
   ]
  },
  {
   "cell_type": "markdown",
   "metadata": {},
   "source": [
    "Visualize the graph of the derivative of S in the SEIRD+V paper"
   ]
  },
  {
   "cell_type": "code",
   "execution_count": 11,
   "metadata": {},
   "outputs": [
    {
     "data": {
      "text/plain": [
       "<pydot.Dot at 0x7fc4409fc550>"
      ]
     },
     "execution_count": 11,
     "metadata": {},
     "output_type": "execute_result"
    }
   ],
   "source": [
    "generate_graph(\"seirdv_eq2.xml\", render=True)"
   ]
  },
  {
   "cell_type": "markdown",
   "metadata": {},
   "source": [
    "Print the alignment results for the derivatives of S in the SEIR paper and in SEIRD+V"
   ]
  },
  {
   "cell_type": "code",
   "execution_count": 12,
   "metadata": {},
   "outputs": [
    {
     "name": "stdout",
     "output_type": "stream",
     "text": [
      "matching ratio: 100.0%\n",
      "Λ-μ*S-β*S*I/N<=====>ı-μ*S-β/N*I*S\n",
      "˙(S)<=====>derivative(s, t)\n",
      "Λ<=====>ı\n",
      "μ*S<=====>μ*S\n",
      "μ<=====>μ\n",
      "S<=====>S\n",
      "β*S*I/N<=====>β/N*I*S\n",
      "β<=====>β\n",
      "I<=====>I\n",
      "N<=====>N\n"
     ]
    }
   ],
   "source": [
    "matching_ratio, node_labels1, node_labels2, aligned_indices1, aligned_indices2 = align_mathml_eqs(\"seir_eq1.xml\", \"seirdv_eq2.xml\")\n",
    "\n",
    "print('matching ratio: ' + str(round(matching_ratio * 100, 2)) + '%')\n",
    "for i in range(len(node_labels1)):\n",
    "    if aligned_indices1[i] != -1:\n",
    "        print(str(node_labels1[i]) + '<=====>' + str(node_labels2[int(aligned_indices1[i])]))\n",
    "    else:\n",
    "        print(str(node_labels1[i]) + '<=====>missing')\n",
    "\n",
    "for i in range(len(node_labels2)):\n",
    "    if i not in aligned_indices1:\n",
    "        print('missing<=====>' + str(node_labels2[i]))"
   ]
  },
  {
   "cell_type": "markdown",
   "metadata": {},
   "source": [
    "Visualize the graph of the derivative of E in SEIRD+V"
   ]
  },
  {
   "cell_type": "code",
   "execution_count": 13,
   "metadata": {},
   "outputs": [
    {
     "data": {
      "text/plain": [
       "<pydot.Dot at 0x7fc489948b50>"
      ]
     },
     "execution_count": 13,
     "metadata": {},
     "output_type": "execute_result"
    }
   ],
   "source": [
    "generate_graph(\"seirdv_eq3.xml\", render=True)"
   ]
  },
  {
   "cell_type": "markdown",
   "metadata": {},
   "source": [
    "Print the alignment results for the derivative of S in the SEIR paper and the derivative of E in SEIRD+V"
   ]
  },
  {
   "cell_type": "code",
   "execution_count": 14,
   "metadata": {},
   "outputs": [
    {
     "name": "stdout",
     "output_type": "stream",
     "text": [
      "matching ratio: 36.0%\n",
      "Λ-μ*S-β*S*I/N<=====>β/N*I*S-(μ+ε)*E\n",
      "˙(S)<=====>derivative(E, t)\n",
      "Λ<=====>E\n",
      "μ*S<=====>μ+ε\n",
      "μ<=====>μ\n",
      "S<=====>S\n",
      "β*S*I/N<=====>β/N*I*S\n",
      "β<=====>β\n",
      "I<=====>I\n",
      "N<=====>N\n",
      "missing<=====>(μ+ε)*E\n",
      "missing<=====>ε\n"
     ]
    }
   ],
   "source": [
    "matching_ratio, node_labels1, node_labels2, aligned_indices1, aligned_indices2 = align_mathml_eqs(\"seir_eq1.xml\", \"seirdv_eq3.xml\")\n",
    "\n",
    "print('matching ratio: ' + str(round(matching_ratio * 100, 2)) + '%')\n",
    "for i in range(len(node_labels1)):\n",
    "    if aligned_indices1[i] != -1:\n",
    "        print(str(node_labels1[i]) + '<=====>' + str(node_labels2[int(aligned_indices1[i])]))\n",
    "    else:\n",
    "        print(str(node_labels1[i]) + '<=====>missing')\n",
    "\n",
    "for i in range(len(node_labels2)):\n",
    "    if i not in aligned_indices1:\n",
    "        print('missing<=====>' + str(node_labels2[i]))"
   ]
  },
  {
   "cell_type": "markdown",
   "metadata": {},
   "source": [
    "Therefore, based on the matching ratio, we can identify consistent equations in the two papers and align their variables, as well as identify several equations added in SEIRD+V that cannot be matched to any SEIR equations."
   ]
  },
  {
   "cell_type": "code",
   "execution_count": 15,
   "metadata": {},
   "outputs": [
    {
     "name": "stdout",
     "output_type": "stream",
     "text": [
      "Equation 1 <=====> Equation 2\n",
      "Equation 2 <=====> Equation 3\n",
      "Equation 3 <=====> Equation 4\n",
      "Equation 4 <=====> Equation 5\n",
      "missing <=====> Equation 1\n",
      "missing <=====> Equation 6\n",
      "missing <=====> Equation 7\n"
     ]
    }
   ],
   "source": [
    "seir_eq_files = ['seir_eq1.xml', 'seir_eq2.xml', 'seir_eq3.xml', 'seir_eq4.xml']\n",
    "seirdv_eq_files = ['seirdv_eq1.xml', 'seirdv_eq2.xml', 'seirdv_eq3.xml', 'seirdv_eq4.xml', 'seirdv_eq5.xml',\n",
    "                   'seirdv_eq6.xml', 'seirdv_eq7.xml']\n",
    "\n",
    "paper_1_missing_eqs = [i for i in range(len(seir_eq_files))]\n",
    "paper_2_missing_eqs = [i for i in range(len(seirdv_eq_files))]\n",
    "for i in range(len(seir_eq_files)):\n",
    "    for j in range(len(seirdv_eq_files)):\n",
    "        matching_ratio, _, _, _, _ = align_mathml_eqs(\n",
    "            seir_eq_files[i], seirdv_eq_files[j])\n",
    "        if matching_ratio > 0.9:\n",
    "            print('Equation ' + str(i + 1) + ' <=====> Equation ' + str(j + 1))\n",
    "            paper_1_missing_eqs.remove(i)\n",
    "            paper_2_missing_eqs.remove(j)\n",
    "\n",
    "for p1 in paper_1_missing_eqs:\n",
    "    print('Equation ' + str(p1 + 1) + '<=====> missing')\n",
    "\n",
    "for p2 in paper_2_missing_eqs:\n",
    "    print('missing <=====> Equation ' + str(p2 + 1))"
   ]
  },
  {
   "cell_type": "code",
   "execution_count": null,
   "metadata": {},
   "outputs": [],
   "source": []
  }
 ],
 "metadata": {
  "kernelspec": {
   "display_name": "Python 3",
   "language": "python",
   "name": "python3"
  },
  "language_info": {
   "codemirror_mode": {
    "name": "ipython",
    "version": 3
   },
   "file_extension": ".py",
   "mimetype": "text/x-python",
   "name": "python",
   "nbconvert_exporter": "python",
   "pygments_lexer": "ipython3",
   "version": "3.7.9"
  }
 },
 "nbformat": 4,
 "nbformat_minor": 1
}