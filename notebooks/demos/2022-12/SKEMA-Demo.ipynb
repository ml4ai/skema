{
 "cells": [
  {
   "cell_type": "code",
   "execution_count": 2,
   "id": "28fbceab",
   "metadata": {},
   "outputs": [],
   "source": [
    "import sys"
   ]
  },
  {
   "cell_type": "code",
   "execution_count": 3,
   "id": "4d6dcb85",
   "metadata": {},
   "outputs": [
    {
     "data": {
      "text/plain": [
       "['/media/evo870/github/skema/notebooks/demos/2022-12',\n",
       " '/home/enrique/miniconda3/envs/automates2/lib/python310.zip',\n",
       " '/home/enrique/miniconda3/envs/automates2/lib/python3.10',\n",
       " '/home/enrique/miniconda3/envs/automates2/lib/python3.10/lib-dynload',\n",
       " '',\n",
       " '/home/enrique/.local/lib/python3.10/site-packages',\n",
       " '/home/enrique/miniconda3/envs/automates2/lib/python3.10/site-packages',\n",
       " '/home/enrique/miniconda3/envs/automates2/lib/python3.10/site-packages/PyQt5_sip-12.11.0-py3.10-linux-x86_64.egg',\n",
       " '/media/evo870/github/automates',\n",
       " '/home/enrique/miniconda3/envs/automates2/lib/python3.10/site-packages/mpmath-1.2.1-py3.10.egg']"
      ]
     },
     "execution_count": 3,
     "metadata": {},
     "output_type": "execute_result"
    }
   ],
   "source": [
    "sys.path.append(\"../\")"
   ]
  }
 ],
 "metadata": {
  "kernelspec": {
   "display_name": "Python 3 (ipykernel)",
   "language": "python",
   "name": "python3"
  },
  "language_info": {
   "codemirror_mode": {
    "name": "ipython",
    "version": 3
   },
   "file_extension": ".py",
   "mimetype": "text/x-python",
   "name": "python",
   "nbconvert_exporter": "python",
   "pygments_lexer": "ipython3",
   "version": "3.10.8"
  }
 },
 "nbformat": 4,
 "nbformat_minor": 5
}
