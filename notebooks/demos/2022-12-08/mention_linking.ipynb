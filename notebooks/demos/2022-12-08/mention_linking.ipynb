{
 "cells": [
  {
   "cell_type": "code",
   "execution_count": null,
   "id": "28fbceab",
   "metadata": {},
   "outputs": [],
   "source": [
    "# Imports\n",
    "\n",
    "import os\n",
    "from pprint import pprint\n",
    "from automates.utils.fold import dictionary_to_gromet_json, del_nulls\n",
    "from skema.text_reading.mention_linking.gromet_linker import align_and_link"
   ]
  },
  {
   "cell_type": "code",
   "execution_count": null,
   "id": "4d6dcb85",
   "metadata": {},
   "outputs": [],
   "source": [
    "# File paths (replace the data directory with your local version)\n",
    "data_directory = \"/media/evo870/github/skema/skema/text_reading/mention_linking/data\"\n",
    "\n",
    "gromet_path = os.path.join(data_directory, \"gromet\", \"CHIME_SIR--Gromet-FN-auto.json\")\n",
    "comments_path = os.path.join(data_directory, \"comments\", \"CHIME_SIR.json\")\n",
    "extractions_path = os.path.join(data_directory, \"extractions\", \"CHIME_SIR.json\")\n",
    "embeddings_path = os.path.join(data_directory, \"embeddings.kv\")"
   ]
  },
  {
   "cell_type": "code",
   "execution_count": null,
   "id": "cb1758b5",
   "metadata": {},
   "outputs": [],
   "source": [
    "# Call the linking procedure. It will align comments, then use them to link pre-computed text reading extractions\n",
    "linked_gromet = align_and_link(gromet_path, comments_path, extractions_path, embeddings_path)\n",
    "# Save linked gromet\n",
    "with open(\"linked_gromet.json\", 'w') as f:\n",
    "\tf.write(dictionary_to_gromet_json(del_nulls(linked_gromet.to_dict())))"
   ]
  },
  {
   "cell_type": "code",
   "execution_count": null,
   "id": "6ed075a1",
   "metadata": {},
   "outputs": [],
   "source": [
    "# Pretty pring\n",
    "pprint(linked_gromet)"
   ]
  }
 ],
 "metadata": {
  "kernelspec": {
   "display_name": "Python 3.10.8 ('automates2')",
   "language": "python",
   "name": "python3"
  },
  "language_info": {
   "codemirror_mode": {
    "name": "ipython",
    "version": 3
   },
   "file_extension": ".py",
   "mimetype": "text/x-python",
   "name": "python",
   "nbconvert_exporter": "python",
   "pygments_lexer": "ipython3",
   "version": "3.10.8"
  },
  "vscode": {
   "interpreter": {
    "hash": "e5ca0cfc5c28fca1baa9b04bbb976e42c591eabcfb4c0f2161e1e1d5f5c3d5bc"
   }
  }
 },
 "nbformat": 4,
 "nbformat_minor": 5
}
