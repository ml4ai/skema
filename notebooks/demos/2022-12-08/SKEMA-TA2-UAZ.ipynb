{
 "cells": [
  {
   "cell_type": "markdown",
   "metadata": {},
   "source": [
    "# SKEMA-TA2-UAZ Demo (2022-12-08)\n",
    "\n",
    "**Authors**: Justin Lieffers, Liang Zhang, Deepsana Shahi, Adarsh Pyarelal, Clayton Morrison"
   ]
  },
  {
   "cell_type": "markdown",
   "metadata": {},
   "source": [
    "The overall goals of the SKEMA-TA2-UAZ effort are:\n",
    "- Automate the identification of model roles in code.\n",
    "- Perform structural alignment to link equations to code.\n",
    "\n",
    "In this notebook, we demonstrate functionality we have developed so far via a REST API, which should facilitate integration with other ASKEM performer teams.\n",
    "\n",
    "Swagger docs for the REST API can be found at http://localhost:8080/api-docs/ (if you are running locally)."
   ]
  },
  {
   "cell_type": "code",
   "execution_count": 22,
   "metadata": {},
   "outputs": [
    {
     "data": {
      "text/html": [
       "\n",
       "        <iframe\n",
       "            width=\"700\"\n",
       "            height=\"350\"\n",
       "            src=\"http://localhost:8080/api-docs/\"\n",
       "            frameborder=\"0\"\n",
       "            allowfullscreen\n",
       "            \n",
       "        ></iframe>\n",
       "        "
      ],
      "text/plain": [
       "<IPython.lib.display.IFrame at 0x10a00b310>"
      ]
     },
     "execution_count": 22,
     "metadata": {},
     "output_type": "execute_result"
    }
   ],
   "source": [
    "from IPython.display import IFrame\n",
    "IFrame('http://localhost:8080/api-docs/', width=700, height=350)"
   ]
  },
  {
   "cell_type": "markdown",
   "metadata": {},
   "source": [
    "## Model role identification\n",
    "\n",
    "One of the prerequisites for model role identification is the ability to efficiently query GroMEts, including path traversal queries. For this reason, we have adopted a graph database backend for storing the structure inherent in GroMEt JSON files, along with additional metadata to speed up queries.\n",
    "\n",
    "Below, we demonstrate how to interact with this database using our REST API.\n",
    "\n",
    "First, we perform our imports and set the base URL"
   ]
  },
  {
   "cell_type": "code",
   "execution_count": 8,
   "metadata": {
    "scrolled": true
   },
   "outputs": [],
   "source": [
    "import json\n",
    "from requests import get, put, post, delete\n",
    "from graphviz import Source\n",
    "BASE_URL=\"http://localhost:8080\""
   ]
  },
  {
   "cell_type": "markdown",
   "metadata": {},
   "source": [
    "Then, we check if the service is running."
   ]
  },
  {
   "cell_type": "code",
   "execution_count": 9,
   "metadata": {
    "scrolled": true
   },
   "outputs": [
    {
     "data": {
      "text/plain": [
       "'The SKEMA Rust web services are running.'"
      ]
     },
     "execution_count": 9,
     "metadata": {},
     "output_type": "execute_result"
    }
   ],
   "source": [
    "get(f\"{BASE_URL}/ping\").text"
   ]
  },
  {
   "cell_type": "code",
   "execution_count": 11,
   "metadata": {},
   "outputs": [
    {
     "name": "stdout",
     "output_type": "stream",
     "text": [
      "CHIME_SIR_core--Gromet-FN-auto.json\r\n",
      "CHIME_SIR_while_loop_section--Gromet-FN-auto.json\r\n",
      "CHIME_SIR_while_loop_section.py\r\n",
      "CHIME_SVIIvR_core--Gromet-FN-auto.json\r\n"
     ]
    }
   ],
   "source": [
    "!ls ../../../data/demo"
   ]
  },
  {
   "cell_type": "code",
   "execution_count": 10,
   "metadata": {},
   "outputs": [
    {
     "name": "stdout",
     "output_type": "stream",
     "text": [
      "Model ID: 145\n"
     ]
    }
   ],
   "source": [
    "with open('../../../data/demo/CHIME_SVIIvR_core--Gromet-FN-auto.json') as f:\n",
    "    r = post(f\"{BASE_URL}/models\", json=json.load(f))\n",
    "    MODEL_ID = r.json()\n",
    "    print(f\"Model ID: {MODEL_ID}\")"
   ]
  },
  {
   "cell_type": "markdown",
   "metadata": {},
   "source": [
    "We then insert the model represented by the GroMEt JSON file `CHIME_SVIIvR_core--Gromet-FN-auto.json` into the database. The operation returns the ID of the model that was just inserted - we will use this ID to query the model later."
   ]
  },
  {
   "cell_type": "markdown",
   "metadata": {},
   "source": [
    "We then get the IDs of all the models in the database to double check if our model ID is among them."
   ]
  },
  {
   "cell_type": "code",
   "execution_count": 11,
   "metadata": {},
   "outputs": [
    {
     "data": {
      "text/plain": [
       "[1, 145]"
      ]
     },
     "execution_count": 11,
     "metadata": {},
     "output_type": "execute_result"
    }
   ],
   "source": [
    "get(f\"{BASE_URL}/models\").json()"
   ]
  },
  {
   "cell_type": "markdown",
   "metadata": {},
   "source": [
    "Next, we run a query to get all the names of named `opo`s in the model we just added to the database."
   ]
  },
  {
   "cell_type": "code",
   "execution_count": 12,
   "metadata": {},
   "outputs": [
    {
     "data": {
      "text/plain": [
       "[]"
      ]
     },
     "execution_count": 12,
     "metadata": {},
     "output_type": "execute_result"
    }
   ],
   "source": [
    "get(f\"{BASE_URL}/models/{MODEL_ID}/named_opos\").json()"
   ]
  },
  {
   "cell_type": "markdown",
   "metadata": {},
   "source": [
    "Similarly, we run a query to get all the names of named `opi`s in the model."
   ]
  },
  {
   "cell_type": "code",
   "execution_count": 13,
   "metadata": {},
   "outputs": [
    {
     "data": {
      "text/plain": [
       "['beta',\n",
       " 's',\n",
       " 'i',\n",
       " 'i_v',\n",
       " 'vaccination_rate',\n",
       " 'vaccine_efficacy',\n",
       " 'v',\n",
       " 'gamma_unvaccinated',\n",
       " 'gamma_vaccinated',\n",
       " 'r',\n",
       " 'n']"
      ]
     },
     "execution_count": 13,
     "metadata": {},
     "output_type": "execute_result"
    }
   ],
   "source": [
    "get(f\"{BASE_URL}/models/{MODEL_ID}/named_opis\").json()"
   ]
  },
  {
   "cell_type": "markdown",
   "metadata": {},
   "source": [
    "Finally, we demonstrate the API endpoint for deleting a model."
   ]
  },
  {
   "cell_type": "code",
   "execution_count": 14,
   "metadata": {},
   "outputs": [
    {
     "data": {
      "text/plain": [
       "'Model deleted'"
      ]
     },
     "execution_count": 14,
     "metadata": {},
     "output_type": "execute_result"
    }
   ],
   "source": [
    "delete(f\"{BASE_URL}/models/{MODEL_ID}\").text"
   ]
  },
  {
   "cell_type": "markdown",
   "metadata": {},
   "source": [
    "Get the IDs of all the models in the database again to check that the model has been deleted."
   ]
  },
  {
   "cell_type": "code",
   "execution_count": 17,
   "metadata": {},
   "outputs": [
    {
     "data": {
      "text/plain": [
       "[1]"
      ]
     },
     "execution_count": 17,
     "metadata": {},
     "output_type": "execute_result"
    }
   ],
   "source": [
    "get(f\"{BASE_URL}/models\").json()"
   ]
  },
  {
   "cell_type": "markdown",
   "metadata": {},
   "source": [
    "## Incremental structural alignment\n",
    "\n",
    "**A quick review**: We proposed using seeded graph matching (SGM) to achieve incremental structural alignment (ISA) of equations in documents and their implementation in source code. At a high level, the procedure is as follows:\n",
    "\n",
    "1. Create a graph representation of the equation and the code.\n",
    "2. Construct the adjacency matrices corresponding to the above graph representations. \n",
    "3. Apply the SGM algorithm with the two adjacency matrices as inputs.\n",
    "\n",
    "Constructing graph representations for equations and code that are suitable for the alignment procedure is a nontrivial task.\n",
    "\n",
    "Consider the S update equation in the CHIME SIR model."
   ]
  },
  {
   "cell_type": "code",
   "execution_count": 18,
   "metadata": {},
   "outputs": [
    {
     "data": {
      "image/png": "[encoded data removed]",
      "text/plain": [
       "<IPython.core.display.Image object>"
      ]
     },
     "execution_count": 18,
     "metadata": {},
     "output_type": "execute_result"
    }
   ],
   "source": [
    "from IPython.display import Image\n",
    "IMAGE_PATH = '../../../skema/im2mml/generate_mathml/images/sir.png'\n",
    "Image(filename=IMAGE_PATH) "
   ]
  },
  {
   "cell_type": "markdown",
   "metadata": {},
   "source": [
    "The presentation MathML representation of the above equation is shown below."
   ]
  },
  {
   "cell_type": "code",
   "execution_count": 19,
   "metadata": {},
   "outputs": [],
   "source": [
    "content = \\\n",
    "\"\"\"<math \n",
    "    xmlns=\"http://www.w3.org/1998/Math/MathML\" \n",
    "    display=\"block\" \n",
    "    title=\"S_{t+1} = S_t - \\beta S_t I_t \"\n",
    ">\n",
    "  <mrow>\n",
    "    <msub>\n",
    "      <mrow>\n",
    "        <mi>S</mi>\n",
    "      </mrow>\n",
    "      <mrow>\n",
    "        <mi>t</mi>\n",
    "        <mo>+</mo>\n",
    "        <mn>1</mn>\n",
    "      </mrow>\n",
    "    </msub>\n",
    "    <mo>=</mo>\n",
    "    <msub>\n",
    "      <mrow>\n",
    "        <mi>S</mi>\n",
    "      </mrow>\n",
    "      <mrow>\n",
    "        <mi>t</mi>\n",
    "      </mrow>\n",
    "    </msub>\n",
    "    <mo>-</mo>\n",
    "    <mi>β</mi>\n",
    "    <msub>\n",
    "      <mrow>\n",
    "        <mi>S</mi>\n",
    "      </mrow>\n",
    "      <mrow>\n",
    "        <mi>t</mi>\n",
    "      </mrow>\n",
    "    </msub>\n",
    "    <msub>\n",
    "      <mrow>\n",
    "        <mi>I</mi>\n",
    "      </mrow>\n",
    "      <mrow>\n",
    "        <mi>t</mi>\n",
    "      </mrow>\n",
    "    </msub>\n",
    "  </mrow>\n",
    "</math>\"\"\""
   ]
  },
  {
   "cell_type": "markdown",
   "metadata": {},
   "source": [
    "We can visualize the abstract syntax tree of the above MathML document using our REST API, which returns a DOT representation for visualization."
   ]
  },
  {
   "cell_type": "code",
   "execution_count": 20,
   "metadata": {},
   "outputs": [
    {
     "data": {
      "image/svg+xml": [
       "<?xml version=\"1.0\" encoding=\"UTF-8\" standalone=\"no\"?>\n",
       "<!DOCTYPE svg PUBLIC \"-//W3C//DTD SVG 1.1//EN\"\n",
       " \"http://www.w3.org/Graphics/SVG/1.1/DTD/svg11.dtd\">\n",
       "<!-- Generated by graphviz version 6.0.1 (20220911.1526)\n",
       " -->\n",
       "<!-- Pages: 1 -->\n",
       "<svg width=\"760pt\" height=\"332pt\"\n",
       " viewBox=\"0.00 0.00 759.85 332.00\" xmlns=\"http://www.w3.org/2000/svg\" xmlns:xlink=\"http://www.w3.org/1999/xlink\">\n",
       "<g id=\"graph0\" class=\"graph\" transform=\"scale(1 1) rotate(0) translate(4 328)\">\n",
       "<polygon fill=\"white\" stroke=\"none\" points=\"-4,4 -4,-328 755.85,-328 755.85,4 -4,4\"/>\n",
       "<!-- 0 -->\n",
       "<g id=\"node1\" class=\"node\">\n",
       "<title>0</title>\n",
       "<ellipse fill=\"none\" stroke=\"black\" cx=\"406\" cy=\"-306\" rx=\"27\" ry=\"18\"/>\n",
       "<text text-anchor=\"middle\" x=\"406\" y=\"-302.3\" font-family=\"Times,serif\" font-size=\"14.00\">root</text>\n",
       "</g>\n",
       "<!-- 1 -->\n",
       "<g id=\"node2\" class=\"node\">\n",
       "<title>1</title>\n",
       "<ellipse fill=\"none\" stroke=\"black\" cx=\"406\" cy=\"-234\" rx=\"31.7\" ry=\"18\"/>\n",
       "<text text-anchor=\"middle\" x=\"406\" y=\"-230.3\" font-family=\"Times,serif\" font-size=\"14.00\">mrow</text>\n",
       "</g>\n",
       "<!-- 0&#45;&gt;1 -->\n",
       "<g id=\"edge1\" class=\"edge\">\n",
       "<title>0&#45;&gt;1</title>\n",
       "<path fill=\"none\" stroke=\"black\" d=\"M406,-287.7C406,-279.98 406,-270.71 406,-262.11\"/>\n",
       "<polygon fill=\"black\" stroke=\"black\" points=\"409.5,-262.1 406,-252.1 402.5,-262.1 409.5,-262.1\"/>\n",
       "</g>\n",
       "<!-- 2 -->\n",
       "<g id=\"node3\" class=\"node\">\n",
       "<title>2</title>\n",
       "<ellipse fill=\"none\" stroke=\"black\" cx=\"171\" cy=\"-162\" rx=\"30.59\" ry=\"18\"/>\n",
       "<text text-anchor=\"middle\" x=\"171\" y=\"-158.3\" font-family=\"Times,serif\" font-size=\"14.00\">msub</text>\n",
       "</g>\n",
       "<!-- 1&#45;&gt;2 -->\n",
       "<g id=\"edge2\" class=\"edge\">\n",
       "<title>1&#45;&gt;2</title>\n",
       "<path fill=\"none\" stroke=\"black\" d=\"M377.46,-225.64C340.46,-215.95 274.01,-198 218,-180 214,-178.72 209.84,-177.31 205.71,-175.87\"/>\n",
       "<polygon fill=\"black\" stroke=\"black\" points=\"206.85,-172.56 196.25,-172.51 204.5,-179.16 206.85,-172.56\"/>\n",
       "</g>\n",
       "<!-- 9 -->\n",
       "<g id=\"node10\" class=\"node\">\n",
       "<title>9</title>\n",
       "<ellipse fill=\"none\" stroke=\"black\" cx=\"254\" cy=\"-162\" rx=\"27\" ry=\"18\"/>\n",
       "<text text-anchor=\"middle\" x=\"254\" y=\"-158.3\" font-family=\"Times,serif\" font-size=\"14.00\">=</text>\n",
       "</g>\n",
       "<!-- 1&#45;&gt;9 -->\n",
       "<g id=\"edge9\" class=\"edge\">\n",
       "<title>1&#45;&gt;9</title>\n",
       "<path fill=\"none\" stroke=\"black\" d=\"M381.97,-222.13C358.48,-211.47 321.73,-194.74 290,-180 288.21,-179.17 286.38,-178.31 284.53,-177.45\"/>\n",
       "<polygon fill=\"black\" stroke=\"black\" points=\"285.84,-174.2 275.3,-173.11 282.86,-180.53 285.84,-174.2\"/>\n",
       "</g>\n",
       "<!-- 10 -->\n",
       "<g id=\"node11\" class=\"node\">\n",
       "<title>10</title>\n",
       "<ellipse fill=\"none\" stroke=\"black\" cx=\"330\" cy=\"-162\" rx=\"30.59\" ry=\"18\"/>\n",
       "<text text-anchor=\"middle\" x=\"330\" y=\"-158.3\" font-family=\"Times,serif\" font-size=\"14.00\">msub</text>\n",
       "</g>\n",
       "<!-- 1&#45;&gt;10 -->\n",
       "<g id=\"edge10\" class=\"edge\">\n",
       "<title>1&#45;&gt;10</title>\n",
       "<path fill=\"none\" stroke=\"black\" d=\"M389.88,-218.15C379.23,-208.34 365.1,-195.33 353.24,-184.41\"/>\n",
       "<polygon fill=\"black\" stroke=\"black\" points=\"355.56,-181.78 345.83,-177.58 350.82,-186.93 355.56,-181.78\"/>\n",
       "</g>\n",
       "<!-- 15 -->\n",
       "<g id=\"node16\" class=\"node\">\n",
       "<title>15</title>\n",
       "<ellipse fill=\"none\" stroke=\"black\" cx=\"406\" cy=\"-162\" rx=\"27\" ry=\"18\"/>\n",
       "<text text-anchor=\"middle\" x=\"406\" y=\"-158.3\" font-family=\"Times,serif\" font-size=\"14.00\">&#45;</text>\n",
       "</g>\n",
       "<!-- 1&#45;&gt;15 -->\n",
       "<g id=\"edge15\" class=\"edge\">\n",
       "<title>1&#45;&gt;15</title>\n",
       "<path fill=\"none\" stroke=\"black\" d=\"M406,-215.7C406,-207.98 406,-198.71 406,-190.11\"/>\n",
       "<polygon fill=\"black\" stroke=\"black\" points=\"409.5,-190.1 406,-180.1 402.5,-190.1 409.5,-190.1\"/>\n",
       "</g>\n",
       "<!-- 16 -->\n",
       "<g id=\"node17\" class=\"node\">\n",
       "<title>16</title>\n",
       "<ellipse fill=\"none\" stroke=\"black\" cx=\"478\" cy=\"-162\" rx=\"27\" ry=\"18\"/>\n",
       "<text text-anchor=\"middle\" x=\"478\" y=\"-158.3\" font-family=\"Times,serif\" font-size=\"14.00\">β</text>\n",
       "</g>\n",
       "<!-- 1&#45;&gt;16 -->\n",
       "<g id=\"edge16\" class=\"edge\">\n",
       "<title>1&#45;&gt;16</title>\n",
       "<path fill=\"none\" stroke=\"black\" d=\"M421.27,-218.15C431.33,-208.37 444.67,-195.4 455.89,-184.5\"/>\n",
       "<polygon fill=\"black\" stroke=\"black\" points=\"458.51,-186.83 463.25,-177.35 453.64,-181.81 458.51,-186.83\"/>\n",
       "</g>\n",
       "<!-- 17 -->\n",
       "<g id=\"node18\" class=\"node\">\n",
       "<title>17</title>\n",
       "<ellipse fill=\"none\" stroke=\"black\" cx=\"554\" cy=\"-162\" rx=\"30.59\" ry=\"18\"/>\n",
       "<text text-anchor=\"middle\" x=\"554\" y=\"-158.3\" font-family=\"Times,serif\" font-size=\"14.00\">msub</text>\n",
       "</g>\n",
       "<!-- 1&#45;&gt;17 -->\n",
       "<g id=\"edge17\" class=\"edge\">\n",
       "<title>1&#45;&gt;17</title>\n",
       "<path fill=\"none\" stroke=\"black\" d=\"M429.78,-221.75C454.63,-210 493.79,-191.48 521.49,-178.38\"/>\n",
       "<polygon fill=\"black\" stroke=\"black\" points=\"523.22,-181.43 530.77,-173.99 520.23,-175.1 523.22,-181.43\"/>\n",
       "</g>\n",
       "<!-- 22 -->\n",
       "<g id=\"node23\" class=\"node\">\n",
       "<title>22</title>\n",
       "<ellipse fill=\"none\" stroke=\"black\" cx=\"638\" cy=\"-162\" rx=\"30.59\" ry=\"18\"/>\n",
       "<text text-anchor=\"middle\" x=\"638\" y=\"-158.3\" font-family=\"Times,serif\" font-size=\"14.00\">msub</text>\n",
       "</g>\n",
       "<!-- 1&#45;&gt;22 -->\n",
       "<g id=\"edge22\" class=\"edge\">\n",
       "<title>1&#45;&gt;22</title>\n",
       "<path fill=\"none\" stroke=\"black\" d=\"M434.6,-225.83C471.67,-216.34 538.18,-198.6 594,-180 597.28,-178.91 600.68,-177.71 604.07,-176.47\"/>\n",
       "<polygon fill=\"black\" stroke=\"black\" points=\"605.35,-179.73 613.48,-172.94 602.89,-173.18 605.35,-179.73\"/>\n",
       "</g>\n",
       "<!-- 3 -->\n",
       "<g id=\"node4\" class=\"node\">\n",
       "<title>3</title>\n",
       "<ellipse fill=\"none\" stroke=\"black\" cx=\"58\" cy=\"-90\" rx=\"31.7\" ry=\"18\"/>\n",
       "<text text-anchor=\"middle\" x=\"58\" y=\"-86.3\" font-family=\"Times,serif\" font-size=\"14.00\">mrow</text>\n",
       "</g>\n",
       "<!-- 2&#45;&gt;3 -->\n",
       "<g id=\"edge3\" class=\"edge\">\n",
       "<title>2&#45;&gt;3</title>\n",
       "<path fill=\"none\" stroke=\"black\" d=\"M150.8,-148.49C133.18,-137.57 107.4,-121.6 87.48,-109.26\"/>\n",
       "<polygon fill=\"black\" stroke=\"black\" points=\"89.14,-106.17 78.79,-103.88 85.45,-112.12 89.14,-106.17\"/>\n",
       "</g>\n",
       "<!-- 5 -->\n",
       "<g id=\"node6\" class=\"node\">\n",
       "<title>5</title>\n",
       "<ellipse fill=\"none\" stroke=\"black\" cx=\"171\" cy=\"-90\" rx=\"31.7\" ry=\"18\"/>\n",
       "<text text-anchor=\"middle\" x=\"171\" y=\"-86.3\" font-family=\"Times,serif\" font-size=\"14.00\">mrow</text>\n",
       "</g>\n",
       "<!-- 2&#45;&gt;5 -->\n",
       "<g id=\"edge5\" class=\"edge\">\n",
       "<title>2&#45;&gt;5</title>\n",
       "<path fill=\"none\" stroke=\"black\" d=\"M171,-143.7C171,-135.98 171,-126.71 171,-118.11\"/>\n",
       "<polygon fill=\"black\" stroke=\"black\" points=\"174.5,-118.1 171,-108.1 167.5,-118.1 174.5,-118.1\"/>\n",
       "</g>\n",
       "<!-- 4 -->\n",
       "<g id=\"node5\" class=\"node\">\n",
       "<title>4</title>\n",
       "<ellipse fill=\"none\" stroke=\"black\" cx=\"27\" cy=\"-18\" rx=\"27\" ry=\"18\"/>\n",
       "<text text-anchor=\"middle\" x=\"27\" y=\"-14.3\" font-family=\"Times,serif\" font-size=\"14.00\">S</text>\n",
       "</g>\n",
       "<!-- 3&#45;&gt;4 -->\n",
       "<g id=\"edge4\" class=\"edge\">\n",
       "<title>3&#45;&gt;4</title>\n",
       "<path fill=\"none\" stroke=\"black\" d=\"M50.65,-72.41C46.99,-64.13 42.47,-53.92 38.36,-44.66\"/>\n",
       "<polygon fill=\"black\" stroke=\"black\" points=\"41.54,-43.2 34.29,-35.47 35.14,-46.03 41.54,-43.2\"/>\n",
       "</g>\n",
       "<!-- 6 -->\n",
       "<g id=\"node7\" class=\"node\">\n",
       "<title>6</title>\n",
       "<ellipse fill=\"none\" stroke=\"black\" cx=\"99\" cy=\"-18\" rx=\"27\" ry=\"18\"/>\n",
       "<text text-anchor=\"middle\" x=\"99\" y=\"-14.3\" font-family=\"Times,serif\" font-size=\"14.00\">t</text>\n",
       "</g>\n",
       "<!-- 5&#45;&gt;6 -->\n",
       "<g id=\"edge6\" class=\"edge\">\n",
       "<title>5&#45;&gt;6</title>\n",
       "<path fill=\"none\" stroke=\"black\" d=\"M155.73,-74.15C145.67,-64.37 132.33,-51.4 121.11,-40.5\"/>\n",
       "<polygon fill=\"black\" stroke=\"black\" points=\"123.36,-37.81 113.75,-33.35 118.49,-42.83 123.36,-37.81\"/>\n",
       "</g>\n",
       "<!-- 7 -->\n",
       "<g id=\"node8\" class=\"node\">\n",
       "<title>7</title>\n",
       "<ellipse fill=\"none\" stroke=\"black\" cx=\"171\" cy=\"-18\" rx=\"27\" ry=\"18\"/>\n",
       "<text text-anchor=\"middle\" x=\"171\" y=\"-14.3\" font-family=\"Times,serif\" font-size=\"14.00\">+</text>\n",
       "</g>\n",
       "<!-- 5&#45;&gt;7 -->\n",
       "<g id=\"edge7\" class=\"edge\">\n",
       "<title>5&#45;&gt;7</title>\n",
       "<path fill=\"none\" stroke=\"black\" d=\"M171,-71.7C171,-63.98 171,-54.71 171,-46.11\"/>\n",
       "<polygon fill=\"black\" stroke=\"black\" points=\"174.5,-46.1 171,-36.1 167.5,-46.1 174.5,-46.1\"/>\n",
       "</g>\n",
       "<!-- 8 -->\n",
       "<g id=\"node9\" class=\"node\">\n",
       "<title>8</title>\n",
       "<ellipse fill=\"none\" stroke=\"black\" cx=\"243\" cy=\"-18\" rx=\"27\" ry=\"18\"/>\n",
       "<text text-anchor=\"middle\" x=\"243\" y=\"-14.3\" font-family=\"Times,serif\" font-size=\"14.00\">1</text>\n",
       "</g>\n",
       "<!-- 5&#45;&gt;8 -->\n",
       "<g id=\"edge8\" class=\"edge\">\n",
       "<title>5&#45;&gt;8</title>\n",
       "<path fill=\"none\" stroke=\"black\" d=\"M186.27,-74.15C196.33,-64.37 209.67,-51.4 220.89,-40.5\"/>\n",
       "<polygon fill=\"black\" stroke=\"black\" points=\"223.51,-42.83 228.25,-33.35 218.64,-37.81 223.51,-42.83\"/>\n",
       "</g>\n",
       "<!-- 11 -->\n",
       "<g id=\"node12\" class=\"node\">\n",
       "<title>11</title>\n",
       "<ellipse fill=\"none\" stroke=\"black\" cx=\"310\" cy=\"-90\" rx=\"31.7\" ry=\"18\"/>\n",
       "<text text-anchor=\"middle\" x=\"310\" y=\"-86.3\" font-family=\"Times,serif\" font-size=\"14.00\">mrow</text>\n",
       "</g>\n",
       "<!-- 10&#45;&gt;11 -->\n",
       "<g id=\"edge11\" class=\"edge\">\n",
       "<title>10&#45;&gt;11</title>\n",
       "<path fill=\"none\" stroke=\"black\" d=\"M325.16,-144.05C322.93,-136.26 320.23,-126.82 317.74,-118.08\"/>\n",
       "<polygon fill=\"black\" stroke=\"black\" points=\"321.05,-116.93 314.94,-108.28 314.32,-118.85 321.05,-116.93\"/>\n",
       "</g>\n",
       "<!-- 13 -->\n",
       "<g id=\"node14\" class=\"node\">\n",
       "<title>13</title>\n",
       "<ellipse fill=\"none\" stroke=\"black\" cx=\"392\" cy=\"-90\" rx=\"31.7\" ry=\"18\"/>\n",
       "<text text-anchor=\"middle\" x=\"392\" y=\"-86.3\" font-family=\"Times,serif\" font-size=\"14.00\">mrow</text>\n",
       "</g>\n",
       "<!-- 10&#45;&gt;13 -->\n",
       "<g id=\"edge13\" class=\"edge\">\n",
       "<title>10&#45;&gt;13</title>\n",
       "<path fill=\"none\" stroke=\"black\" d=\"M343.45,-145.81C351.63,-136.58 362.23,-124.61 371.44,-114.22\"/>\n",
       "<polygon fill=\"black\" stroke=\"black\" points=\"374.13,-116.45 378.14,-106.64 368.89,-111.81 374.13,-116.45\"/>\n",
       "</g>\n",
       "<!-- 12 -->\n",
       "<g id=\"node13\" class=\"node\">\n",
       "<title>12</title>\n",
       "<ellipse fill=\"none\" stroke=\"black\" cx=\"315\" cy=\"-18\" rx=\"27\" ry=\"18\"/>\n",
       "<text text-anchor=\"middle\" x=\"315\" y=\"-14.3\" font-family=\"Times,serif\" font-size=\"14.00\">S</text>\n",
       "</g>\n",
       "<!-- 11&#45;&gt;12 -->\n",
       "<g id=\"edge12\" class=\"edge\">\n",
       "<title>11&#45;&gt;12</title>\n",
       "<path fill=\"none\" stroke=\"black\" d=\"M311.24,-71.7C311.79,-63.98 312.45,-54.71 313.06,-46.11\"/>\n",
       "<polygon fill=\"black\" stroke=\"black\" points=\"316.56,-46.33 313.78,-36.1 309.57,-45.83 316.56,-46.33\"/>\n",
       "</g>\n",
       "<!-- 14 -->\n",
       "<g id=\"node15\" class=\"node\">\n",
       "<title>14</title>\n",
       "<ellipse fill=\"none\" stroke=\"black\" cx=\"392\" cy=\"-18\" rx=\"27\" ry=\"18\"/>\n",
       "<text text-anchor=\"middle\" x=\"392\" y=\"-14.3\" font-family=\"Times,serif\" font-size=\"14.00\">t</text>\n",
       "</g>\n",
       "<!-- 13&#45;&gt;14 -->\n",
       "<g id=\"edge14\" class=\"edge\">\n",
       "<title>13&#45;&gt;14</title>\n",
       "<path fill=\"none\" stroke=\"black\" d=\"M392,-71.7C392,-63.98 392,-54.71 392,-46.11\"/>\n",
       "<polygon fill=\"black\" stroke=\"black\" points=\"395.5,-46.1 392,-36.1 388.5,-46.1 395.5,-46.1\"/>\n",
       "</g>\n",
       "<!-- 18 -->\n",
       "<g id=\"node19\" class=\"node\">\n",
       "<title>18</title>\n",
       "<ellipse fill=\"none\" stroke=\"black\" cx=\"474\" cy=\"-90\" rx=\"31.7\" ry=\"18\"/>\n",
       "<text text-anchor=\"middle\" x=\"474\" y=\"-86.3\" font-family=\"Times,serif\" font-size=\"14.00\">mrow</text>\n",
       "</g>\n",
       "<!-- 17&#45;&gt;18 -->\n",
       "<g id=\"edge18\" class=\"edge\">\n",
       "<title>17&#45;&gt;18</title>\n",
       "<path fill=\"none\" stroke=\"black\" d=\"M537.42,-146.5C526.16,-136.64 511.07,-123.44 498.44,-112.38\"/>\n",
       "<polygon fill=\"black\" stroke=\"black\" points=\"500.39,-109.44 490.55,-105.49 495.78,-114.7 500.39,-109.44\"/>\n",
       "</g>\n",
       "<!-- 20 -->\n",
       "<g id=\"node21\" class=\"node\">\n",
       "<title>20</title>\n",
       "<ellipse fill=\"none\" stroke=\"black\" cx=\"556\" cy=\"-90\" rx=\"31.7\" ry=\"18\"/>\n",
       "<text text-anchor=\"middle\" x=\"556\" y=\"-86.3\" font-family=\"Times,serif\" font-size=\"14.00\">mrow</text>\n",
       "</g>\n",
       "<!-- 17&#45;&gt;20 -->\n",
       "<g id=\"edge20\" class=\"edge\">\n",
       "<title>17&#45;&gt;20</title>\n",
       "<path fill=\"none\" stroke=\"black\" d=\"M554.49,-143.7C554.71,-135.98 554.98,-126.71 555.23,-118.11\"/>\n",
       "<polygon fill=\"black\" stroke=\"black\" points=\"558.72,-118.2 555.51,-108.1 551.73,-118 558.72,-118.2\"/>\n",
       "</g>\n",
       "<!-- 19 -->\n",
       "<g id=\"node20\" class=\"node\">\n",
       "<title>19</title>\n",
       "<ellipse fill=\"none\" stroke=\"black\" cx=\"474\" cy=\"-18\" rx=\"27\" ry=\"18\"/>\n",
       "<text text-anchor=\"middle\" x=\"474\" y=\"-14.3\" font-family=\"Times,serif\" font-size=\"14.00\">S</text>\n",
       "</g>\n",
       "<!-- 18&#45;&gt;19 -->\n",
       "<g id=\"edge19\" class=\"edge\">\n",
       "<title>18&#45;&gt;19</title>\n",
       "<path fill=\"none\" stroke=\"black\" d=\"M474,-71.7C474,-63.98 474,-54.71 474,-46.11\"/>\n",
       "<polygon fill=\"black\" stroke=\"black\" points=\"477.5,-46.1 474,-36.1 470.5,-46.1 477.5,-46.1\"/>\n",
       "</g>\n",
       "<!-- 21 -->\n",
       "<g id=\"node22\" class=\"node\">\n",
       "<title>21</title>\n",
       "<ellipse fill=\"none\" stroke=\"black\" cx=\"556\" cy=\"-18\" rx=\"27\" ry=\"18\"/>\n",
       "<text text-anchor=\"middle\" x=\"556\" y=\"-14.3\" font-family=\"Times,serif\" font-size=\"14.00\">t</text>\n",
       "</g>\n",
       "<!-- 20&#45;&gt;21 -->\n",
       "<g id=\"edge21\" class=\"edge\">\n",
       "<title>20&#45;&gt;21</title>\n",
       "<path fill=\"none\" stroke=\"black\" d=\"M556,-71.7C556,-63.98 556,-54.71 556,-46.11\"/>\n",
       "<polygon fill=\"black\" stroke=\"black\" points=\"559.5,-46.1 556,-36.1 552.5,-46.1 559.5,-46.1\"/>\n",
       "</g>\n",
       "<!-- 23 -->\n",
       "<g id=\"node24\" class=\"node\">\n",
       "<title>23</title>\n",
       "<ellipse fill=\"none\" stroke=\"black\" cx=\"638\" cy=\"-90\" rx=\"31.7\" ry=\"18\"/>\n",
       "<text text-anchor=\"middle\" x=\"638\" y=\"-86.3\" font-family=\"Times,serif\" font-size=\"14.00\">mrow</text>\n",
       "</g>\n",
       "<!-- 22&#45;&gt;23 -->\n",
       "<g id=\"edge23\" class=\"edge\">\n",
       "<title>22&#45;&gt;23</title>\n",
       "<path fill=\"none\" stroke=\"black\" d=\"M638,-143.7C638,-135.98 638,-126.71 638,-118.11\"/>\n",
       "<polygon fill=\"black\" stroke=\"black\" points=\"641.5,-118.1 638,-108.1 634.5,-118.1 641.5,-118.1\"/>\n",
       "</g>\n",
       "<!-- 25 -->\n",
       "<g id=\"node26\" class=\"node\">\n",
       "<title>25</title>\n",
       "<ellipse fill=\"none\" stroke=\"black\" cx=\"720\" cy=\"-90\" rx=\"31.7\" ry=\"18\"/>\n",
       "<text text-anchor=\"middle\" x=\"720\" y=\"-86.3\" font-family=\"Times,serif\" font-size=\"14.00\">mrow</text>\n",
       "</g>\n",
       "<!-- 22&#45;&gt;25 -->\n",
       "<g id=\"edge25\" class=\"edge\">\n",
       "<title>22&#45;&gt;25</title>\n",
       "<path fill=\"none\" stroke=\"black\" d=\"M654.59,-146.83C666.3,-136.84 682.17,-123.29 695.35,-112.04\"/>\n",
       "<polygon fill=\"black\" stroke=\"black\" points=\"697.82,-114.54 703.15,-105.38 693.27,-109.22 697.82,-114.54\"/>\n",
       "</g>\n",
       "<!-- 24 -->\n",
       "<g id=\"node25\" class=\"node\">\n",
       "<title>24</title>\n",
       "<ellipse fill=\"none\" stroke=\"black\" cx=\"638\" cy=\"-18\" rx=\"27\" ry=\"18\"/>\n",
       "<text text-anchor=\"middle\" x=\"638\" y=\"-14.3\" font-family=\"Times,serif\" font-size=\"14.00\">I</text>\n",
       "</g>\n",
       "<!-- 23&#45;&gt;24 -->\n",
       "<g id=\"edge24\" class=\"edge\">\n",
       "<title>23&#45;&gt;24</title>\n",
       "<path fill=\"none\" stroke=\"black\" d=\"M638,-71.7C638,-63.98 638,-54.71 638,-46.11\"/>\n",
       "<polygon fill=\"black\" stroke=\"black\" points=\"641.5,-46.1 638,-36.1 634.5,-46.1 641.5,-46.1\"/>\n",
       "</g>\n",
       "<!-- 26 -->\n",
       "<g id=\"node27\" class=\"node\">\n",
       "<title>26</title>\n",
       "<ellipse fill=\"none\" stroke=\"black\" cx=\"720\" cy=\"-18\" rx=\"27\" ry=\"18\"/>\n",
       "<text text-anchor=\"middle\" x=\"720\" y=\"-14.3\" font-family=\"Times,serif\" font-size=\"14.00\">t</text>\n",
       "</g>\n",
       "<!-- 25&#45;&gt;26 -->\n",
       "<g id=\"edge26\" class=\"edge\">\n",
       "<title>25&#45;&gt;26</title>\n",
       "<path fill=\"none\" stroke=\"black\" d=\"M720,-71.7C720,-63.98 720,-54.71 720,-46.11\"/>\n",
       "<polygon fill=\"black\" stroke=\"black\" points=\"723.5,-46.1 720,-36.1 716.5,-46.1 723.5,-46.1\"/>\n",
       "</g>\n",
       "</g>\n",
       "</svg>\n"
      ],
      "text/plain": [
       "<graphviz.sources.Source at 0x10a570d00>"
      ]
     },
     "execution_count": 20,
     "metadata": {},
     "output_type": "execute_result"
    }
   ],
   "source": [
    "Source(\n",
    "    put('http://localhost:8080/mathml/ast-graph',\n",
    "        data=content.encode('utf-8')).text\n",
    ")"
   ]
  },
  {
   "cell_type": "markdown",
   "metadata": {},
   "source": [
    "However, the presentation MathML representation is only concerned with the *presentation* of the equation, rather than the *content*. In order to work with the semantic content of the equation, we must transform the presentation MathML representation into a semantically meaningful representation, using a set of heuristic rules. We call this representation the 'math expression graph' (MEG). We may come up with a better name for it later...\n",
    "\n",
    "In the cell below, we send a MathML document to the `/mathml/math-exp-graph` which automatically constructs the MEG and returns a DOT representation of it for visualization."
   ]
  },
  {
   "cell_type": "code",
   "execution_count": 21,
   "metadata": {},
   "outputs": [
    {
     "data": {
      "image/svg+xml": [
       "<?xml version=\"1.0\" encoding=\"UTF-8\" standalone=\"no\"?>\n",
       "<!DOCTYPE svg PUBLIC \"-//W3C//DTD SVG 1.1//EN\"\n",
       " \"http://www.w3.org/Graphics/SVG/1.1/DTD/svg11.dtd\">\n",
       "<!-- Generated by graphviz version 6.0.1 (20220911.1526)\n",
       " -->\n",
       "<!-- Pages: 1 -->\n",
       "<svg width=\"312pt\" height=\"218pt\"\n",
       " viewBox=\"0.00 0.00 312.19 218.00\" xmlns=\"http://www.w3.org/2000/svg\" xmlns:xlink=\"http://www.w3.org/1999/xlink\">\n",
       "<g id=\"graph0\" class=\"graph\" transform=\"scale(1 1) rotate(0) translate(4 214)\">\n",
       "<polygon fill=\"white\" stroke=\"none\" points=\"-4,4 -4,-214 308.19,-214 308.19,4 -4,4\"/>\n",
       "<!-- 0 -->\n",
       "<g id=\"node1\" class=\"node\">\n",
       "<title>0</title>\n",
       "<ellipse fill=\"none\" stroke=\"black\" cx=\"117.95\" cy=\"-18\" rx=\"86.38\" ry=\"18\"/>\n",
       "<text text-anchor=\"middle\" x=\"117.95\" y=\"-14.3\" font-family=\"Times,serif\" font-size=\"14.00\">S_{t}&#45;β*S_{t}*I_{t}</text>\n",
       "</g>\n",
       "<!-- 1 -->\n",
       "<g id=\"node2\" class=\"node\">\n",
       "<title>1</title>\n",
       "<ellipse fill=\"none\" stroke=\"black\" cx=\"40.95\" cy=\"-105\" rx=\"40.89\" ry=\"18\"/>\n",
       "<text text-anchor=\"middle\" x=\"40.95\" y=\"-101.3\" font-family=\"Times,serif\" font-size=\"14.00\">S_{t+1}</text>\n",
       "</g>\n",
       "<!-- 1&#45;&gt;0 -->\n",
       "<g id=\"edge1\" class=\"edge\">\n",
       "<title>1&#45;&gt;0</title>\n",
       "<path fill=\"none\" stroke=\"black\" d=\"M55.43,-88.01C66.82,-75.43 82.89,-57.7 95.89,-43.35\"/>\n",
       "<polygon fill=\"black\" stroke=\"black\" points=\"98.62,-45.55 102.74,-35.79 93.43,-40.85 98.62,-45.55\"/>\n",
       "<text text-anchor=\"middle\" x=\"89.45\" y=\"-57.8\" font-family=\"Times,serif\" font-size=\"14.00\">=</text>\n",
       "</g>\n",
       "<!-- 2 -->\n",
       "<g id=\"node3\" class=\"node\">\n",
       "<title>2</title>\n",
       "<ellipse fill=\"none\" stroke=\"black\" cx=\"122.95\" cy=\"-192\" rx=\"31.4\" ry=\"18\"/>\n",
       "<text text-anchor=\"middle\" x=\"122.95\" y=\"-188.3\" font-family=\"Times,serif\" font-size=\"14.00\">S_{t}</text>\n",
       "</g>\n",
       "<!-- 2&#45;&gt;0 -->\n",
       "<g id=\"edge2\" class=\"edge\">\n",
       "<title>2&#45;&gt;0</title>\n",
       "<path fill=\"none\" stroke=\"black\" d=\"M122.45,-173.88C121.58,-144 119.78,-82.11 118.74,-46.27\"/>\n",
       "<polygon fill=\"black\" stroke=\"black\" points=\"122.23,-45.95 118.44,-36.05 115.23,-46.15 122.23,-45.95\"/>\n",
       "<text text-anchor=\"middle\" x=\"123.45\" y=\"-101.3\" font-family=\"Times,serif\" font-size=\"14.00\">&#45;</text>\n",
       "</g>\n",
       "<!-- 3 -->\n",
       "<g id=\"node4\" class=\"node\">\n",
       "<title>3</title>\n",
       "<ellipse fill=\"none\" stroke=\"black\" cx=\"203.95\" cy=\"-105\" rx=\"63.09\" ry=\"18\"/>\n",
       "<text text-anchor=\"middle\" x=\"203.95\" y=\"-101.3\" font-family=\"Times,serif\" font-size=\"14.00\">β*S_{t}*I_{t}</text>\n",
       "</g>\n",
       "<!-- 2&#45;&gt;3 -->\n",
       "<g id=\"edge5\" class=\"edge\">\n",
       "<title>2&#45;&gt;3</title>\n",
       "<path fill=\"none\" stroke=\"black\" d=\"M137.43,-175.8C149.6,-163.04 167.2,-144.56 181.24,-129.83\"/>\n",
       "<polygon fill=\"black\" stroke=\"black\" points=\"183.84,-132.17 188.21,-122.52 178.77,-127.34 183.84,-132.17\"/>\n",
       "<text text-anchor=\"middle\" x=\"172.45\" y=\"-144.8\" font-family=\"Times,serif\" font-size=\"14.00\">*</text>\n",
       "</g>\n",
       "<!-- 3&#45;&gt;0 -->\n",
       "<g id=\"edge3\" class=\"edge\">\n",
       "<title>3&#45;&gt;0</title>\n",
       "<path fill=\"none\" stroke=\"black\" d=\"M187.36,-87.61C174.56,-74.96 156.66,-57.26 142.24,-43.01\"/>\n",
       "<polygon fill=\"black\" stroke=\"black\" points=\"144.64,-40.46 135.07,-35.92 139.72,-45.44 144.64,-40.46\"/>\n",
       "<text text-anchor=\"middle\" x=\"169.45\" y=\"-57.8\" font-family=\"Times,serif\" font-size=\"14.00\">&#45;</text>\n",
       "</g>\n",
       "<!-- 4 -->\n",
       "<g id=\"node5\" class=\"node\">\n",
       "<title>4</title>\n",
       "<ellipse fill=\"none\" stroke=\"black\" cx=\"200.95\" cy=\"-192\" rx=\"27\" ry=\"18\"/>\n",
       "<text text-anchor=\"middle\" x=\"200.95\" y=\"-188.3\" font-family=\"Times,serif\" font-size=\"14.00\">β</text>\n",
       "</g>\n",
       "<!-- 4&#45;&gt;3 -->\n",
       "<g id=\"edge4\" class=\"edge\">\n",
       "<title>4&#45;&gt;3</title>\n",
       "<path fill=\"none\" stroke=\"black\" d=\"M201.55,-173.8C201.96,-162.16 202.52,-146.55 202.99,-133.24\"/>\n",
       "<polygon fill=\"black\" stroke=\"black\" points=\"206.49,-133.29 203.34,-123.18 199.49,-133.05 206.49,-133.29\"/>\n",
       "<text text-anchor=\"middle\" x=\"206.45\" y=\"-144.8\" font-family=\"Times,serif\" font-size=\"14.00\">*</text>\n",
       "</g>\n",
       "<!-- 5 -->\n",
       "<g id=\"node6\" class=\"node\">\n",
       "<title>5</title>\n",
       "<ellipse fill=\"none\" stroke=\"black\" cx=\"274.95\" cy=\"-192\" rx=\"29.5\" ry=\"18\"/>\n",
       "<text text-anchor=\"middle\" x=\"274.95\" y=\"-188.3\" font-family=\"Times,serif\" font-size=\"14.00\">I_{t}</text>\n",
       "</g>\n",
       "<!-- 5&#45;&gt;3 -->\n",
       "<g id=\"edge6\" class=\"edge\">\n",
       "<title>5&#45;&gt;3</title>\n",
       "<path fill=\"none\" stroke=\"black\" d=\"M261.92,-175.41C251.48,-162.91 236.63,-145.13 224.58,-130.7\"/>\n",
       "<polygon fill=\"black\" stroke=\"black\" points=\"226.95,-128.08 217.86,-122.65 221.58,-132.57 226.95,-128.08\"/>\n",
       "<text text-anchor=\"middle\" x=\"247.45\" y=\"-144.8\" font-family=\"Times,serif\" font-size=\"14.00\">*</text>\n",
       "</g>\n",
       "</g>\n",
       "</svg>\n"
      ],
      "text/plain": [
       "<graphviz.sources.Source at 0x10a011c60>"
      ]
     },
     "execution_count": 21,
     "metadata": {},
     "output_type": "execute_result"
    }
   ],
   "source": [
    "Source(\n",
    "    put(\n",
    "        'http://localhost:8080/mathml/math-exp-graph',\n",
    "        data=content.encode('utf-8')).text\n",
    ")"
   ]
  },
  {
   "cell_type": "markdown",
   "metadata": {},
   "source": [
    "The representation shown above encodes the semantic content of the MathML equation in a compact fashion, making it more suitable for alignment with code."
   ]
  }
 ],
 "metadata": {
  "kernelspec": {
   "display_name": "Python 3 (ipykernel)",
   "language": "python",
   "name": "python3"
  },
  "language_info": {
   "codemirror_mode": {
    "name": "ipython",
    "version": 3
   },
   "file_extension": ".py",
   "mimetype": "text/x-python",
   "name": "python",
   "nbconvert_exporter": "python",
   "pygments_lexer": "ipython3",
   "version": "3.10.1"
  },
  "varInspector": {
   "cols": {
    "lenName": 16,
    "lenType": 16,
    "lenVar": 40
   },
   "kernels_config": {
    "python": {
     "delete_cmd_postfix": "",
     "delete_cmd_prefix": "del ",
     "library": "var_list.py",
     "varRefreshCmd": "print(var_dic_list())"
    },
    "r": {
     "delete_cmd_postfix": ") ",
     "delete_cmd_prefix": "rm(",
     "library": "var_list.r",
     "varRefreshCmd": "cat(var_dic_list()) "
    }
   },
   "types_to_exclude": [
    "module",
    "function",
    "builtin_function_or_method",
    "instance",
    "_Feature"
   ],
   "window_display": false
  },
  "vscode": {
   "interpreter": {
    "hash": "7a792fcb311f9eb9f3c1b942a8c87ada8484712b89b670347c16a1088e0a1f69"
   }
  }
 },
 "nbformat": 4,
 "nbformat_minor": 2
}
