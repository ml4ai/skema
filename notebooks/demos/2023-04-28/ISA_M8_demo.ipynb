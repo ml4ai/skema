{
 "cells": [
  {
   "cell_type": "markdown",
   "metadata": {
    "pycharm": {
     "name": "#%%\n"
    }
   },
   "source": [
    "# SKEMA-TA2-UAZ Incremental Structral Alignment Demo (2023-04-28)\n",
    "\n",
    "**Authors**: Liang Zhang, Adarsh Pyarelal, Clayton Morrison"
   ]
  },
  {
   "cell_type": "markdown",
   "metadata": {
    "pycharm": {
     "is_executing": true,
     "name": "#%%\n"
    }
   },
   "source": [
    "Pipeline: PDF document -> Equation images -> *MathML representation -> *Graph representation -> *Equation alignment\n",
    "\n",
    "\\* What ISA involves in this pipeline\n",
    "\n",
    "The overall goal of this demo is:\n",
    "- Align two equations represented by presentation MathML and return the matching ratio and the visualization of the aligned result\n",
    "\n",
    "Swagger docs for the REST API can be found at http://localhost:8080/docs/\n",
    "\n",
    "## Incremental structural alignment\n",
    "\n",
    "**A quick review**: We proposed using seeded graph matching (SGM) to achieve incremental structural alignment (ISA) of equations. At a high level, the procedure is as follows:\n",
    "\n",
    "1. Create a graph representation based on the presentation MathML input.\n",
    "2. Construct the adjacency matrices corresponding to the above graph representations. \n",
    "3. Apply the SGM algorithm with the two adjacency matrices as inputs.\n",
    "4. Return the matching ratio and the visualization of the aligned result\n"
   ]
  },
  {
   "cell_type": "markdown",
   "source": [
    "* Please apply 'pip install requests pydot graspologic' if you don't have them installed in your machine.\n",
    "\n",
    "We will align the core equations from SIDARTHE and SIDARTHE+V as the first example."
   ],
   "metadata": {
    "collapsed": false,
    "pycharm": {
     "name": "#%% md\n"
    }
   }
  },
  {
   "cell_type": "code",
   "execution_count": null,
   "outputs": [],
   "source": [
    "from IPython.display import Image"
   ],
   "metadata": {
    "collapsed": false,
    "pycharm": {
     "name": "#%%\n"
    }
   }
  },
  {
   "cell_type": "code",
   "execution_count": null,
   "outputs": [],
   "source": [
    "Image(url=\"data/SIDARTHE_core_equations.png\", width=400, height=400) # Human in the loop: identify the core of SIDARTHE"
   ],
   "metadata": {
    "collapsed": false,
    "pycharm": {
     "name": "#%%\n"
    }
   }
  },
  {
   "cell_type": "code",
   "execution_count": null,
   "outputs": [],
   "source": [
    "Image(url=\"data/SIDARTHEV_core_equations.png\", width=400, height=400) # Human in the loop: identify the core of SIDARTHE+V"
   ],
   "metadata": {
    "collapsed": false,
    "pycharm": {
     "name": "#%%\n"
    }
   }
  },
  {
   "cell_type": "code",
   "execution_count": null,
   "outputs": [],
   "source": [
    "# -*- coding: utf-8 -*\n",
    "import warnings\n",
    "warnings.filterwarnings('ignore')\n",
    "import requests\n",
    "from graphviz import Source"
   ],
   "metadata": {
    "collapsed": false,
    "pycharm": {
     "name": "#%%\n"
    }
   }
  },
  {
   "cell_type": "code",
   "execution_count": null,
   "outputs": [],
   "source": [
    "file1_path = './data/SIDARTHE_eq1.xml'\n",
    "file2_path = './data/SIDARTHE_V_eq1.xml'"
   ],
   "metadata": {
    "collapsed": false,
    "pycharm": {
     "name": "#%%\n"
    }
   }
  },
  {
   "cell_type": "code",
   "execution_count": null,
   "outputs": [],
   "source": [
    "# Read the MathML files of the equation 1 in SIDARTHE and the equation 1 in SIDARTEH+V\n",
    "with open(file1_path, 'r') as f1, open(file2_path, 'r') as f2:\n",
    "    file1_content = f1.read()\n",
    "    file2_content = f2.read()"
   ],
   "metadata": {
    "collapsed": false,
    "pycharm": {
     "name": "#%%\n"
    }
   }
  },
  {
   "cell_type": "markdown",
   "source": [
    "Call the ISA API"
   ],
   "metadata": {
    "collapsed": false,
    "pycharm": {
     "name": "#%% md\n"
    }
   }
  },
  {
   "cell_type": "code",
   "execution_count": null,
   "outputs": [],
   "source": [
    "# Send a PUT request to the service endpoint\n",
    "response = requests.put('http://localhost:3002/align-eqns', params={'file1': file1_content, 'file2': file2_content})"
   ],
   "metadata": {
    "collapsed": false,
    "pycharm": {
     "name": "#%%\n"
    }
   }
  },
  {
   "cell_type": "code",
   "execution_count": null,
   "outputs": [],
   "source": [
    "# Check the response status code\n",
    "if response.status_code == 200:\n",
    "    # Parse the response content as a JSON object\n",
    "    json_response = response.json()\n",
    "    # Access the matching ratio and union graph properties\n",
    "    matching_ratio = json_response['matching_ratio']\n",
    "    union_graph = json_response['union_graph']\n",
    "    print(f\"Matching ratio: {matching_ratio}\\nUnion graph: {union_graph}\")\n",
    "    src = Source(union_graph)\n",
    "    src.render('data/union_graph_ex1', format='png', view=False)\n",
    "else:\n",
    "    # Handle the error response\n",
    "    print(f\"Error: {response.status_code} - {response.text}\")"
   ],
   "metadata": {
    "collapsed": false,
    "pycharm": {
     "name": "#%%\n"
    }
   }
  },
  {
   "cell_type": "markdown",
   "source": [
    "In the union graph, the blue portion represents the overlap between the two equations, while the red and green portions are exclusive to equations 1 and 2, respectively. We can see that in SIDARTHE+V the authors added 𐌘 to Equation 1."
   ],
   "metadata": {
    "collapsed": false,
    "pycharm": {
     "name": "#%% md\n"
    }
   }
  },
  {
   "cell_type": "code",
   "execution_count": null,
   "outputs": [],
   "source": [
    "Image(url=\"data/union_graph_ex1.png\", width=600, height=600) # Visualization of the alignment result"
   ],
   "metadata": {
    "collapsed": false,
    "pycharm": {
     "name": "#%%\n"
    }
   }
  },
  {
   "cell_type": "markdown",
   "source": [
    "In the second example, the equations in SIDARTHE's paper are compared to Code Version A. In this version, there are some intentionally added errors."
   ],
   "metadata": {
    "collapsed": false,
    "pycharm": {
     "name": "#%% md\n"
    }
   }
  },
  {
   "cell_type": "code",
   "execution_count": null,
   "outputs": [],
   "source": [
    "file1_path = './data/SIDARTHE_eq1.xml'\n",
    "file2_path = './data/SIDARTHE_Code_A_eq1.xml'"
   ],
   "metadata": {
    "collapsed": false,
    "pycharm": {
     "name": "#%%\n"
    }
   }
  },
  {
   "cell_type": "code",
   "execution_count": null,
   "outputs": [],
   "source": [
    "# Read the MathML files of the equation 1 in SIDARTHE and the equation 1 in SIDARTEH Code Version A\n",
    "with open(file1_path, 'r') as f1, open(file2_path, 'r') as f2:\n",
    "    file1_content = f1.read()\n",
    "    file2_content = f2.read()"
   ],
   "metadata": {
    "collapsed": false,
    "pycharm": {
     "name": "#%%\n"
    }
   }
  },
  {
   "cell_type": "markdown",
   "source": [
    "Call the ISA API"
   ],
   "metadata": {
    "collapsed": false,
    "pycharm": {
     "name": "#%% md\n"
    }
   }
  },
  {
   "cell_type": "code",
   "execution_count": null,
   "outputs": [],
   "source": [
    "# Send a PUT request to the service endpoint\n",
    "response = requests.put('http://localhost:3002/align-eqns', params={'file1': file1_content, 'file2': file2_content})"
   ],
   "metadata": {
    "collapsed": false,
    "pycharm": {
     "name": "#%%\n"
    }
   }
  },
  {
   "cell_type": "code",
   "execution_count": null,
   "outputs": [],
   "source": [
    "# Check the response status code\n",
    "if response.status_code == 200:\n",
    "    # Parse the response content as a JSON object\n",
    "    json_response = response.json()\n",
    "    # Access the matching ratio and union graph properties\n",
    "    matching_ratio = json_response['matching_ratio']\n",
    "    union_graph = json_response['union_graph']\n",
    "    print(f\"Matching ratio: {matching_ratio}\\nUnion graph: {union_graph}\")\n",
    "    src = Source(union_graph)\n",
    "    src.render('data/union_graph_ex2', format='png', view=False)\n",
    "else:\n",
    "    # Handle the error response\n",
    "    print(f\"Error: {response.status_code} - {response.text}\")"
   ],
   "metadata": {
    "collapsed": false,
    "pycharm": {
     "name": "#%%\n"
    }
   }
  },
  {
   "cell_type": "markdown",
   "source": [
    "We can see that the code implementation is identical to the equation in the paper."
   ],
   "metadata": {
    "collapsed": false,
    "pycharm": {
     "name": "#%% md\n"
    }
   }
  },
  {
   "cell_type": "code",
   "execution_count": null,
   "outputs": [],
   "source": [
    "Image(url=\"data/union_graph_ex2.png\", width=600, height=600) # Visualization of the alignment result"
   ],
   "metadata": {
    "collapsed": false,
    "pycharm": {
     "name": "#%%\n"
    }
   }
  },
  {
   "cell_type": "code",
   "execution_count": null,
   "outputs": [],
   "source": [
    "file1_path = './data/SIDARTHE_eq2.xml'\n",
    "file2_path = './data/SIDARTHE_Code_A_eq2.xml'"
   ],
   "metadata": {
    "collapsed": false,
    "pycharm": {
     "name": "#%%\n"
    }
   }
  },
  {
   "cell_type": "code",
   "execution_count": null,
   "outputs": [],
   "source": [
    "# Read the MathML files of the equation 2 in SIDARTHE and the equation 2 in SIDARTEH Code Version A\n",
    "with open(file1_path, 'r') as f1, open(file2_path, 'r') as f2:\n",
    "    file1_content = f1.read()\n",
    "    file2_content = f2.read()"
   ],
   "metadata": {
    "collapsed": false,
    "pycharm": {
     "name": "#%%\n"
    }
   }
  },
  {
   "cell_type": "markdown",
   "source": [
    "Call the ISA API"
   ],
   "metadata": {
    "collapsed": false,
    "pycharm": {
     "name": "#%% md\n"
    }
   }
  },
  {
   "cell_type": "code",
   "execution_count": null,
   "outputs": [],
   "source": [
    "# Send a PUT request to the service endpoint\n",
    "response = requests.put('http://localhost:3002/align-eqns', params={'file1': file1_content, 'file2': file2_content})"
   ],
   "metadata": {
    "collapsed": false,
    "pycharm": {
     "name": "#%%\n"
    }
   }
  },
  {
   "cell_type": "code",
   "execution_count": null,
   "outputs": [],
   "source": [
    "# Check the response status code\n",
    "if response.status_code == 200:\n",
    "    # Parse the response content as a JSON object\n",
    "    json_response = response.json()\n",
    "    # Access the matching ratio and union graph properties\n",
    "    matching_ratio = json_response['matching_ratio']\n",
    "    union_graph = json_response['union_graph']\n",
    "    print(f\"Matching ratio: {matching_ratio}\\nUnion graph: {union_graph}\")\n",
    "    src = Source(union_graph)\n",
    "    src.render('data/union_graph_ex3', format='png', view=False)\n",
    "else:\n",
    "    # Handle the error response\n",
    "    print(f\"Error: {response.status_code} - {response.text}\")"
   ],
   "metadata": {
    "collapsed": false,
    "pycharm": {
     "name": "#%%\n"
    }
   }
  },
  {
   "cell_type": "markdown",
   "source": [
    "It can be seen that ε has been removed from the code, and β and γ have switched positions."
   ],
   "metadata": {
    "collapsed": false,
    "pycharm": {
     "name": "#%% md\n"
    }
   }
  },
  {
   "cell_type": "code",
   "execution_count": null,
   "outputs": [],
   "source": [
    "Image(url=\"data/union_graph_ex3.png\", width=600, height=600) # Visualization of the alignment result"
   ],
   "metadata": {
    "collapsed": false,
    "pycharm": {
     "name": "#%%\n"
    }
   }
  },
  {
   "cell_type": "code",
   "execution_count": 19,
   "metadata": {},
   "outputs": [
    {
     "data": {
      "text/html": [
       "<img src=\"data/union_graph_ex3.png\" width=\"600\" height=\"600\"/>"
      ],
      "text/plain": [
       "<IPython.core.display.Image object>"
      ]
     },
     "execution_count": 19,
     "metadata": {},
     "output_type": "execute_result"
    }
   ],
   "source": [
    "Image(url=\"data/union_graph_ex3.png\", width=600, height=600) # Visualization of the alignment result"
   ]
  },
  {
   "cell_type": "code",
   "execution_count": null,
   "metadata": {},
   "outputs": [],
   "source": []
  }
 ],
 "metadata": {
  "kernelspec": {
   "display_name": "Python 3 (ipykernel)",
   "language": "python",
   "name": "python3"
  },
  "language_info": {
   "codemirror_mode": {
    "name": "ipython",
    "version": 3
   },
   "file_extension": ".py",
   "mimetype": "text/x-python",
   "name": "python",
   "nbconvert_exporter": "python",
   "pygments_lexer": "ipython3",
   "version": "3.8.15"
  }
 },
 "nbformat": 4,
 "nbformat_minor": 1
}