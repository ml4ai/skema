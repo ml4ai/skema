{
 "cells": [
  {
   "cell_type": "code",
   "execution_count": null,
   "metadata": {},
   "outputs": [],
   "source": [
    "import acsets, petris\n",
    "import json\n",
    "\n",
    "f = open('model_pn.json')\n",
    "eq_data = json.load(f)\n",
    "\n",
    "species = eq_data[\"species_latex\"]\n",
    "print(species)\n",
    "transitions = eq_data[\"rates_latex\"]\n",
    "print(transitions)\n",
    "edges = eq_data[\"edges\"]\n",
    "print(edges)\n",
    "\n",
    "sir = petris.Petri()\n",
    "sir.add_species(len(species))\n",
    "trans = petris.Transition\n",
    "sir.add_parts(trans, len(transitions))\n",
    "\n",
    "i=0\n",
    "for i, tran in enumerate(transitions): \n",
    "    sir.set_subpart(i, petris.attr_tname, transitions[i])\n",
    "    sir.set_subpart(i, petris.attr_tuid, i)\n",
    "\n",
    "j=0\n",
    "for j, spec in enumerate(species): \n",
    "    sir.set_subpart(j, petris.attr_sname, species[j])\n",
    "    sir.set_subpart(j, petris.attr_suid, i+j)\n",
    "\n",
    "for t, ([ins, outs]) in enumerate(edges):\n",
    "    print(\"ins: \", ins)\n",
    "    print(\"outs: \", outs)\n",
    "    for s in ins:\n",
    "        arc = sir.add_part(petris.Input)\n",
    "        sir.set_subpart(arc, petris.hom_it, t)\n",
    "        sir.set_subpart(arc, petris.hom_is, s)\n",
    "    for r in outs:\n",
    "        arc = sir.add_part(petris.Output)\n",
    "        sir.set_subpart(arc, petris.hom_ot, s)\n",
    "        sir.set_subpart(arc, petris.hom_os, r)\n",
    "\n",
    "serialized = sir.write_json()\n",
    "\n",
    "print(serialized)"
   ]
  }
 ],
 "metadata": {
  "language_info": {
   "name": "python"
  },
  "orig_nbformat": 4
 },
 "nbformat": 4,
 "nbformat_minor": 2
}
