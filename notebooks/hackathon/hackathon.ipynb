{
 "cells": [
  {
   "cell_type": "code",
   "execution_count": 1,
   "metadata": {},
   "outputs": [],
   "source": [
    "# Set the base URL\n",
    "BASE_URL=\"http://localhost:8080\""
   ]
  },
  {
   "cell_type": "code",
   "execution_count": 2,
   "metadata": {},
   "outputs": [],
   "source": [
    "import json\n",
    "from requests import get, put, post, delete"
   ]
  },
  {
   "cell_type": "code",
   "execution_count": 3,
   "metadata": {},
   "outputs": [
    {
     "name": "stdout",
     "output_type": "stream",
     "text": [
      "['S', ' I', ' D', ' A', ' R', ' T', ' H', ' E']\n",
      "['alpha', ' beta', ' gamma', ' delta', ' epsilon', ' mu', ' zeta', ' lamb', ' eta', ' rho', ' theta', ' kappa', ' nu', ' xi', ' sigma', ' tau']\n"
     ]
    }
   ],
   "source": [
    "from urllib.parse import urlencode\n",
    "\n",
    "mit_code = \"def SIDARTHE_model(y, t, alpha, beta, gamma, delta, epsilon, mu, zeta, lamb, eta, rho, theta, kappa, nu, xi, sigma, tau): S, I, D, A, R, T, H, E = y dSdt = -S*(alpha(t)*I + beta(t)*D + gamma(t)*A + delta(t)*R) dIdt = S*(alpha(t)*I + beta(t)*D + gamma(t)*A + delta(t)*R) - (epsilon(t) + zeta(t) + lamb(t))*I dDdt = epsilon(t)*I - (eta(t) + rho(t))*D dAdt = zeta(t)*I - (theta(t) + mu(t) + kappa(t))*A dRdt = eta(t)*D + theta(t)*A - (nu(t) + xi(t))*R dTdt = mu(t)*A + nu(t)*R - (sigma(t) + tau(t))*T dHdt = lamb(t)*I + rho(t)*D + kappa(t)*A + xi(t)*R + sigma(t)*T dEdt = tau(t)*T return dSdt, dIdt, dDdt, dAdt, dRdt, dTdt, dHdt, dEdt\"\n",
    "\n",
    "mit_json = { \"code\":mit_code ,\"gpt_key\":\"insert_here\"}\n",
    "\n",
    "encoded_query = urlencode(mit_json)\n",
    "\n",
    "MIT_states_url = \"http://100.26.10.46/petri/get_places/\" + \"?\" + encoded_query\n",
    "\n",
    "MIT_transitions_url = \"http://100.26.10.46/petri/get_parameters/\" + \"?\" + encoded_query\n",
    "\n",
    "mit_sp = post(MIT_states_url).json()\n",
    "\n",
    "mit_trans = post(MIT_transitions_url).json()\n",
    "\n",
    "print(mit_sp)\n",
    "\n",
    "print(mit_trans)"
   ]
  },
  {
   "cell_type": "code",
   "execution_count": 54,
   "metadata": {},
   "outputs": [
    {
     "name": "stdout",
     "output_type": "stream",
     "text": [
      "{15: 'this is metadata for S', 16: 'This is metadata for I'}\n"
     ]
    }
   ],
   "source": [
    "import acsets, petris\n",
    "\n",
    "mit_sir = petris.Petri()\n",
    "mit_sir.add_species(len(mit_sp))\n",
    "trans = petris.Transition\n",
    "mit_sir.add_parts(trans, len(mit_trans))\n",
    "\n",
    "i = 0\n",
    "for i, tran in enumerate(mit_trans): \n",
    "    mit_sir.set_subpart(i, petris.attr_tname, mit_trans[i].strip())\n",
    "    mit_sir.set_subpart(i, petris.attr_tuid, i)\n",
    "\n",
    "j = 0\n",
    "for j, spec in enumerate(mit_sp): \n",
    "    mit_sir.set_subpart(j, petris.attr_sname, mit_sp[j].strip())\n",
    "    mit_sir.set_subpart(j, petris.attr_suid, i+j)\n",
    "\n",
    "mit_serialized = mit_sir.write_json()\n",
    "with open(\"mit_py-ascet.json\", \"w\") as outfile:\n",
    "    outfile.write(mit_serialized)\n",
    "p = open('mit_py-ascet.json')\n",
    "p_data = json.load(p)\n",
    "\n",
    "f = open('test_union_metadata.json')\n",
    "a_data = json.load(f)\n",
    "\n",
    "temp_json = {}\n",
    "\n",
    "for m, entry in enumerate(a_data):\n",
    "    for n, e2 in enumerate(p_data[\"S\"]):\n",
    "        if e2[\"sname\"] == entry:\n",
    "            uid = e2[\"uid\"]\n",
    "            temp_json.update({uid:a_data[entry]})\n",
    "\n",
    "with open(\"test_union_metadata_uid.json\", \"w\") as outfile:\n",
    "    json.dump(temp_json, outfile)\n",
    "            \n",
    "print(temp_json)\n",
    "\n",
    "\n",
    "\n",
    "#print(mit_serialized)\n",
    "#print(data)"
   ]
  },
  {
   "cell_type": "code",
   "execution_count": 62,
   "metadata": {},
   "outputs": [
    {
     "name": "stdout",
     "output_type": "stream",
     "text": [
      "['S', 'I', 'D', 'A', 'R', 'T', 'H', 'E']\n"
     ]
    }
   ],
   "source": [
    "MODEL_ID = 2835\n",
    "opos = get(f\"{BASE_URL}/models/{MODEL_ID}/named_opos\").json()\n",
    "trimmed_opos = []\n",
    "for ent in opos: \n",
    "    trimmed_opos.append(ent.replace(\"d\", \"\").replace(\"t\", \"\"))\n",
    "\n",
    "print(trimmed_opos)"
   ]
  },
  {
   "cell_type": "code",
   "execution_count": 63,
   "metadata": {},
   "outputs": [
    {
     "name": "stdout",
     "output_type": "stream",
     "text": [
      "['gamma', 'delta', 'epsilon', 'mu', 'zeta', 'lamb', 'eta', 'rho', 'theta', 'kappa', 'nu', 'xi', 'sigma', 'tau']\n"
     ]
    }
   ],
   "source": [
    "opis = get(f\"{BASE_URL}/models/{MODEL_ID}/named_opis\").json()\n",
    "opis = opis[3:]\n",
    "print(opis)"
   ]
  },
  {
   "cell_type": "code",
   "execution_count": 44,
   "metadata": {},
   "outputs": [],
   "source": [
    "edges = [([0,1],[1,1]),([1],[2])]"
   ]
  },
  {
   "cell_type": "code",
   "execution_count": 3,
   "metadata": {},
   "outputs": [
    {
     "ename": "NameError",
     "evalue": "name 'trimmed_opos' is not defined",
     "output_type": "error",
     "traceback": [
      "\u001b[0;31m---------------------------------------------------------------------------\u001b[0m",
      "\u001b[0;31mNameError\u001b[0m                                 Traceback (most recent call last)",
      "Cell \u001b[0;32mIn[3], line 4\u001b[0m\n\u001b[1;32m      1\u001b[0m \u001b[39mimport\u001b[39;00m \u001b[39macsets\u001b[39;00m\u001b[39m,\u001b[39m \u001b[39mpetris\u001b[39;00m\n\u001b[1;32m      3\u001b[0m sir \u001b[39m=\u001b[39m petris\u001b[39m.\u001b[39mPetri()\n\u001b[0;32m----> 4\u001b[0m sir\u001b[39m.\u001b[39madd_species(\u001b[39mlen\u001b[39m(trimmed_opos))\n\u001b[1;32m      5\u001b[0m trans \u001b[39m=\u001b[39m petris\u001b[39m.\u001b[39mTransition\n\u001b[1;32m      6\u001b[0m sir\u001b[39m.\u001b[39madd_parts(trans, \u001b[39mlen\u001b[39m(opis))\n",
      "\u001b[0;31mNameError\u001b[0m: name 'trimmed_opos' is not defined"
     ]
    }
   ],
   "source": [
    "import acsets, petris\n",
    "\n",
    "sir = petris.Petri()\n",
    "sir.add_species(len(trimmed_opos))\n",
    "trans = petris.Transition\n",
    "sir.add_parts(trans, len(opis))\n",
    "\n",
    "i=0\n",
    "for i, tran in enumerate(opis): \n",
    "    sir.set_subpart(i, petris.attr_tname, opis[i])\n",
    "    sir.set_subpart(i, petris.attr_tuid, i)\n",
    "\n",
    "j=0\n",
    "for j, spec in enumerate(trimmed_opos): \n",
    "    sir.set_subpart(j, petris.attr_sname, trimmed_opos[j])\n",
    "    sir.set_subpart(j, petris.attr_suid, i+j)\n",
    "\n",
    "'''for t, ([ins, outs]) in enumerate(edges):\n",
    "    for s in ins:\n",
    "        arc = sir.add_part(petris.Input)\n",
    "        sir.set_subpart(arc, petris.hom_it, t)\n",
    "        sir.set_subpart(arc, petris.hom_is, s)\n",
    "    for r in outs:\n",
    "        arc = sir.add_part(petris.Output)\n",
    "        sir.set_subpart(arc, petris.hom_ot, t)\n",
    "        sir.set_subpart(arc, petris.hom_os, r)'''\n",
    "\n",
    "serialized = sir.write_json()\n",
    "\n",
    "with open(\"____seird_sample.json\", \"w\") as outfile:\n",
    "    outfile.write(serialized)\n",
    "f = open('____seird_sample.json')\n",
    "data = json.load(f)\n",
    "\n",
    "print(serialized)\n",
    "print(data)"
   ]
  },
  {
   "cell_type": "code",
   "execution_count": 1,
   "metadata": {},
   "outputs": [
    {
     "name": "stdout",
     "output_type": "stream",
     "text": [
      "{\"S\": [{\"sname\": \"s\", \"uid\": 0}, {\"sname\": \"i\", \"uid\": 1}, {\"sname\": \"r\", \"uid\": 2}], \"T\": [{\"tname\": \"beta\", \"uid\": 0}, {\"tname\": \"gamma\", \"uid\": 1}], \"I\": [{\"it\": 1, \"is\": 1}, {\"it\": 1, \"is\": 2}, {\"it\": 2, \"is\": 2}], \"O\": [{\"ot\": 1, \"os\": 2}, {\"ot\": 1, \"os\": 2}, {\"ot\": 2, \"os\": 3}]}\n"
     ]
    }
   ],
   "source": [
    "import acsets, petris\n",
    "\n",
    "sp = ['s', 'i', 'r']\n",
    "\n",
    "t = ['beta', 'gamma']\n",
    "\n",
    "sir = petris.Petri()\n",
    "s,i,r = sir.add_species(3)\n",
    "inf,rec = sir.add_transitions([([0,1],[1,1]),([1],[2])])\n",
    "\n",
    "for k, tran in enumerate(t): \n",
    "    sir.set_subpart(k, petris.attr_tname, t[k])\n",
    "    sir.set_subpart(k, petris.attr_tuid, k)\n",
    "\n",
    "for j, spec in enumerate(sp): \n",
    "    sir.set_subpart(j, petris.attr_sname, sp[j])\n",
    "    sir.set_subpart(j, petris.attr_suid, j)\n",
    "\n",
    "serialized = sir.write_json()\n",
    "\n",
    "print(serialized)"
   ]
  },
  {
   "cell_type": "code",
   "execution_count": 2,
   "metadata": {},
   "outputs": [
    {
     "name": "stdout",
     "output_type": "stream",
     "text": [
      "['D', 'V', 'A', 'I', 'R', 'T', 'H', 'E', 'S']\n",
      "['α', 'β', 'γ', 'δ', 'ϕ', 'ϵ', 'ζ', 'λ', 'η', 'ρ', 'θ', 'μ', 'κ', 'ν', 'ξ', 'τ_{1}', 'σ', 'τ_{2}']\n",
      "[[[8, 3], [3, 3]], [[8, 0], [0, 3]], [[8, 2], [2, 3]], [[8, 4], [4, 3]], [[8], [1]], [[3], [0]], [[3], [2]], [[3], [6]], [[0], [4]], [[0], [6]], [[2], [4]], [[2], [5]], [[2], [6]], [[4], [5]], [[4], [6]], [[4], [7]], [[5], [6]], [[5], [7]]]\n",
      "{\"S\": [{\"sname\": \"D\", \"uid\": 17}, {\"sname\": \"V\", \"uid\": 18}, {\"sname\": \"A\", \"uid\": 19}, {\"sname\": \"I\", \"uid\": 20}, {\"sname\": \"R\", \"uid\": 21}, {\"sname\": \"T\", \"uid\": 22}, {\"sname\": \"H\", \"uid\": 23}, {\"sname\": \"E\", \"uid\": 24}, {\"sname\": \"S\", \"uid\": 25}], \"T\": [{\"tname\": \"\\u03b1\", \"uid\": 0}, {\"tname\": \"\\u03b2\", \"uid\": 1}, {\"tname\": \"\\u03b3\", \"uid\": 2}, {\"tname\": \"\\u03b4\", \"uid\": 3}, {\"tname\": \"\\u03d5\", \"uid\": 4}, {\"tname\": \"\\u03f5\", \"uid\": 5}, {\"tname\": \"\\u03b6\", \"uid\": 6}, {\"tname\": \"\\u03bb\", \"uid\": 7}, {\"tname\": \"\\u03b7\", \"uid\": 8}, {\"tname\": \"\\u03c1\", \"uid\": 9}, {\"tname\": \"\\u03b8\", \"uid\": 10}, {\"tname\": \"\\u03bc\", \"uid\": 11}, {\"tname\": \"\\u03ba\", \"uid\": 12}, {\"tname\": \"\\u03bd\", \"uid\": 13}, {\"tname\": \"\\u03be\", \"uid\": 14}, {\"tname\": \"\\u03c4_{1}\", \"uid\": 15}, {\"tname\": \"\\u03c3\", \"uid\": 16}, {\"tname\": \"\\u03c4_{2}\", \"uid\": 17}], \"I\": [{\"it\": 1, \"is\": 9}, {\"it\": 1, \"is\": 4}, {\"it\": 2, \"is\": 9}, {\"it\": 2, \"is\": 1}, {\"it\": 3, \"is\": 9}, {\"it\": 3, \"is\": 3}, {\"it\": 4, \"is\": 9}, {\"it\": 4, \"is\": 5}, {\"it\": 5, \"is\": 9}, {\"it\": 6, \"is\": 4}, {\"it\": 7, \"is\": 4}, {\"it\": 8, \"is\": 4}, {\"it\": 9, \"is\": 1}, {\"it\": 10, \"is\": 1}, {\"it\": 11, \"is\": 3}, {\"it\": 12, \"is\": 3}, {\"it\": 13, \"is\": 3}, {\"it\": 14, \"is\": 5}, {\"it\": 15, \"is\": 5}, {\"it\": 16, \"is\": 5}, {\"it\": 17, \"is\": 6}, {\"it\": 18, \"is\": 6}], \"O\": [{\"ot\": 1, \"os\": 4}, {\"ot\": 1, \"os\": 4}, {\"ot\": 2, \"os\": 1}, {\"ot\": 2, \"os\": 4}, {\"ot\": 3, \"os\": 3}, {\"ot\": 3, \"os\": 4}, {\"ot\": 4, \"os\": 5}, {\"ot\": 4, \"os\": 4}, {\"ot\": 5, \"os\": 2}, {\"ot\": 6, \"os\": 1}, {\"ot\": 7, \"os\": 3}, {\"ot\": 8, \"os\": 7}, {\"ot\": 9, \"os\": 5}, {\"ot\": 10, \"os\": 7}, {\"ot\": 11, \"os\": 5}, {\"ot\": 12, \"os\": 6}, {\"ot\": 13, \"os\": 7}, {\"ot\": 14, \"os\": 6}, {\"ot\": 15, \"os\": 7}, {\"ot\": 16, \"os\": 8}, {\"ot\": 17, \"os\": 7}, {\"ot\": 18, \"os\": 8}]}\n"
     ]
    },
    {
     "data": {
      "text/plain": [
       "[([], []), ([], []), ([], [])]"
      ]
     },
     "execution_count": 2,
     "metadata": {},
     "output_type": "execute_result"
    }
   ],
   "source": [
    "import acsets, petris\n",
    "import json\n",
    "\n",
    "f = open('model_pn_SIDARTHE_V.json')\n",
    "eq_data = json.load(f)\n",
    "\n",
    "species = eq_data[\"species_latex\"]\n",
    "print(species)\n",
    "transitions = eq_data[\"rates_latex\"]\n",
    "print(transitions)\n",
    "edges = eq_data[\"edges\"]\n",
    "print(edges)\n",
    "\n",
    "sir = petris.Petri()\n",
    "sir.add_species(len(species))\n",
    "trans = petris.Transition\n",
    "sir.add_parts(trans, len(transitions))\n",
    "\n",
    "i=0\n",
    "for i, tran in enumerate(transitions): \n",
    "    sir.set_subpart(i, petris.attr_tname, transitions[i])\n",
    "    sir.set_subpart(i, petris.attr_tuid, i)\n",
    "\n",
    "j=0\n",
    "for j, spec in enumerate(species): \n",
    "    sir.set_subpart(j, petris.attr_sname, species[j])\n",
    "    sir.set_subpart(j, petris.attr_suid, i+j)\n",
    "\n",
    "for t, ([ins, outs]) in enumerate(edges):\n",
    "    for s in ins:\n",
    "        arc = sir.add_part(petris.Input)\n",
    "        sir.set_subpart(arc, petris.hom_it, t)\n",
    "        sir.set_subpart(arc, petris.hom_is, s)\n",
    "    for r in outs:\n",
    "        arc = sir.add_part(petris.Output)\n",
    "        sir.set_subpart(arc, petris.hom_ot, t)\n",
    "        sir.set_subpart(arc, petris.hom_os, r)\n",
    "\n",
    "serialized = sir.write_json()\n",
    "\n",
    "print(serialized)\n",
    "\n",
    "with open(\"SKEMA_SIDARTHE_PN_V.json\", \"w\") as outfile:\n",
    "    outfile.write(serialized)\n"
   ]
  }
 ],
 "metadata": {
  "kernelspec": {
   "display_name": "Python 3 (ipykernel)",
   "language": "python",
   "name": "python3"
  },
  "language_info": {
   "codemirror_mode": {
    "name": "ipython",
    "version": 3
   },
   "file_extension": ".py",
   "mimetype": "text/x-python",
   "name": "python",
   "nbconvert_exporter": "python",
   "pygments_lexer": "ipython3",
   "version": "3.9.14"
  },
  "orig_nbformat": 4,
  "vscode": {
   "interpreter": {
    "hash": "31f2aee4e71d21fbe5cf8b01ff0e069b9275f58929596ceb00d14d90e3e16cd6"
   }
  }
 },
 "nbformat": 4,
 "nbformat_minor": 2
}
