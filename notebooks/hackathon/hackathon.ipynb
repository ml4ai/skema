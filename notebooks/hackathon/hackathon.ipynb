{
 "cells": [
  {
   "cell_type": "code",
   "execution_count": 1,
   "metadata": {},
   "outputs": [],
   "source": [
    "# Set the base URL\n",
    "BASE_URL=\"http://localhost:8080\""
   ]
  },
  {
   "cell_type": "code",
   "execution_count": 2,
   "metadata": {},
   "outputs": [],
   "source": [
    "import json\n",
    "import acsets, petris\n",
    "from requests import get, put, post, delete\n",
    "from graphviz import Source"
   ]
  },
  {
   "cell_type": "code",
   "execution_count": 11,
   "metadata": {},
   "outputs": [
    {
     "name": "stdout",
     "output_type": "stream",
     "text": [
      "['S', 'E', 'I', 'R', 'D', 'N']\n"
     ]
    }
   ],
   "source": [
    "MODEL_ID = 2229\n",
    "opos = get(f\"{BASE_URL}/models/{MODEL_ID}/named_opos\").json()\n",
    "trimmed_opos = []\n",
    "for ent in opos: \n",
    "    trimmed_opos.append(ent.replace(\"d\", \"\").replace(\"t\", \"\"))\n",
    "\n",
    "print(trimmed_opos)"
   ]
  },
  {
   "cell_type": "code",
   "execution_count": 7,
   "metadata": {},
   "outputs": [
    {
     "name": "stdout",
     "output_type": "stream",
     "text": [
      "['y', 't', 'N0', 'alpha', 'beta', 'gamma', 'epsilon', 'mu']\n"
     ]
    }
   ],
   "source": [
    "opis = get(f\"{BASE_URL}/models/{MODEL_ID}/named_opis\").json()\n",
    "print(opis)"
   ]
  },
  {
   "cell_type": "code",
   "execution_count": 13,
   "metadata": {},
   "outputs": [
    {
     "name": "stdout",
     "output_type": "stream",
     "text": [
      "{\"S\": [{\"sname\": \"S\"}, {\"sname\": \"E\"}, {\"sname\": \"I\"}, {\"sname\": \"R\"}, {\"sname\": \"D\"}, {\"sname\": \"N\"}], \"T\": [{\"tname\": \"y\"}, {\"tname\": \"t\"}, {\"tname\": \"N0\"}, {\"tname\": \"alpha\"}, {\"tname\": \"beta\"}, {\"tname\": \"gamma\"}, {\"tname\": \"epsilon\"}, {\"tname\": \"mu\"}], \"I\": [], \"O\": []}\n",
      "{\"S\": [{\"sname\": \"S\"}, {\"sname\": \"E\"}, {\"sname\": \"I\"}, {\"sname\": \"R\"}, {\"sname\": \"D\"}, {\"sname\": \"N\"}], \"T\": [{\"tname\": \"y\"}, {\"tname\": \"t\"}, {\"tname\": \"N0\"}, {\"tname\": \"alpha\"}, {\"tname\": \"beta\"}, {\"tname\": \"gamma\"}, {\"tname\": \"epsilon\"}, {\"tname\": \"mu\"}], \"I\": [], \"O\": []}\n"
     ]
    }
   ],
   "source": [
    "sir = petris.Petri()\n",
    "sir.add_species(len(trimmed_opos))\n",
    "trans = petris.Transition\n",
    "sir.add_parts(trans, len(opis))\n",
    "\n",
    "for i, tran in enumerate(opis): \n",
    "    sir.set_subpart(i, petris.attr_tname, opis[i])\n",
    "\n",
    "for j, spec in enumerate(opos): \n",
    "    sir.set_subpart(j, petris.attr_sname, trimmed_opos[j])\n",
    "\n",
    "serialized = sir.write_json()\n",
    "deserialized = petris.Petri.read_json(petris.SchPetri, serialized)\n",
    "reserialized = deserialized.write_json()\n",
    "\n",
    "print(serialized)\n",
    "print(reserialized)"
   ]
  }
 ],
 "metadata": {
  "kernelspec": {
   "display_name": "Python 3 (ipykernel)",
   "language": "python",
   "name": "python3"
  },
  "language_info": {
   "codemirror_mode": {
    "name": "ipython",
    "version": 3
   },
   "file_extension": ".py",
   "mimetype": "text/x-python",
   "name": "python",
   "nbconvert_exporter": "python",
   "pygments_lexer": "ipython3",
   "version": "3.9.14"
  },
  "orig_nbformat": 4,
  "vscode": {
   "interpreter": {
    "hash": "31f2aee4e71d21fbe5cf8b01ff0e069b9275f58929596ceb00d14d90e3e16cd6"
   }
  }
 },
 "nbformat": 4,
 "nbformat_minor": 2
}
