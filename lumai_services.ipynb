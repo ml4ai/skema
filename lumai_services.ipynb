{
 "cells": [
  {
   "cell_type": "markdown",
   "id": "2c62085a",
   "metadata": {},
   "source": [
    "# Lum.ai Services #\n",
    "- Host = http://127.0.0.1\n",
    "- skema-rs port = 8080\n",
    "- skema-py port = 8010\n",
    "- img2mml port = 8020"
   ]
  },
  {
   "cell_type": "code",
   "execution_count": 7,
   "id": "1e6fc894",
   "metadata": {
    "scrolled": true
   },
   "outputs": [
    {
     "name": "stdout",
     "output_type": "stream",
     "text": [
      "The SKEMA Rust web services are running."
     ]
    }
   ],
   "source": [
    "!curl http://127.0.0.1:8080/ping"
   ]
  },
  {
   "cell_type": "code",
   "execution_count": 8,
   "id": "d96aac74",
   "metadata": {},
   "outputs": [
    {
     "name": "stdout",
     "output_type": "stream",
     "text": [
      "\"The img2mml service is running.\""
     ]
    }
   ],
   "source": [
    "!curl http://127.0.0.1:8020/ping"
   ]
  },
  {
   "cell_type": "code",
   "execution_count": 9,
   "id": "ee65ecbb",
   "metadata": {},
   "outputs": [
    {
     "name": "stdout",
     "output_type": "stream",
     "text": [
      "\"The skema-py service is running.\""
     ]
    }
   ],
   "source": [
    "!curl http://127.0.0.1:8010/ping"
   ]
  },
  {
   "cell_type": "code",
   "execution_count": null,
   "id": "bf1b2917",
   "metadata": {},
   "outputs": [],
   "source": []
  }
 ],
 "metadata": {
  "kernelspec": {
   "display_name": "Python 3 (ipykernel)",
   "language": "python",
   "name": "python3"
  },
  "language_info": {
   "codemirror_mode": {
    "name": "ipython",
    "version": 3
   },
   "file_extension": ".py",
   "mimetype": "text/x-python",
   "name": "python",
   "nbconvert_exporter": "python",
   "pygments_lexer": "ipython3",
   "version": "3.8.10"
  }
 },
 "nbformat": 4,
 "nbformat_minor": 5
}
