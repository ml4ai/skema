{
 "cells": [
  {
   "cell_type": "markdown",
   "id": "9a675bbd",
   "metadata": {},
   "source": [
    "# img2mml #\n",
    "- Host = http://127.0.0.1\n",
    "- Port = 8020"
   ]
  },
  {
   "cell_type": "code",
   "execution_count": 4,
   "id": "1e6fc894",
   "metadata": {
    "scrolled": true
   },
   "outputs": [
    {
     "name": "stdout",
     "output_type": "stream",
     "text": [
      "\"The img2mml service is running.\""
     ]
    }
   ],
   "source": [
    "!curl http://127.0.0.1:8020/ping"
   ]
  },
  {
   "cell_type": "code",
   "execution_count": null,
   "id": "1fd34357",
   "metadata": {},
   "outputs": [],
   "source": []
  }
 ],
 "metadata": {
  "kernelspec": {
   "display_name": "Python 3 (ipykernel)",
   "language": "python",
   "name": "python3"
  },
  "language_info": {
   "codemirror_mode": {
    "name": "ipython",
    "version": 3
   },
   "file_extension": ".py",
   "mimetype": "text/x-python",
   "name": "python",
   "nbconvert_exporter": "python",
   "pygments_lexer": "ipython3",
   "version": "3.8.10"
  }
 },
 "nbformat": 4,
 "nbformat_minor": 5
}
