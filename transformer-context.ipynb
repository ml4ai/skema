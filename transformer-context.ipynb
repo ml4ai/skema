{
 "cells": [
  {
   "cell_type": "markdown",
   "source": [
    "### Read the context annotations "
   ],
   "metadata": {
    "collapsed": false
   },
   "id": "8e68ca3b18a200ca"
  },
  {
   "cell_type": "code",
   "execution_count": 1,
   "outputs": [
    {
     "data": {
      "text/plain": "[{'type': 'Highlight',\n  'page': 2,\n  'page_label': '16733',\n  'start_xy': [293.54, 622.995],\n  'text': 'I (t) infected individuals',\n  'author': 'enrique',\n  'created': '2023-10-05T19:55:15',\n  'color': '#ffd100'},\n {'type': 'Highlight',\n  'page': 2,\n  'page_label': '16733',\n  'start_xy': [396.977, 622.995],\n  'text': 'time t',\n  'author': 'enrique',\n  'created': '2023-10-05T19:55:10',\n  'color': '#ffd100'},\n {'type': 'Highlight',\n  'page': 2,\n  'page_label': '16733',\n  'start_xy': [329.027, 613.032],\n  'text': 'α is the rate constant at which they infect others',\n  'author': 'enrique',\n  'created': '2023-10-05T19:55:21',\n  'color': '#ffd100'},\n {'type': 'Highlight',\n  'page': 2,\n  'page_label': '16733',\n  'start_xy': [390.564, 573.539],\n  'text': '¯I infections',\n  'author': 'enrique',\n  'created': '2023-10-05T19:55:39',\n  'color': '#69d927'},\n {'type': 'Highlight',\n  'page': 2,\n  'page_label': '16733',\n  'start_xy': [104.114, 543.408],\n  'text': 'California',\n  'author': 'enrique',\n  'created': '2023-10-05T19:54:05',\n  'color': '#69d927'},\n {'type': 'Highlight',\n  'page': 2,\n  'page_label': '16733',\n  'start_xy': [35.0102, 513.52],\n  'text': 'United States',\n  'author': 'enrique',\n  'created': '2023-10-05T19:54:30',\n  'color': '#ffd100'},\n {'type': 'Highlight',\n  'page': 2,\n  'page_label': '16733',\n  'start_xy': [298.702, 128.313],\n  'text': 'Italy',\n  'author': 'enrique',\n  'created': '2023-10-05T19:57:03',\n  'color': '#69d927'},\n {'type': 'Highlight',\n  'page': 2,\n  'page_label': '16733',\n  'start_xy': [316.081, 128.313],\n  'text': 'Germany',\n  'author': 'enrique',\n  'created': '2023-10-05T19:57:05',\n  'color': '#69d927'},\n {'type': 'Highlight',\n  'page': 2,\n  'page_label': '16733',\n  'start_xy': [348.948, 128.313],\n  'text': 'France',\n  'author': 'enrique',\n  'created': '2023-10-05T19:57:08',\n  'color': '#69d927'},\n {'type': 'Highlight',\n  'page': 2,\n  'page_label': '16733',\n  'start_xy': [374.2, 128.313],\n  'text': 'Spain',\n  'author': 'enrique',\n  'created': '2023-10-05T19:57:11',\n  'color': '#69d927'},\n {'type': 'Highlight',\n  'page': 2,\n  'page_label': '16733',\n  'start_xy': [408.818, 128.313],\n  'text': 'United Kingdom',\n  'author': 'enrique',\n  'created': '2023-10-05T19:57:13',\n  'color': '#69d927'},\n {'type': 'Highlight',\n  'page': 2,\n  'page_label': '16733',\n  'start_xy': [493.926, 128.312],\n  'text': 'United States',\n  'author': 'enrique',\n  'created': '2023-10-05T19:57:17',\n  'color': '#69d927'},\n {'type': 'Highlight',\n  'page': 2,\n  'page_label': '16733',\n  'start_xy': [390.03, 119.346],\n  'text': 'normalized infection i',\n  'contents': 'location: italy, germany, france, spain, united kingdom, united states',\n  'author': 'enrique',\n  'created': '2023-10-05T19:57:32',\n  'color': '#ffd100'},\n {'type': 'Highlight',\n  'page': 2,\n  'page_label': '16733',\n  'start_xy': [478.665, 119.346],\n  'text': 'death d',\n  'contents': 'location: italy, germany, france, spain, united kingdom, united states',\n  'author': 'enrique',\n  'created': '2023-10-05T19:57:35',\n  'color': '#ffd100'},\n {'type': 'Highlight',\n  'page': 2,\n  'page_label': '16733',\n  'start_xy': [214.352, 101.44],\n  'text': 'death (Td,d)',\n  'contents': 'location: italy, germany, france, spain, united kingdom, united states',\n  'author': 'enrique',\n  'created': '2023-10-05T19:57:51',\n  'color': '#ffd100'},\n {'type': 'Highlight',\n  'page': 2,\n  'page_label': '16733',\n  'start_xy': [147.093, 101.414],\n  'text': 'infections (Td,i)',\n  'contents': 'location: italy, germany, france, spain, united kingdom, united states',\n  'author': 'enrique',\n  'created': '2023-10-05T19:57:49',\n  'color': '#ffd100'},\n {'type': 'Highlight',\n  'page': 2,\n  'page_label': '16733',\n  'start_xy': [311.545, 101.414],\n  'text': 'Japan',\n  'author': 'enrique',\n  'created': '2023-10-05T19:57:57',\n  'color': '#69d927'},\n {'type': 'Highlight',\n  'page': 2,\n  'page_label': '16733',\n  'start_xy': [348.283, 101.414],\n  'text': 'South Korea',\n  'author': 'enrique',\n  'created': '2023-10-05T19:58:00',\n  'color': '#69d927'},\n {'type': 'Highlight',\n  'page': 2,\n  'page_label': '16733',\n  'start_xy': [228.749, 92.4477],\n  'text': 'China',\n  'author': 'enrique',\n  'created': '2023-10-05T19:58:06',\n  'color': '#69d927'},\n {'type': 'Highlight',\n  'page': 2,\n  'page_label': '16733',\n  'start_xy': [251.574, 92.4477],\n  'text': 'Italy',\n  'author': 'enrique',\n  'created': '2023-10-05T19:58:08',\n  'color': '#69d927'},\n {'type': 'Highlight',\n  'page': 2,\n  'page_label': '16733',\n  'start_xy': [297.071, 92.4477],\n  'text': 'United States',\n  'author': 'enrique',\n  'created': '2023-10-05T19:58:10',\n  'color': '#69d927'},\n {'type': 'Highlight',\n  'page': 2,\n  'page_label': '16733',\n  'start_xy': [203.051, 83.4817],\n  'text': '1 April 2020',\n  'author': 'enrique',\n  'created': '2023-10-05T19:58:17',\n  'color': '#69d927'},\n {'type': 'Highlight',\n  'page': 2,\n  'page_label': '16733',\n  'start_xy': [347.513, 83.4817],\n  'text': 'New York (NY)',\n  'author': 'enrique',\n  'created': '2023-10-05T19:58:21',\n  'color': '#69d927'},\n {'type': 'Highlight',\n  'page': 2,\n  'page_label': '16733',\n  'start_xy': [399.691, 83.4817],\n  'text': 'California (CA)',\n  'author': 'enrique',\n  'created': '2023-10-05T19:58:26',\n  'color': '#69d927'},\n {'type': 'Highlight',\n  'page': 2,\n  'page_label': '16733',\n  'start_xy': [466.116, 83.4817],\n  'text': 'Indiana',\n  'author': 'enrique',\n  'created': '2023-10-05T19:58:29',\n  'color': '#69d927'},\n {'type': 'Highlight',\n  'page': 2,\n  'page_label': '16733',\n  'start_xy': [148.196, 74.5148],\n  'text': 'Indiana).',\n  'author': 'enrique',\n  'created': '2023-10-05T19:58:36',\n  'color': '#69d927'},\n {'type': 'Highlight',\n  'page': 2,\n  'page_label': '16733',\n  'start_xy': [35.7218, 74.5147],\n  'text': 'Reproduction numbers of COVID-19 vary in different studies and regions of the world (in addition to over time) but have generally been found to be between 1.5 and 6',\n  'contents': 'location: new york, california, indiana;time: 1 april 2020',\n  'author': 'enrique',\n  'created': '2023-10-05T19:59:21',\n  'color': '#0000ff'},\n {'type': 'Highlight',\n  'page': 3,\n  'page_label': '16734',\n  'start_xy': [49.3043, 702.81],\n  'text': 'Wuhan',\n  'author': 'enrique',\n  'created': '2023-10-05T19:56:50',\n  'color': '#69d927'},\n {'type': 'Highlight',\n  'page': 3,\n  'page_label': '16734',\n  'start_xy': [324.624, 670.951],\n  'text': 'Ic(t) is the cumulative number of infections',\n  'author': 'enrique',\n  'created': '2023-10-05T20:11:48',\n  'color': '#ffd100'},\n {'type': 'Highlight',\n  'page': 3,\n  'page_label': '16734',\n  'start_xy': [359.033, 660.988],\n  'text': 'time t',\n  'author': 'enrique',\n  'created': '2023-10-05T20:11:52',\n  'color': '#ffd100'},\n {'type': 'Highlight',\n  'page': 3,\n  'page_label': '16734',\n  'start_xy': [406.409, 660.988],\n  'text': 'N is the total population size',\n  'author': 'enrique',\n  'created': '2023-10-05T20:11:55',\n  'color': '#ffd100'},\n {'type': 'Highlight',\n  'page': 3,\n  'page_label': '16734',\n  'start_xy': [530.432, 640.986],\n  'text': 'R',\n  'author': 'enrique',\n  'created': '2023-10-05T20:12:35',\n  'color': '#a32f86'},\n {'type': 'Highlight',\n  'page': 3,\n  'page_label': '16734',\n  'start_xy': [409.909, 619.167],\n  'text': 'R(ti )',\n  'author': 'enrique',\n  'created': '2023-10-05T20:12:52',\n  'color': '#a32f86'},\n {'type': 'Highlight',\n  'page': 3,\n  'page_label': '16734',\n  'start_xy': [298.223, 611.175],\n  'text': 'Nt term is the number of infections',\n  'author': 'enrique',\n  'created': '2023-10-05T20:13:03',\n  'color': '#ffd100'},\n {'type': 'Highlight',\n  'page': 3,\n  'page_label': '16734',\n  'start_xy': [396.678, 599.242],\n  'text': 'R(ti )',\n  'author': 'enrique',\n  'created': '2023-10-05T20:13:16',\n  'color': '#a32f86'},\n {'type': 'Highlight',\n  'page': 3,\n  'page_label': '16734',\n  'start_xy': [337.693, 571.325],\n  'text': '1%',\n  'author': 'enrique',\n  'created': '2023-10-05T20:13:28',\n  'color': '#37e5ff'},\n {'type': 'Highlight',\n  'page': 3,\n  'page_label': '16734',\n  'start_xy': [39.6922, 547.425],\n  'text': 'ti are the times of previous infection incidents',\n  'author': 'enrique',\n  'created': '2023-10-05T20:00:32',\n  'color': '#ffd100'},\n {'type': 'Highlight',\n  'page': 3,\n  'page_label': '16734',\n  'start_xy': [65.5564, 547.425],\n  'text': 't is the current time',\n  'author': 'enrique',\n  'created': '2023-10-05T20:00:28',\n  'color': '#ffd100'},\n {'type': 'Highlight',\n  'page': 3,\n  'page_label': '16734',\n  'start_xy': [40.2164, 537.462],\n  'text': 'the dimensionless reproduction number, R(t)',\n  'author': 'enrique',\n  'created': '2023-10-05T20:00:39',\n  'color': '#ffd100'},\n {'type': 'Highlight',\n  'page': 3,\n  'page_label': '16734',\n  'start_xy': [39.6922, 497.611],\n  'text': 'distribution of interevent times w (ti − tj )',\n  'author': 'enrique',\n  'created': '2023-10-05T20:02:40',\n  'color': '#ffd100'},\n {'type': 'Highlight',\n  'page': 3,\n  'page_label': '16734',\n  'start_xy': [448.473, 482.159],\n  'text': '1918',\n  'author': 'enrique',\n  'created': '2023-10-05T20:13:48',\n  'color': '#69d927'},\n {'type': 'Highlight',\n  'page': 3,\n  'page_label': '16734',\n  'start_xy': [74.2218, 477.686],\n  'text': 'shape parameter k',\n  'author': 'enrique',\n  'created': '2023-10-05T20:02:51',\n  'color': '#ffd100'},\n {'type': 'Highlight',\n  'page': 3,\n  'page_label': '16734',\n  'start_xy': [188.585, 477.686],\n  'text': 'parameter b',\n  'author': 'enrique',\n  'created': '2023-10-05T20:03:02',\n  'color': '#ffd100'},\n {'type': 'Highlight',\n  'page': 3,\n  'page_label': '16734',\n  'start_xy': [39.6922, 467.723],\n  'text': 'parameter µ allows for exogenous infection cases',\n  'author': 'enrique',\n  'created': '2023-10-05T20:03:15',\n  'color': '#ffd100'},\n {'type': 'Highlight',\n  'page': 3,\n  'page_label': '16734',\n  'start_xy': [298.223, 432.346],\n  'text': 'population of size N',\n  'author': 'enrique',\n  'created': '2023-10-05T20:15:08',\n  'color': '#ffd100'},\n {'type': 'Highlight',\n  'page': 3,\n  'page_label': '16734',\n  'start_xy': [343.576, 432.346],\n  'text': 'United States',\n  'author': 'enrique',\n  'created': '2023-10-05T20:14:53',\n  'color': '#69d927'},\n {'type': 'Highlight',\n  'page': 3,\n  'page_label': '16734',\n  'start_xy': [361.867, 422.383],\n  'text': 'S is the total number of susceptible individuals',\n  'author': 'enrique',\n  'created': '2023-10-05T20:15:14',\n  'color': '#ffd100'},\n {'type': 'Highlight',\n  'page': 3,\n  'page_label': '16734',\n  'start_xy': [298.223, 412.42],\n  'text': 'R is the number of resistant individuals',\n  'author': 'enrique',\n  'created': '2023-10-05T20:15:22',\n  'color': '#ffd100'},\n {'type': 'Highlight',\n  'page': 3,\n  'page_label': '16734',\n  'start_xy': [298.747, 412.42],\n  'text': 'I is the number of infected individuals',\n  'author': 'enrique',\n  'created': '2023-10-05T20:15:18',\n  'color': '#ffd100'},\n {'type': 'Highlight',\n  'page': 3,\n  'page_label': '16734',\n  'start_xy': [387.706, 380.562],\n  'text': 'R',\n  'author': 'enrique',\n  'created': '2023-10-05T20:15:52',\n  'color': '#a32f86'},\n {'type': 'Highlight',\n  'page': 3,\n  'page_label': '16734',\n  'start_xy': [128.496, 374.464],\n  'text': 'secondary infection i',\n  'author': 'enrique',\n  'created': '2023-10-05T20:05:30',\n  'color': '#ffd100'},\n {'type': 'Highlight',\n  'page': 3,\n  'page_label': '16734',\n  'start_xy': [50.963, 364.501],\n  'text': 'primary infection j',\n  'author': 'enrique',\n  'created': '2023-10-05T20:05:34',\n  'color': '#ffd100'},\n {'type': 'Highlight',\n  'page': 3,\n  'page_label': '16734',\n  'start_xy': [146.484, 364.501],\n  'text': 'dynamic reproduction number R(t)',\n  'author': 'enrique',\n  'created': '2023-10-05T20:05:41',\n  'color': '#ffd100'},\n {'type': 'Highlight',\n  'page': 3,\n  'page_label': '16734',\n  'start_xy': [298.223, 295.187],\n  'text': 'γ is the recovery rate constant',\n  'author': 'enrique',\n  'created': '2023-10-05T20:16:27',\n  'color': '#ffd100'},\n {'type': 'Highlight',\n  'page': 3,\n  'page_label': '16734',\n  'start_xy': [323.382, 295.187],\n  'text': 'β is the transmission rate constant',\n  'author': 'enrique',\n  'created': '2023-10-05T20:16:17',\n  'color': '#ffd100'},\n {'type': 'Highlight',\n  'page': 3,\n  'page_label': '16734',\n  'start_xy': [353.5, 285.224],\n  'text': 'R0 = β/γ is the reproduction number',\n  'author': 'enrique',\n  'created': '2023-10-05T20:16:51',\n  'color': '#ffd100'},\n {'type': 'Highlight',\n  'page': 3,\n  'page_label': '16734',\n  'start_xy': [39.6921, 282.647],\n  'text': 'B is the number of such intervals',\n  'author': 'enrique',\n  'created': '2023-10-05T20:05:52',\n  'color': '#ffd100'},\n {'type': 'Highlight',\n  'page': 3,\n  'page_label': '16734',\n  'start_xy': [64.739, 282.647],\n  'text': 'Ik are intervals discretizing time',\n  'author': 'enrique',\n  'created': '2023-10-05T20:05:49',\n  'color': '#ffd100'},\n {'type': 'Highlight',\n  'page': 3,\n  'page_label': '16734',\n  'start_xy': [500.91, 275.262],\n  'text': 'I',\n  'author': 'enrique',\n  'created': '2023-10-05T20:17:24',\n  'color': '#a32f86'},\n {'type': 'Highlight',\n  'page': 3,\n  'page_label': '16734',\n  'start_xy': [490.067, 273.291],\n  'text': 'S',\n  'author': 'enrique',\n  'created': '2023-10-05T20:17:12',\n  'color': '#a32f86'},\n {'type': 'Highlight',\n  'page': 3,\n  'page_label': '16734',\n  'start_xy': [527.081, 273.291],\n  'text': 'R',\n  'author': 'enrique',\n  'created': '2023-10-05T20:17:26',\n  'color': '#a32f86'},\n {'type': 'Highlight',\n  'page': 3,\n  'page_label': '16734',\n  'start_xy': [95.6426, 272.684],\n  'text': 'The reproduction number, rk',\n  'author': 'enrique',\n  'created': '2023-10-05T20:06:12',\n  'color': '#ffd100'},\n {'type': 'Highlight',\n  'page': 3,\n  'page_label': '16734',\n  'start_xy': [240.605, 272.684],\n  'text': 'interval k',\n  'author': 'enrique',\n  'created': '2023-10-05T20:06:14',\n  'color': '#ffd100'},\n {'type': 'Highlight',\n  'page': 3,\n  'page_label': '16734',\n  'start_xy': [439.301, 265.299],\n  'text': 'exposed category E',\n  'author': 'enrique',\n  'created': '2023-10-05T20:17:35',\n  'color': '#ffd100'},\n {'type': 'Highlight',\n  'page': 3,\n  'page_label': '16734',\n  'start_xy': [65.6408, 205.675],\n  'text': 'Nk is the total number of events in interval k',\n  'author': 'enrique',\n  'created': '2023-10-05T20:06:25',\n  'color': '#ffd100'},\n {'type': 'Highlight',\n  'page': 3,\n  'page_label': '16734',\n  'start_xy': [325.023, 195.712],\n  'text': 'a is the inverse of the average incubation time',\n  'author': 'enrique',\n  'created': '2023-10-05T20:17:44',\n  'color': '#ffd100'},\n {'type': 'Highlight',\n  'page': 3,\n  'page_label': '16734',\n  'start_xy': [151.754, 185.749],\n  'text': 'China,',\n  'author': 'enrique',\n  'created': '2023-10-05T20:08:07',\n  'color': '#69d927'},\n {'type': 'Highlight',\n  'page': 3,\n  'page_label': '16734',\n  'start_xy': [179.398, 185.749],\n  'text': 'Italy,',\n  'author': 'enrique',\n  'created': '2023-10-05T20:08:08',\n  'color': '#69d927'},\n {'type': 'Highlight',\n  'page': 3,\n  'page_label': '16734',\n  'start_xy': [232.416, 185.749],\n  'text': 'United States',\n  'author': 'enrique',\n  'created': '2023-10-05T20:08:10',\n  'color': '#69d927'},\n {'type': 'Highlight',\n  'page': 3,\n  'page_label': '16734',\n  'start_xy': [39.6922, 175.787],\n  'text': 'January 2020 to early April 2020',\n  'author': 'enrique',\n  'created': '2023-10-05T20:08:15',\n  'color': '#69d927'},\n {'type': 'Highlight',\n  'page': 3,\n  'page_label': '16734',\n  'start_xy': [298.223, 175.787],\n  'text': 'New York',\n  'author': 'enrique',\n  'created': '2023-10-05T20:17:56',\n  'color': '#69d927'},\n {'type': 'Highlight',\n  'page': 3,\n  'page_label': '16734',\n  'start_xy': [480.546, 175.787],\n  'text': 'California,',\n  'author': 'enrique',\n  'created': '2023-10-05T20:17:49',\n  'color': '#69d927'},\n {'type': 'Highlight',\n  'page': 3,\n  'page_label': '16734',\n  'start_xy': [343.656, 165.824],\n  'text': 'Indiana)',\n  'author': 'enrique',\n  'created': '2023-10-05T20:17:57',\n  'color': '#69d927'},\n {'type': 'Highlight',\n  'page': 3,\n  'page_label': '16734',\n  'start_xy': [196.542, 145.899],\n  'text': 'China',\n  'author': 'enrique',\n  'created': '2023-10-05T20:08:22',\n  'color': '#69d927'},\n {'type': 'Highlight',\n  'page': 3,\n  'page_label': '16734',\n  'start_xy': [74.0574, 133.965],\n  'text': 'R(t)',\n  'author': 'enrique',\n  'created': '2023-10-05T20:09:56',\n  'color': '#a32f86'},\n {'type': 'Highlight',\n  'page': 3,\n  'page_label': '16734',\n  'start_xy': [235.829, 133.965],\n  'text': 'R = 1',\n  'contents': 'location: china;time: february',\n  'author': 'enrique',\n  'created': '2023-10-05T20:10:12',\n  'color': '#0000ff'},\n {'type': 'Highlight',\n  'page': 3,\n  'page_label': '16734',\n  'start_xy': [78.4629, 125.973],\n  'text': 'February.',\n  'author': 'enrique',\n  'created': '2023-10-05T20:10:28',\n  'color': '#69d927'},\n {'type': 'Highlight',\n  'page': 3,\n  'page_label': '16734',\n  'start_xy': [128.433, 125.973],\n  'text': 'Italy,',\n  'author': 'enrique',\n  'created': '2023-10-05T20:10:33',\n  'color': '#69d927'},\n {'type': 'Highlight',\n  'page': 3,\n  'page_label': '16734',\n  'start_xy': [179.733, 116.011],\n  'text': 'April,',\n  'author': 'enrique',\n  'created': '2023-10-05T20:10:50',\n  'color': '#69d927'},\n {'type': 'Highlight',\n  'page': 3,\n  'page_label': '16734',\n  'start_xy': [92.9243, 114.04],\n  'text': 'R(t)',\n  'author': 'enrique',\n  'created': '2023-10-05T20:10:42',\n  'color': '#a32f86'},\n {'type': 'Highlight',\n  'page': 3,\n  'page_label': '16734',\n  'start_xy': [39.6922, 106.048],\n  'text': 'estimated reproduction number in the United States as a whole stood at around 2.5',\n  'author': 'enrique',\n  'created': '2023-10-05T20:11:24',\n  'color': '#ffd100'},\n {'type': 'Highlight',\n  'page': 3,\n  'page_label': '16734',\n  'start_xy': [65.1023, 104.077],\n  'text': 'R = 1',\n  'contents': 'location: italy;time april',\n  'author': 'enrique',\n  'created': '2023-10-05T20:11:01',\n  'color': '#0000ff'},\n {'type': 'Highlight',\n  'page': 3,\n  'page_label': '16734',\n  'start_xy': [480.636, 86.1232],\n  'text': 'New York',\n  'author': 'enrique',\n  'created': '2023-10-05T20:18:22',\n  'color': '#69d927'},\n {'type': 'Highlight',\n  'page': 3,\n  'page_label': '16734',\n  'start_xy': [505.402, 76.1602],\n  'text': '1918',\n  'author': 'enrique',\n  'created': '2023-10-05T20:18:27',\n  'color': '#69d927'},\n {'type': 'Highlight',\n  'page': 4,\n  'page_label': '16735',\n  'start_xy': [275.983, 492.919],\n  'text': 'California (CA)',\n  'author': 'enrique',\n  'created': '2023-10-05T20:18:52',\n  'color': '#69d927'},\n {'type': 'Highlight',\n  'page': 4,\n  'page_label': '16735',\n  'start_xy': [328.453, 492.919],\n  'text': 'Indiana (IN)',\n  'author': 'enrique',\n  'created': '2023-10-05T20:18:55',\n  'color': '#69d927'},\n {'type': 'Highlight',\n  'page': 4,\n  'page_label': '16735',\n  'start_xy': [386.043, 492.919],\n  'text': 'New York (NY)',\n  'author': 'enrique',\n  'created': '2023-10-05T20:18:57',\n  'color': '#69d927'},\n {'type': 'Highlight',\n  'page': 4,\n  'page_label': '16735',\n  'start_xy': [225.187, 466.02],\n  'text': 'w(t)',\n  'author': 'enrique',\n  'created': '2023-10-05T20:19:20',\n  'color': '#a32f86'},\n {'type': 'Highlight',\n  'page': 4,\n  'page_label': '16735',\n  'start_xy': [293.453, 466.02],\n  'text': 'exogenous rate µ',\n  'contents': 'location: california, indiana, new york',\n  'author': 'enrique',\n  'created': '2023-10-05T20:19:35',\n  'color': '#ffd100'},\n {'type': 'Highlight',\n  'page': 4,\n  'page_label': '16735',\n  'start_xy': [120.7, 466.019],\n  'text': 'Weibull shape k',\n  'contents': 'location: california, indiana, new york',\n  'author': 'enrique',\n  'created': '2023-10-05T20:19:11',\n  'color': '#ffd100'},\n {'type': 'Highlight',\n  'page': 4,\n  'page_label': '16735',\n  'start_xy': [189.44, 466.019],\n  'text': 'scale b',\n  'contents': 'location: california, indiana, new york',\n  'author': 'enrique',\n  'created': '2023-10-05T20:19:17',\n  'color': '#ffd100'},\n {'type': 'Highlight',\n  'page': 4,\n  'page_label': '16735',\n  'start_xy': [35.0102, 403.808],\n  'text': 'Los Angeles',\n  'author': 'enrique',\n  'created': '2023-10-05T20:18:39',\n  'color': '#69d927'},\n {'type': 'Highlight',\n  'page': 4,\n  'page_label': '16735',\n  'start_xy': [293.998, 401.845],\n  'text': 'R0',\n  'author': 'enrique',\n  'created': '2023-10-05T20:25:05',\n  'color': '#a32f86'},\n {'type': 'Highlight',\n  'page': 4,\n  'page_label': '16735',\n  'start_xy': [405.868, 353.995],\n  'text': 'r approaches the end value r∞',\n  'author': 'enrique',\n  'created': '2023-10-05T20:26:06',\n  'color': '#0000ff'},\n {'type': 'Highlight',\n  'page': 4,\n  'page_label': '16735',\n  'start_xy': [293.54, 344.032],\n  'text': 'infected population approaches 0',\n  'author': 'enrique',\n  'created': '2023-10-05T20:26:18',\n  'color': '#0000ff'},\n {'type': 'Highlight',\n  'page': 4,\n  'page_label': '16735',\n  'start_xy': [294.064, 344.032],\n  'text': 's approaches 1 − r∞',\n  'author': 'enrique',\n  'created': '2023-10-05T20:26:12',\n  'color': '#0000ff'},\n {'type': 'Highlight',\n  'page': 4,\n  'page_label': '16735',\n  'start_xy': [122.372, 332.099],\n  'text': 'β',\n  'author': 'enrique',\n  'created': '2023-10-05T20:20:01',\n  'color': '#a32f86'},\n {'type': 'Highlight',\n  'page': 4,\n  'page_label': '16735',\n  'start_xy': [147.562, 332.099],\n  'text': 'γ',\n  'author': 'enrique',\n  'created': '2023-10-05T20:20:10',\n  'color': '#a32f86'},\n {'type': 'Highlight',\n  'page': 4,\n  'page_label': '16735',\n  'start_xy': [345.01, 332.099],\n  'text': 'r∞',\n  'author': 'enrique',\n  'created': '2023-10-05T20:26:24',\n  'color': '#37e5ff'},\n {'type': 'Highlight',\n  'page': 4,\n  'page_label': '16735',\n  'start_xy': [35.5343, 322.136],\n  'text': 'γ',\n  'author': 'enrique',\n  'created': '2023-10-05T20:20:15',\n  'color': '#a32f86'},\n {'type': 'Highlight',\n  'page': 4,\n  'page_label': '16735',\n  'start_xy': [53.0323, 322.136],\n  'text': 'τ = γt',\n  'author': 'enrique',\n  'created': '2023-10-05T20:20:23',\n  'color': '#0000ff'},\n {'type': 'Highlight',\n  'page': 4,\n  'page_label': '16735',\n  'start_xy': [96.1883, 322.136],\n  'text': 's = S /N',\n  'author': 'enrique',\n  'created': '2023-10-05T20:20:40',\n  'color': '#0000ff'},\n {'type': 'Highlight',\n  'page': 4,\n  'page_label': '16735',\n  'start_xy': [134.489, 322.136],\n  'text': 'i = I /N',\n  'author': 'enrique',\n  'created': '2023-10-05T20:20:41',\n  'color': '#0000ff'},\n {'type': 'Highlight',\n  'page': 4,\n  'page_label': '16735',\n  'start_xy': [187.178, 322.136],\n  'text': 'r = R/N',\n  'author': 'enrique',\n  'created': '2023-10-05T20:20:44',\n  'color': '#0000ff'},\n {'type': 'Highlight',\n  'page': 4,\n  'page_label': '16735',\n  'start_xy': [293.998, 312.181],\n  'text': 'R0',\n  'author': 'enrique',\n  'created': '2023-10-05T20:26:38',\n  'color': '#a32f86'},\n {'type': 'Highlight',\n  'page': 4,\n  'page_label': '16735',\n  'start_xy': [428.26, 304.182],\n  'text': 's is almost 1',\n  'author': 'enrique',\n  'created': '2023-10-05T20:26:57',\n  'color': '#0000ff'},\n {'type': 'Highlight',\n  'page': 4,\n  'page_label': '16735',\n  'start_xy': [417.366, 292.248],\n  'text': 'i = 0',\n  'author': 'enrique',\n  'created': '2023-10-05T20:27:04',\n  'color': '#0000ff'},\n {'type': 'Highlight',\n  'page': 4,\n  'page_label': '16735',\n  'start_xy': [500.888, 292.248],\n  'text': 's∞',\n  'author': 'enrique',\n  'created': '2023-10-05T20:27:08',\n  'color': '#37e5ff'},\n {'type': 'Highlight',\n  'page': 4,\n  'page_label': '16735',\n  'start_xy': [460.034, 263.066],\n  'text': 'R0',\n  'author': 'enrique',\n  'created': '2023-10-05T20:27:18',\n  'color': '#a32f86'},\n {'type': 'Highlight',\n  'page': 4,\n  'page_label': '16735',\n  'start_xy': [79.0779, 223.637],\n  'text': 'R0',\n  'author': 'enrique',\n  'created': '2023-10-05T20:21:13',\n  'color': '#a32f86'},\n {'type': 'Highlight',\n  'page': 4,\n  'page_label': '16735',\n  'start_xy': [35.0101, 205.675],\n  'text': 'shapes of the solution curves s(τ ), i(τ ), r (τ )',\n  'author': 'enrique',\n  'created': '2023-10-05T20:21:33',\n  'color': '#ffd100'},\n {'type': 'Highlight',\n  'page': 4,\n  'page_label': '16735',\n  'start_xy': [501.202, 185.327],\n  'text': 'March,',\n  'author': 'enrique',\n  'created': '2023-10-05T20:27:57',\n  'color': '#69d927'},\n {'type': 'Highlight',\n  'page': 4,\n  'page_label': '16735',\n  'start_xy': [79.9133, 183.778],\n  'text': '(cid:15)',\n  'author': 'enrique',\n  'created': '2023-10-05T20:21:47',\n  'color': '#a32f86'},\n {'type': 'Highlight',\n  'page': 4,\n  'page_label': '16735',\n  'start_xy': [266.32, 173.824],\n  'text': 'R0',\n  'author': 'enrique',\n  'created': '2023-10-05T20:22:00',\n  'color': '#a32f86'},\n {'type': 'Highlight',\n  'page': 4,\n  'page_label': '16735',\n  'start_xy': [146.448, 173.816],\n  'text': '(cid:15)',\n  'author': 'enrique',\n  'created': '2023-10-05T20:21:56',\n  'color': '#a32f86'},\n {'type': 'Highlight',\n  'page': 4,\n  'page_label': '16735',\n  'start_xy': [178.413, 163.853],\n  'text': 'i(t)',\n  'author': 'enrique',\n  'created': '2023-10-05T20:22:08',\n  'color': '#a32f86'},\n {'type': 'Highlight',\n  'page': 4,\n  'page_label': '16735',\n  'start_xy': [95.7299, 143.936],\n  'text': 'R0',\n  'author': 'enrique',\n  'created': '2023-10-05T20:22:14',\n  'color': '#a32f86'},\n {'type': 'Highlight',\n  'page': 4,\n  'page_label': '16735',\n  'start_xy': [147.303, 133.965],\n  'text': '(cid:15)',\n  'author': 'enrique',\n  'created': '2023-10-05T20:22:23',\n  'color': '#a32f86'},\n {'type': 'Highlight',\n  'page': 4,\n  'page_label': '16735',\n  'start_xy': [338.983, 126.05],\n  'text': 'New York state',\n  'author': 'enrique',\n  'created': '2023-10-05T20:28:05',\n  'color': '#69d927'},\n {'type': 'Highlight',\n  'page': 4,\n  'page_label': '16735',\n  'start_xy': [471.138, 124.087],\n  'text': 'R0',\n  'contents': 'location: new york state; time:mid-april',\n  'author': 'enrique',\n  'created': '2023-10-05T20:28:10',\n  'color': '#a32f86'},\n {'type': 'Highlight',\n  'page': 4,\n  'page_label': '16735',\n  'start_xy': [159.684, 124.002],\n  'text': 'γ',\n  'author': 'enrique',\n  'created': '2023-10-05T20:22:29',\n  'color': '#a32f86'},\n {'type': 'Highlight',\n  'page': 4,\n  'page_label': '16735',\n  'start_xy': [507.972, 96.162],\n  'text': '10%',\n  'author': 'enrique',\n  'created': '2023-10-05T20:28:57',\n  'color': '#37e5ff'},\n {'type': 'Highlight',\n  'page': 4,\n  'page_label': '16735',\n  'start_xy': [293.54, 86.199],\n  'text': 'mid-April',\n  'author': 'enrique',\n  'created': '2023-10-05T20:29:03',\n  'color': '#69d927'},\n {'type': 'Highlight',\n  'page': 4,\n  'page_label': '16735',\n  'start_xy': [162.217, 86.1232],\n  'text': '1%',\n  'author': 'enrique',\n  'created': '2023-10-05T20:22:58',\n  'color': '#37e5ff'},\n {'type': 'Highlight',\n  'page': 4,\n  'page_label': '16735',\n  'start_xy': [293.54, 76.236],\n  'text': 'midApril',\n  'author': 'enrique',\n  'created': '2023-10-05T20:29:15',\n  'color': '#69d927'},\n {'type': 'Highlight',\n  'page': 5,\n  'page_label': '16736',\n  'start_xy': [224.822, 495.069],\n  'text': 'R0 = 2.',\n  'author': 'enrique',\n  'created': '2023-10-05T20:30:29',\n  'color': '#0000ff'},\n {'type': 'Highlight',\n  'page': 5,\n  'page_label': '16736',\n  'start_xy': [354.568, 495.069],\n  'text': 's (blue)',\n  'author': 'enrique',\n  'created': '2023-10-05T20:30:42',\n  'color': '#ffd100'},\n {'type': 'Highlight',\n  'page': 5,\n  'page_label': '16736',\n  'start_xy': [381.799, 495.069],\n  'text': 'i (orange)',\n  'author': 'enrique',\n  'created': '2023-10-05T20:30:49',\n  'color': '#ffd100'},\n {'type': 'Highlight',\n  'page': 5,\n  'page_label': '16736',\n  'start_xy': [431.491, 495.069],\n  'text': 'r (gray)',\n  'author': 'enrique',\n  'created': '2023-10-05T20:30:52',\n  'color': '#ffd100'},\n {'type': 'Highlight',\n  'page': 5,\n  'page_label': '16736',\n  'start_xy': [529.559, 493.738],\n  'text': 'τ',\n  'author': 'enrique',\n  'created': '2023-10-05T20:31:01',\n  'color': '#a32f86'},\n {'type': 'Highlight',\n  'page': 5,\n  'page_label': '16736',\n  'start_xy': [147.561, 484.772],\n  'text': '(cid:15)',\n  'author': 'enrique',\n  'created': '2023-10-05T20:31:12',\n  'color': '#a32f86'},\n {'type': 'Highlight',\n  'page': 5,\n  'page_label': '16736',\n  'start_xy': [177.569, 435.942],\n  'text': 'California',\n  'author': 'enrique',\n  'created': '2023-10-05T20:29:25',\n  'color': '#69d927'},\n {'type': 'Highlight',\n  'page': 5,\n  'page_label': '16736',\n  'start_xy': [166.278, 424.016],\n  'text': 'R0',\n  'contents': 'location: california',\n  'author': 'enrique',\n  'created': '2023-10-05T20:29:30',\n  'color': '#a32f86'},\n {'type': 'Highlight',\n  'page': 5,\n  'page_label': '16736',\n  'start_xy': [241.105, 386.129],\n  'text': '5 May',\n  'author': 'enrique',\n  'created': '2023-10-05T20:29:56',\n  'color': '#69d927'},\n {'type': 'Highlight',\n  'page': 5,\n  'page_label': '16736',\n  'start_xy': [243.813, 366.204],\n  'text': 'California,',\n  'author': 'enrique',\n  'created': '2023-10-05T20:30:02',\n  'color': '#69d927'},\n {'type': 'Highlight',\n  'page': 5,\n  'page_label': '16736',\n  'start_xy': [74.683, 354.278],\n  'text': 'R0',\n  'contents': 'location: california; time: 5 may',\n  'author': 'enrique',\n  'created': '2023-10-05T20:30:05',\n  'color': '#a32f86'},\n {'type': 'Highlight',\n  'page': 5,\n  'page_label': '16736',\n  'start_xy': [91.5898, 336.316],\n  'text': 'New York state',\n  'author': 'enrique',\n  'created': '2023-10-05T20:30:11',\n  'color': '#69d927'},\n {'type': 'Highlight',\n  'page': 5,\n  'page_label': '16736',\n  'start_xy': [353.501, 316.39],\n  'text': '1918',\n  'author': 'enrique',\n  'created': '2023-10-05T20:35:02',\n  'color': '#69d927'},\n {'type': 'Highlight',\n  'page': 5,\n  'page_label': '16736',\n  'start_xy': [117.691, 266.463],\n  'text': 'reproduction number R',\n  'author': 'enrique',\n  'created': '2023-10-05T20:34:21',\n  'color': '#ffd100'},\n {'type': 'Highlight',\n  'page': 5,\n  'page_label': '16736',\n  'start_xy': [312.641, 256.614],\n  'text': 'United States',\n  'author': 'enrique',\n  'created': '2023-10-05T20:35:19',\n  'color': '#69d927'},\n {'type': 'Highlight',\n  'page': 5,\n  'page_label': '16736',\n  'start_xy': [224.083, 234.588],\n  'text': 'R',\n  'author': 'enrique',\n  'created': '2023-10-05T20:34:30',\n  'color': '#a32f86'},\n {'type': 'Highlight',\n  'page': 5,\n  'page_label': '16736',\n  'start_xy': [378.686, 108.986],\n  'text': 'California',\n  'author': 'enrique',\n  'created': '2023-10-31T15:12:44',\n  'color': '#69d927'},\n {'type': 'Highlight',\n  'page': 5,\n  'page_label': '16736',\n  'start_xy': [124.977, 100.02],\n  'text': 'R0 = 2.7',\n  'contents': 'location: california; time: from 27 march to 5 may',\n  'author': 'enrique',\n  'created': '2023-10-05T20:36:56',\n  'color': '#0000ff'},\n {'type': 'Highlight',\n  'page': 5,\n  'page_label': '16736',\n  'start_xy': [157.853, 100.02],\n  'text': 'γ = .12',\n  'contents': 'location: california; time: from 27 march to 5 may',\n  'author': 'enrique',\n  'created': '2023-10-05T20:37:09',\n  'color': '#0000ff'},\n {'type': 'Highlight',\n  'page': 5,\n  'page_label': '16736',\n  'start_xy': [184.83, 100.02],\n  'text': 'I0 = .1',\n  'contents': 'location: california; time: from 27 march to 5 may',\n  'author': 'enrique',\n  'created': '2023-10-05T20:37:13',\n  'color': '#0000ff'},\n {'type': 'Highlight',\n  'page': 5,\n  'page_label': '16736',\n  'start_xy': [463.232, 100.02],\n  'text': '27 March',\n  'author': 'enrique',\n  'created': '2023-10-05T20:37:32',\n  'color': '#69d927'},\n {'type': 'Highlight',\n  'page': 5,\n  'page_label': '16736',\n  'start_xy': [279.498, 98.6771],\n  'text': 'R0',\n  'author': 'enrique',\n  'created': '2023-10-05T20:37:17',\n  'color': '#37e5ff'},\n {'type': 'Highlight',\n  'page': 5,\n  'page_label': '16736',\n  'start_xy': [398.75, 98.6771],\n  'text': 'R0',\n  'author': 'enrique',\n  'created': '2023-10-05T20:37:29',\n  'color': '#37e5ff'},\n {'type': 'Highlight',\n  'page': 5,\n  'page_label': '16736',\n  'start_xy': [40.404, 91.0527],\n  'text': 'New York',\n  'author': 'enrique',\n  'created': '2023-10-05T20:39:41',\n  'color': '#69d927'},\n {'type': 'Highlight',\n  'page': 5,\n  'page_label': '16736',\n  'start_xy': [80.0781, 91.0527],\n  'text': 'California',\n  'author': 'enrique',\n  'created': '2023-10-05T20:37:37',\n  'color': '#69d927'},\n {'type': 'Highlight',\n  'page': 5,\n  'page_label': '16736',\n  'start_xy': [160.82, 91.0527],\n  'text': '5 May',\n  'author': 'enrique',\n  'created': '2023-10-05T20:39:35',\n  'color': '#69d927'},\n {'type': 'Highlight',\n  'page': 5,\n  'page_label': '16736',\n  'start_xy': [195.818, 82.0867],\n  'text': 'R0 = 4.1',\n  'contents': 'location: new york; time: from 30 march to 5 may',\n  'author': 'enrique',\n  'created': '2023-10-05T20:39:51',\n  'color': '#0000ff'},\n {'type': 'Highlight',\n  'page': 5,\n  'page_label': '16736',\n  'start_xy': [229.091, 82.0867],\n  'text': 'γ = .1',\n  'contents': 'location: new york; time: from 30 march to 5 may',\n  'author': 'enrique',\n  'created': '2023-10-05T20:39:57',\n  'color': '#0000ff'},\n {'type': 'Highlight',\n  'page': 5,\n  'page_label': '16736',\n  'start_xy': [252.588, 82.0867],\n  'text': 'I0 = 05',\n  'contents': 'location: new york; time: from 30 march to 5 may',\n  'author': 'enrique',\n  'created': '2023-10-05T20:40:00',\n  'color': '#0000ff'},\n {'type': 'Highlight',\n  'page': 5,\n  'page_label': '16736',\n  'start_xy': [68.8223, 73.1207],\n  'text': '30 March',\n  'author': 'enrique',\n  'created': '2023-10-05T20:41:17',\n  'color': '#69d927'},\n {'type': 'Highlight',\n  'page': 5,\n  'page_label': '16736',\n  'start_xy': [190.292, 73.1207],\n  'text': 'New York',\n  'author': 'enrique',\n  'created': '2023-10-05T20:41:23',\n  'color': '#69d927'},\n {'type': 'Highlight',\n  'page': 5,\n  'page_label': '16736',\n  'start_xy': [269.675, 73.1207],\n  'text': '5 May',\n  'author': 'enrique',\n  'created': '2023-10-05T20:41:25',\n  'color': '#69d927'},\n {'type': 'Highlight',\n  'page': 6,\n  'page_label': '16737',\n  'start_xy': [294.261, 721.55],\n  'text': 'Ic(t) = N − S(t)',\n  'author': 'enrique',\n  'created': '2023-10-05T20:47:06',\n  'color': '#0000ff'},\n {'type': 'Highlight',\n  'page': 6,\n  'page_label': '16737',\n  'start_xy': [294.252, 712.569],\n  'text': 'N is the population size',\n  'author': 'enrique',\n  'created': '2023-10-05T20:47:18',\n  'color': '#ffd100'},\n {'type': 'Highlight',\n  'page': 6,\n  'page_label': '16737',\n  'start_xy': [357.742, 712.569],\n  'text': 'total number of infections up to time t',\n  'author': 'enrique',\n  'created': '2023-10-05T20:47:13',\n  'color': '#ffd100'},\n {'type': 'Highlight',\n  'page': 6,\n  'page_label': '16737',\n  'start_xy': [351.542, 703.602],\n  'text': 'S(t) is the number of susceptible individuals',\n  'author': 'enrique',\n  'created': '2023-10-05T20:47:20',\n  'color': '#ffd100'},\n {'type': 'Highlight',\n  'page': 6,\n  'page_label': '16737',\n  'start_xy': [358.652, 609.953],\n  'text': 'w(t)',\n  'author': 'enrique',\n  'created': '2023-10-05T20:47:32',\n  'color': '#a32f86'},\n {'type': 'Highlight',\n  'page': 6,\n  'page_label': '16737',\n  'start_xy': [535.063, 608.622],\n  'text': 'γ',\n  'author': 'enrique',\n  'created': '2023-10-05T20:47:50',\n  'color': '#a32f86'},\n {'type': 'Highlight',\n  'page': 6,\n  'page_label': '16737',\n  'start_xy': [338.731, 601.007],\n  'text': 'reproduction number (R0)',\n  'author': 'enrique',\n  'created': '2023-10-05T20:47:55',\n  'color': '#ffd100'},\n {'type': 'Highlight',\n  'page': 6,\n  'page_label': '16737',\n  'start_xy': [520.179, 600.987],\n  'text': 'µ = 0',\n  'author': 'enrique',\n  'created': '2023-10-05T20:48:01',\n  'color': '#0000ff'},\n {'type': 'Highlight',\n  'page': 6,\n  'page_label': '16737',\n  'start_xy': [294.596, 590.69],\n  'text': 'β = R0γ',\n  'author': 'enrique',\n  'created': '2023-10-05T20:48:07',\n  'color': '#0000ff'},\n {'type': 'Highlight',\n  'page': 6,\n  'page_label': '16737',\n  'start_xy': [445.29, 555.657],\n  'text': '1918',\n  'author': 'enrique',\n  'created': '2023-10-05T20:48:27',\n  'color': '#69d927'},\n {'type': 'Highlight',\n  'page': 6,\n  'page_label': '16737',\n  'start_xy': [508.849, 555.657],\n  'text': 'US',\n  'author': 'enrique',\n  'created': '2023-10-05T20:48:30',\n  'color': '#69d927'},\n {'type': 'Highlight',\n  'page': 6,\n  'page_label': '16737',\n  'start_xy': [391.767, 546.691],\n  'text': 'I0 ∈ [.005, .1]',\n  'contents': 'location: us;time: 1928',\n  'author': 'enrique',\n  'created': '2023-10-05T20:48:18',\n  'color': '#0000ff'},\n {'type': 'Highlight',\n  'page': 6,\n  'page_label': '16737',\n  'start_xy': [439.318, 546.691],\n  'text': 'R0 ∈ [1.5, 5]',\n  'contents': 'location: us;time: 1928',\n  'author': 'enrique',\n  'created': '2023-10-05T20:48:21',\n  'color': '#0000ff'},\n {'type': 'Highlight',\n  'page': 6,\n  'page_label': '16737',\n  'start_xy': [484.81, 546.691],\n  'text': 'γ ∈ [.01, .2]',\n  'contents': 'location: us;time: 1928',\n  'author': 'enrique',\n  'created': '2023-10-05T20:48:24',\n  'color': '#0000ff'},\n {'type': 'Highlight',\n  'page': 6,\n  'page_label': '16737',\n  'start_xy': [70.3379, 543.408],\n  'text': '1918',\n  'author': 'enrique',\n  'created': '2023-10-05T20:41:47',\n  'color': '#69d927'},\n {'type': 'Highlight',\n  'page': 6,\n  'page_label': '16737',\n  'start_xy': [294.596, 537.724],\n  'text': 'µ ∈ [.01, .4]',\n  'contents': 'location: us;time: 1928',\n  'author': 'enrique',\n  'created': '2023-10-05T20:48:34',\n  'color': '#0000ff'},\n {'type': 'Highlight',\n  'page': 6,\n  'page_label': '16737',\n  'start_xy': [370.169, 497.874],\n  'text': '1% of those labeled as resistant',\n  'author': 'enrique',\n  'created': '2023-10-05T20:49:32',\n  'color': '#ffd100'},\n {'type': 'Highlight',\n  'page': 6,\n  'page_label': '16737',\n  'start_xy': [361.8, 487.911],\n  'text': 'morality rates in the range of 0.3 to 3%',\n  'author': 'enrique',\n  'created': '2023-10-05T20:49:55',\n  'color': '#ffd100'},\n {'type': 'Highlight',\n  'page': 6,\n  'page_label': '16737',\n  'start_xy': [263.181, 273.564],\n  'text': 'S ≈ N',\n  'author': 'enrique',\n  'created': '2023-10-05T20:45:26',\n  'color': '#0000ff'},\n {'type': 'Highlight',\n  'page': 6,\n  'page_label': '16737',\n  'start_xy': [246.129, 265.677],\n  'text': 'I(t) = I0eαt',\n  'author': 'enrique',\n  'created': '2023-10-05T20:45:42',\n  'color': '#0000ff'},\n {'type': 'Highlight',\n  'page': 6,\n  'page_label': '16737',\n  'start_xy': [103.25, 255.667],\n  'text': 'I0 the initial number of infections',\n  'author': 'enrique',\n  'created': '2023-10-05T20:45:49',\n  'color': '#ffd100'},\n {'type': 'Highlight',\n  'page': 6,\n  'page_label': '16737',\n  'start_xy': [53.4932, 254.336],\n  'text': 'α = β − γ',\n  'author': 'enrique',\n  'created': '2023-10-05T20:45:45',\n  'color': '#0000ff'},\n {'type': 'Highlight',\n  'page': 6,\n  'page_label': '16737',\n  'start_xy': [135.04, 210.85],\n  'text': 'Ic(t) = I(t) + R(t)',\n  'author': 'enrique',\n  'created': '2023-10-05T20:46:02',\n  'color': '#0000ff'},\n {'type': 'Highlight',\n  'page': 6,\n  'page_label': '16737',\n  'start_xy': [130.66, 201.848],\n  'text': 'Ic',\n  'author': 'enrique',\n  'created': '2023-10-05T20:46:13',\n  'color': '#a32f86'},\n {'type': 'Highlight',\n  'page': 6,\n  'page_label': '16737',\n  'start_xy': [52.6442, 191.571],\n  'text': 'α = β − γ',\n  'author': 'enrique',\n  'created': '2023-10-05T20:46:33',\n  'color': '#0000ff'},\n {'type': 'Highlight',\n  'page': 6,\n  'page_label': '16737',\n  'start_xy': [110.537, 183.936],\n  'text': '[Td = ln(2)/α',\n  'author': 'enrique',\n  'created': '2023-10-05T20:46:55',\n  'color': '#0000ff'}]"
     },
     "execution_count": 1,
     "metadata": {},
     "output_type": "execute_result"
    }
   ],
   "source": [
    "import json\n",
    "\n",
    "import pandas as pd\n",
    "\n",
    "with open('context-annotations-bertozzi-et-al-2020-the-challenges-of-modeling-and-forecasting-the-spread-of-covid-19.json') as f:\n",
    "    annotations = json.load(f)\n",
    "    \n",
    "annotations"
   ],
   "metadata": {
    "collapsed": false,
    "ExecuteTime": {
     "end_time": "2023-11-01T01:19:17.452029Z",
     "start_time": "2023-11-01T01:19:15.444787Z"
    }
   },
   "id": "e26fc98536d14722"
  },
  {
   "cell_type": "code",
   "execution_count": 2,
   "outputs": [
    {
     "name": "stdout",
     "output_type": "stream",
     "text": [
      "{'author': 'enrique',\n",
      " 'color': '#ffd100',\n",
      " 'contents': 'location: italy, germany, france, spain, united kingdom, united '\n",
      "             'states',\n",
      " 'created': '2023-10-05T19:57:32',\n",
      " 'page': 2,\n",
      " 'page_label': '16733',\n",
      " 'start_xy': [390.03, 119.346],\n",
      " 'text': 'normalized infection i',\n",
      " 'type': 'Highlight'}\n",
      "{'author': 'enrique',\n",
      " 'color': '#ffd100',\n",
      " 'contents': 'location: italy, germany, france, spain, united kingdom, united '\n",
      "             'states',\n",
      " 'created': '2023-10-05T19:57:35',\n",
      " 'page': 2,\n",
      " 'page_label': '16733',\n",
      " 'start_xy': [478.665, 119.346],\n",
      " 'text': 'death d',\n",
      " 'type': 'Highlight'}\n",
      "{'author': 'enrique',\n",
      " 'color': '#ffd100',\n",
      " 'contents': 'location: italy, germany, france, spain, united kingdom, united '\n",
      "             'states',\n",
      " 'created': '2023-10-05T19:57:51',\n",
      " 'page': 2,\n",
      " 'page_label': '16733',\n",
      " 'start_xy': [214.352, 101.44],\n",
      " 'text': 'death (Td,d)',\n",
      " 'type': 'Highlight'}\n",
      "{'author': 'enrique',\n",
      " 'color': '#ffd100',\n",
      " 'contents': 'location: italy, germany, france, spain, united kingdom, united '\n",
      "             'states',\n",
      " 'created': '2023-10-05T19:57:49',\n",
      " 'page': 2,\n",
      " 'page_label': '16733',\n",
      " 'start_xy': [147.093, 101.414],\n",
      " 'text': 'infections (Td,i)',\n",
      " 'type': 'Highlight'}\n",
      "{'author': 'enrique',\n",
      " 'color': '#0000ff',\n",
      " 'contents': 'location: new york, california, indiana;time: 1 april 2020',\n",
      " 'created': '2023-10-05T19:59:21',\n",
      " 'page': 2,\n",
      " 'page_label': '16733',\n",
      " 'start_xy': [35.7218, 74.5147],\n",
      " 'text': 'Reproduction numbers of COVID-19 vary in different studies and '\n",
      "         'regions of the world (in addition to over time) but have generally '\n",
      "         'been found to be between 1.5 and 6',\n",
      " 'type': 'Highlight'}\n",
      "{'author': 'enrique',\n",
      " 'color': '#0000ff',\n",
      " 'contents': 'location: china;time: february',\n",
      " 'created': '2023-10-05T20:10:12',\n",
      " 'page': 3,\n",
      " 'page_label': '16734',\n",
      " 'start_xy': [235.829, 133.965],\n",
      " 'text': 'R = 1',\n",
      " 'type': 'Highlight'}\n",
      "{'author': 'enrique',\n",
      " 'color': '#0000ff',\n",
      " 'contents': 'location: italy;time april',\n",
      " 'created': '2023-10-05T20:11:01',\n",
      " 'page': 3,\n",
      " 'page_label': '16734',\n",
      " 'start_xy': [65.1023, 104.077],\n",
      " 'text': 'R = 1',\n",
      " 'type': 'Highlight'}\n",
      "{'author': 'enrique',\n",
      " 'color': '#ffd100',\n",
      " 'contents': 'location: california, indiana, new york',\n",
      " 'created': '2023-10-05T20:19:35',\n",
      " 'page': 4,\n",
      " 'page_label': '16735',\n",
      " 'start_xy': [293.453, 466.02],\n",
      " 'text': 'exogenous rate µ',\n",
      " 'type': 'Highlight'}\n",
      "{'author': 'enrique',\n",
      " 'color': '#ffd100',\n",
      " 'contents': 'location: california, indiana, new york',\n",
      " 'created': '2023-10-05T20:19:11',\n",
      " 'page': 4,\n",
      " 'page_label': '16735',\n",
      " 'start_xy': [120.7, 466.019],\n",
      " 'text': 'Weibull shape k',\n",
      " 'type': 'Highlight'}\n",
      "{'author': 'enrique',\n",
      " 'color': '#ffd100',\n",
      " 'contents': 'location: california, indiana, new york',\n",
      " 'created': '2023-10-05T20:19:17',\n",
      " 'page': 4,\n",
      " 'page_label': '16735',\n",
      " 'start_xy': [189.44, 466.019],\n",
      " 'text': 'scale b',\n",
      " 'type': 'Highlight'}\n",
      "{'author': 'enrique',\n",
      " 'color': '#a32f86',\n",
      " 'contents': 'location: new york state; time:mid-april',\n",
      " 'created': '2023-10-05T20:28:10',\n",
      " 'page': 4,\n",
      " 'page_label': '16735',\n",
      " 'start_xy': [471.138, 124.087],\n",
      " 'text': 'R0',\n",
      " 'type': 'Highlight'}\n",
      "{'author': 'enrique',\n",
      " 'color': '#a32f86',\n",
      " 'contents': 'location: california',\n",
      " 'created': '2023-10-05T20:29:30',\n",
      " 'page': 5,\n",
      " 'page_label': '16736',\n",
      " 'start_xy': [166.278, 424.016],\n",
      " 'text': 'R0',\n",
      " 'type': 'Highlight'}\n",
      "{'author': 'enrique',\n",
      " 'color': '#a32f86',\n",
      " 'contents': 'location: california; time: 5 may',\n",
      " 'created': '2023-10-05T20:30:05',\n",
      " 'page': 5,\n",
      " 'page_label': '16736',\n",
      " 'start_xy': [74.683, 354.278],\n",
      " 'text': 'R0',\n",
      " 'type': 'Highlight'}\n",
      "{'author': 'enrique',\n",
      " 'color': '#0000ff',\n",
      " 'contents': 'location: california; time: from 27 march to 5 may',\n",
      " 'created': '2023-10-05T20:36:56',\n",
      " 'page': 5,\n",
      " 'page_label': '16736',\n",
      " 'start_xy': [124.977, 100.02],\n",
      " 'text': 'R0 = 2.7',\n",
      " 'type': 'Highlight'}\n",
      "{'author': 'enrique',\n",
      " 'color': '#0000ff',\n",
      " 'contents': 'location: california; time: from 27 march to 5 may',\n",
      " 'created': '2023-10-05T20:37:09',\n",
      " 'page': 5,\n",
      " 'page_label': '16736',\n",
      " 'start_xy': [157.853, 100.02],\n",
      " 'text': 'γ = .12',\n",
      " 'type': 'Highlight'}\n",
      "{'author': 'enrique',\n",
      " 'color': '#0000ff',\n",
      " 'contents': 'location: california; time: from 27 march to 5 may',\n",
      " 'created': '2023-10-05T20:37:13',\n",
      " 'page': 5,\n",
      " 'page_label': '16736',\n",
      " 'start_xy': [184.83, 100.02],\n",
      " 'text': 'I0 = .1',\n",
      " 'type': 'Highlight'}\n",
      "{'author': 'enrique',\n",
      " 'color': '#0000ff',\n",
      " 'contents': 'location: new york; time: from 30 march to 5 may',\n",
      " 'created': '2023-10-05T20:39:51',\n",
      " 'page': 5,\n",
      " 'page_label': '16736',\n",
      " 'start_xy': [195.818, 82.0867],\n",
      " 'text': 'R0 = 4.1',\n",
      " 'type': 'Highlight'}\n",
      "{'author': 'enrique',\n",
      " 'color': '#0000ff',\n",
      " 'contents': 'location: new york; time: from 30 march to 5 may',\n",
      " 'created': '2023-10-05T20:39:57',\n",
      " 'page': 5,\n",
      " 'page_label': '16736',\n",
      " 'start_xy': [229.091, 82.0867],\n",
      " 'text': 'γ = .1',\n",
      " 'type': 'Highlight'}\n",
      "{'author': 'enrique',\n",
      " 'color': '#0000ff',\n",
      " 'contents': 'location: new york; time: from 30 march to 5 may',\n",
      " 'created': '2023-10-05T20:40:00',\n",
      " 'page': 5,\n",
      " 'page_label': '16736',\n",
      " 'start_xy': [252.588, 82.0867],\n",
      " 'text': 'I0 = 05',\n",
      " 'type': 'Highlight'}\n",
      "{'author': 'enrique',\n",
      " 'color': '#0000ff',\n",
      " 'contents': 'location: us;time: 1928',\n",
      " 'created': '2023-10-05T20:48:18',\n",
      " 'page': 6,\n",
      " 'page_label': '16737',\n",
      " 'start_xy': [391.767, 546.691],\n",
      " 'text': 'I0 ∈ [.005, .1]',\n",
      " 'type': 'Highlight'}\n",
      "{'author': 'enrique',\n",
      " 'color': '#0000ff',\n",
      " 'contents': 'location: us;time: 1928',\n",
      " 'created': '2023-10-05T20:48:21',\n",
      " 'page': 6,\n",
      " 'page_label': '16737',\n",
      " 'start_xy': [439.318, 546.691],\n",
      " 'text': 'R0 ∈ [1.5, 5]',\n",
      " 'type': 'Highlight'}\n",
      "{'author': 'enrique',\n",
      " 'color': '#0000ff',\n",
      " 'contents': 'location: us;time: 1928',\n",
      " 'created': '2023-10-05T20:48:24',\n",
      " 'page': 6,\n",
      " 'page_label': '16737',\n",
      " 'start_xy': [484.81, 546.691],\n",
      " 'text': 'γ ∈ [.01, .2]',\n",
      " 'type': 'Highlight'}\n",
      "{'author': 'enrique',\n",
      " 'color': '#0000ff',\n",
      " 'contents': 'location: us;time: 1928',\n",
      " 'created': '2023-10-05T20:48:34',\n",
      " 'page': 6,\n",
      " 'page_label': '16737',\n",
      " 'start_xy': [294.596, 537.724],\n",
      " 'text': 'µ ∈ [.01, .4]',\n",
      " 'type': 'Highlight'}\n"
     ]
    }
   ],
   "source": [
    "# Print the variable annotations with context\n",
    "from pprint import pprint\n",
    "annotations_w_context = list()\n",
    "for a in annotations:\n",
    "    if 'contents' in a:\n",
    "        annotations_w_context.append(a)\n",
    "        pprint(a)"
   ],
   "metadata": {
    "collapsed": false,
    "ExecuteTime": {
     "end_time": "2023-11-01T01:19:17.459262Z",
     "start_time": "2023-11-01T01:19:17.454100Z"
    }
   },
   "id": "997b76817dffd0de"
  },
  {
   "cell_type": "code",
   "execution_count": 3,
   "outputs": [
    {
     "data": {
      "text/plain": "['Fig. 1. (Upper) Exponential model applied to new infection and death data for Italy, Germany, France, Spain, the United Kingdom, and the United States, normalized by the total country population (54). Insets show the same data on a logarithmic scale. Both the normalized infection i and death d data were thresholded to comparable initial conditions for each country; fits are to the first 15 to 20 d of the epidemic after exceeding the threshold. The fitted doubling time is shown for both infections (Td,i ) and death (Td,d) data. Data from Japan and South Korea are shown for comparison. (Lower) Dynamic reproduction number (mean and 95% CI) of COVID-19 for China, Italy, and the United States estimated from reported deaths (17) using a nonparametric branching process (18). Current estimates are as of 1 April 2020 of the reproduction number in New York (NY), California (CA), and Indiana (IN; confirmed cases used instead of mortality for Indiana). Reproduction numbers of COVID-19 vary in different',\n 'Fig. 1. (Upper) Exponential model applied to new infection and death data for Italy, Germany, France, Spain, the United Kingdom, and the United States, normalized by the total country population (54). Insets show the same data on a logarithmic scale. Both the normalized infection i and death d data were thresholded to comparable initial conditions for each country; fits are to the first 15 to 20 d of the epidemic after exceeding the threshold. The fitted doubling time is shown for both infections (Td,i ) and death (Td,d) data. Data from Japan and South Korea are shown for comparison. (Lower) Dynamic reproduction number (mean and 95% CI) of COVID-19 for China, Italy, and the United States estimated from reported deaths (17) using a nonparametric branching process (18). Current estimates are as of 1 April 2020 of the reproduction number in New York (NY), California (CA), and Indiana (IN; confirmed cases used instead of mortality for Indiana). Reproduction numbers of COVID-19 vary in different',\n 'Fig. 1. (Upper) Exponential model applied to new infection and death data for Italy, Germany, France, Spain, the United Kingdom, and the United States, normalized by the total country population (54). Insets show the same data on a logarithmic scale. Both the normalized infection i and death d data were thresholded to comparable initial conditions for each country; fits are to the first 15 to 20 d of the epidemic after exceeding the threshold. The fitted doubling time is shown for both infections (Td,i ) and death (Td,d) data. Data from Japan and South Korea are shown for comparison. (Lower) Dynamic reproduction number (mean and 95% CI) of COVID-19 for China, Italy, and the United States estimated from reported deaths (17) using a nonparametric branching process (18). Current estimates are as of 1 April 2020 of the reproduction number in New York (NY), California (CA), and Indiana (IN; confirmed cases used instead of mortality for Indiana). Reproduction numbers of COVID-19 vary in different',\n 'Fig. 1. (Upper) Exponential model applied to new infection and death data for Italy, Germany, France, Spain, the United Kingdom, and the United States, normalized by the total country population (54). Insets show the same data on a logarithmic scale. Both the normalized infection i and death d data were thresholded to comparable initial conditions for each country; fits are to the first 15 to 20 d of the epidemic after exceeding the threshold. The fitted doubling time is shown for both infections (Td,i ) and death (Td,d) data. Data from Japan and South Korea are shown for comparison. (Lower) Dynamic reproduction number (mean and 95% CI) of COVID-19 for China, Italy, and the United States estimated from reported deaths (17) using a nonparametric branching process (18). Current estimates are as of 1 April 2020 of the reproduction number in New York (NY), California (CA), and Indiana (IN; confirmed cases used instead of mortality for Indiana). Reproduction numbers of COVID-19 vary in different',\n 'Fig. 1. (Upper) Exponential model applied to new infection and death data for Italy, Germany, France, Spain, the United Kingdom, and the United States, normalized by the total country population (54). Insets show the same data on a logarithmic scale. Both the normalized infection i and death d data were thresholded to comparable initial conditions for each country; fits are to the first 15 to 20 d of the epidemic after exceeding the threshold. The fitted doubling time is shown for both infections (Td,i ) and death (Td,d) data. Data from Japan and South Korea are shown for comparison. (Lower) Dynamic reproduction number (mean and 95% CI) of COVID-19 for China, Italy, and the United States estimated from reported deaths (17) using a nonparametric branching process (18). Current estimates are as of 1 April 2020 of the reproduction number in New York (NY), California (CA), and Indiana (IN; confirmed cases used instead of mortality for Indiana). Reproduction numbers of COVID-19 vary in different',\n 'Fig. 1, Lower shows the estimated dynamic reproduction number (36, 37) of COVID-19 in China, Italy, and the United States during the early stage of the pandemic, from late January 2020 to early April 2020. The branching point process is fit to mortality data (17) using an expectation–maximization algorithm (18). Public health measures undertaken in China appear to have reduced R(t) to below the self-sustaining level of R=1 by the middle of February. In Italy, public health measures brought the local value of R(t) down; as of early April, however, it remained above R=1. The estimated reproduction number in the United States as a whole stood at around 2.5. The reproduction number, however, varies notably by location.',\n 'Fig. 1, Lower shows the estimated dynamic reproduction number (36, 37) of COVID-19 in China, Italy, and the United States during the early stage of the pandemic, from late January 2020 to early April 2020. The branching point process is fit to mortality data (17) using an expectation–maximization algorithm (18). Public health measures undertaken in China appear to have reduced R(t) to below the self-sustaining level of R=1 by the middle of February. In Italy, public health measures brought the local value of R(t) down; as of early April, however, it remained above R=1. The estimated reproduction number in the United States as a whole stood at around 2.5. The reproduction number, however, varies notably by location.',\n '(Left) Fit of confirmed case (conf.) or mortality (mort.) data from California (CA), Indiana (IN), and New York (NY) states to three different models (SIR, SEIR, and branching process) using Poisson regression. The table shows the log likelihood and the relative likelihood exp((AICmin AIC)=2) based on the Akaike information criteria (AIC) (39). The blue lettering corresponds to the lowest AIC value. The branching process parameters include a Weibull shape k and scale b for w(t), along with the exogenous rate \\u2000. The table also shows parameters from the fit and the projected date for the peak in new cases for each of these datasets; the projected peak date for the branching process is made using the HawkesN model. For each state, we run the fit on both confirmed case data and mortality data, taken from ref. 17. (Right) Shown are the actual data points compared with the fitted curves.',\n '(Left) Fit of confirmed case (conf.) or mortality (mort.) data from California (CA), Indiana (IN), and New York (NY) states to three different models (SIR, SEIR, and branching process) using Poisson regression. The table shows the log likelihood and the relative likelihood exp((AICmin AIC)=2) based on the Akaike information criteria (AIC) (39). The blue lettering corresponds to the lowest AIC value. The branching process parameters include a Weibull shape k and scale b for w(t), along with the exogenous rate \\u2000. The table also shows parameters from the fit and the projected date for the peak in new cases for each of these datasets; the projected peak date for the branching process is made using the HawkesN model. For each state, we run the fit on both confirmed case data and mortality data, taken from ref. 17. (Right) Shown are the actual data points compared with the fitted curves.',\n '(Left) Fit of confirmed case (conf.) or mortality (mort.) data from California (CA), Indiana (IN), and New York (NY) states to three different models (SIR, SEIR, and branching process) using Poisson regression. The table shows the log likelihood and the relative likelihood exp((AICmin AIC)=2) based on the Akaike information criteria (AIC) (39). The blue lettering corresponds to the lowest AIC value. The branching process parameters include a Weibull shape k and scale b for w(t), along with the exogenous rate \\u2000. The table also shows parameters from the fit and the projected date for the peak in new cases for each of these datasets; the projected peak date for the branching process is made using the HawkesN model. For each state, we run the fit on both confirmed case data and mortality data, taken from ref. 17. (Right) Shown are the actual data points compared with the fitted curves.',\n 'For the New York state scenario, with R0 presumed to decrease by a factor of two with distancing measures, the outbreak is not completely controlled by distancing, and the number of infections continues to rise to approximately 10% by mid-April.',\n 'strain on the hospital system. In the California scenario, distancing measures bring the effective R0 closer to one, thus keeping infections at a much smaller portion of the population than the scenario with no social distancing, at least during the period when the distancing is still in effect. We take these scenarios one step further by suddenly stopping distancing on 5 May (this is both extreme and hypothetical, but it serves to illustrate the model). Because of the low initial infected count in California, bringing R0 back to the original predistancing level produces a curve that follows the original peak scenario, just shifted later in time. For New York state, because a nontrivial fraction of the population is initially infected, there are fewer to infect, and the new peak is less steep than the scenario without any distancing.',\n 'strain on the hospital system. In the California scenario, distancing measures bring the effective R0 closer to one, thus keeping infections at a much smaller portion of the population than the scenario with no social distancing, at least during the period when the distancing is still in effect. We take these scenarios one step further by suddenly stopping distancing on 5 May (this is both extreme and hypothetical, but it serves to illustrate the model). Because of the low initial infected count in California, bringing R0 back to the original predistancing level produces a curve that follows the original peak scenario, just shifted later in time. For New York state, because a nontrivial fraction of the population is initially infected, there are fewer to infect, and the new peak is less steep than the scenario without any distancing.',\n 'Fig. 3. Scenarios for the impact of short-term social distancing: fraction of population vs. date. (Left) California SIR model based on mortality data with parameters from Table 1 (R0 =2:7, =:12, I0 =:1) under two scenarios: R0 constant in time (light blue) and R0 cut in half from 27 March (1 wk from the start of the California shutdown) to 5 May but then returned to its original value, to represent a short-term distancing strategy (dark blue). (Right) New York SIR model with parameters from Table 1 (R0 =4:1, =:1, I0 =05) under the same two scenarios but with short-term distancing occurring over the dates of 30 March (1 wk from the start of the New York shutdown) to 5 May. In both states, the distancing measures suppress the curve and push the peak infected date into the future, but the total number of cases is only slightly reduced.',\n 'Fig. 3. Scenarios for the impact of short-term social distancing: fraction of population vs. date. (Left) California SIR model based on mortality data with parameters from Table 1 (R0 =2:7, =:12, I0 =:1) under two scenarios: R0 constant in time (light blue) and R0 cut in half from 27 March (1 wk from the start of the California shutdown) to 5 May but then returned to its original value, to represent a short-term distancing strategy (dark blue). (Right) New York SIR model with parameters from Table 1 (R0 =4:1, =:1, I0 =05) under the same two scenarios but with short-term distancing occurring over the dates of 30 March (1 wk from the start of the New York shutdown) to 5 May. In both states, the distancing measures suppress the curve and push the peak infected date into the future, but the total number of cases is only slightly reduced.',\n 'Fig. 3. Scenarios for the impact of short-term social distancing: fraction of population vs. date. (Left) California SIR model based on mortality data with parameters from Table 1 (R0 =2:7, =:12, I0 =:1) under two scenarios: R0 constant in time (light blue) and R0 cut in half from 27 March (1 wk from the start of the California shutdown) to 5 May but then returned to its original value, to represent a short-term distancing strategy (dark blue). (Right) New York SIR model with parameters from Table 1 (R0 =4:1, =:1, I0 =05) under the same two scenarios but with short-term distancing occurring over the dates of 30 March (1 wk from the start of the New York shutdown) to 5 May. In both states, the distancing measures suppress the curve and push the peak infected date into the future, but the total number of cases is only slightly reduced.',\n 'Fig. 3. Scenarios for the impact of short-term social distancing: fraction of population vs. date. (Left) California SIR model based on mortality data with parameters from Table 1 (R0 =2:7, =:12, I0 =:1) under two scenarios: R0 constant in time (light blue) and R0 cut in half from 27 March (1 wk from the start of the California shutdown) to 5 May but then returned to its original value, to represent a short-term distancing strategy (dark blue). (Right) New York SIR model with parameters from Table 1 (R0 =4:1, =:1, I0 =05) under the same two scenarios but with short-term distancing occurring over the dates of 30 March (1 wk from the start of the New York shutdown) to 5 May. In both states, the distancing measures suppress the curve and push the peak infected date into the future, but the total number of cases is only slightly reduced.',\n 'Fig. 3. Scenarios for the impact of short-term social distancing: fraction of population vs. date. (Left) California SIR model based on mortality data with parameters from Table 1 (R0 =2:7, =:12, I0 =:1) under two scenarios: R0 constant in time (light blue) and R0 cut in half from 27 March (1 wk from the start of the California shutdown) to 5 May but then returned to its original value, to represent a short-term distancing strategy (dark blue). (Right) New York SIR model with parameters from Table 1 (R0 =4:1, =:1, I0 =05) under the same two scenarios but with short-term distancing occurring over the dates of 30 March (1 wk from the start of the New York shutdown) to 5 May. In both states, the distancing measures suppress the curve and push the peak infected date into the future, but the total number of cases is only slightly reduced.',\n 'Fig. 3. Scenarios for the impact of short-term social distancing: fraction of population vs. date. (Left) California SIR model based on mortality data with parameters from Table 1 (R0 =2:7, =:12, I0 =:1) under two scenarios: R0 constant in time (light blue) and R0 cut in half from 27 March (1 wk from the start of the California shutdown) to 5 May but then returned to its original value, to represent a short-term distancing strategy (dark blue). (Right) New York SIR model with parameters from Table 1 (R0 =4:1, =:1, I0 =05) under the same two scenarios but with short-term distancing occurring over the dates of 30 March (1 wk from the start of the New York shutdown) to 5 May. In both states, the distancing measures suppress the curve and push the peak infected date into the future, but the total number of cases is only slightly reduced.',\n 'Fitting the SIR, SEIR, and Branching Process Models. The parameters for SIR and SEIR in Table 1 were found using maximum Poisson likelihood regression (as in ref. 43 for death data from the 1918 pandemic in US cities) via grid search with ranges I0 2 [:005, :1], R0 2 [1:5, 5],  2 [:01, :2], and\\u2000 2 [:01, :4].',\n 'Fitting the SIR, SEIR, and Branching Process Models. The parameters for SIR and SEIR in Table 1 were found using maximum Poisson likelihood regression (as in ref. 43 for death data from the 1918 pandemic in US cities) via grid search with ranges I0 2 [:005, :1], R0 2 [1:5, 5],  2 [:01, :2], and\\u2000 2 [:01, :4].',\n 'Fitting the SIR, SEIR, and Branching Process Models. The parameters for SIR and SEIR in Table 1 were found using maximum Poisson likelihood regression (as in ref. 43 for death data from the 1918 pandemic in US cities) via grid search with ranges I0 2 [:005, :1], R0 2 [1:5, 5],  2 [:01, :2], and\\u2000 2 [:01, :4].',\n 'Fitting the SIR, SEIR, and Branching Process Models. The parameters for SIR and SEIR in Table 1 were found using maximum Poisson likelihood regression (as in ref. 43 for death data from the 1918 pandemic in US cities) via grid search with ranges I0 2 [:005, :1], R0 2 [1:5, 5],  2 [:01, :2], and\\u2000 2 [:01, :4].']"
     },
     "execution_count": 3,
     "metadata": {},
     "output_type": "execute_result"
    }
   ],
   "source": [
    "# Put together the context paragraph for each annotation \n",
    "context = ([\n",
    "    \"Fig. 1. (Upper) Exponential model applied to new infection and death data for Italy, Germany, France, Spain, the United Kingdom, and the United States, normalized by the total country population (54). Insets show the same data on a logarithmic scale. Both the normalized infection i and death d data were thresholded to comparable initial conditions for each country; fits are to the first 15 to 20 d of the epidemic after exceeding the threshold. The fitted doubling time is shown for both infections (Td,i ) and death (Td,d) data. Data from Japan and South Korea are shown for comparison. (Lower) Dynamic reproduction number (mean and 95% CI) of COVID-19 for China, Italy, and the United States estimated from reported deaths (17) using a nonparametric branching process (18). Current estimates are as of 1 April 2020 of the reproduction number in New York (NY), California (CA), and Indiana (IN; confirmed cases used instead of mortality for Indiana). Reproduction numbers of COVID-19 vary in different\"\n",
    "] * 5) + ([\n",
    "    \"Fig. 1, Lower shows the estimated dynamic reproduction number (36, 37) of COVID-19 in China, Italy, and the United States during the early stage of the pandemic, from late January 2020 to early April 2020. The branching point process is fit to mortality data (17) using an expectation–maximization algorithm (18). Public health measures undertaken in China appear to have reduced R(t) to below the self-sustaining level of R=1 by the middle of February. In Italy, public health measures brought the local value of R(t) down; as of early April, however, it remained above R=1. The estimated reproduction number in the United States as a whole stood at around 2.5. The reproduction number, however, varies notably by location.\"\n",
    "] * 2) + ([\n",
    "    \"(Left) Fit of confirmed case (conf.) or mortality (mort.) data from California (CA), Indiana (IN), and New York (NY) states to three different models (SIR, SEIR, and branching process) using Poisson regression. The table shows the log likelihood and the relative likelihood exp((AICmin AIC)=2) based on the Akaike information criteria (AIC) (39). The blue lettering corresponds to the lowest AIC value. The branching process parameters include a Weibull shape k and scale b for w(t), along with the exogenous rate  . The table also shows parameters from the fit and the projected date for the peak in new cases for each of these datasets; the projected peak date for the branching process is made using the HawkesN model. For each state, we run the fit on both confirmed case data and mortality data, taken from ref. 17. (Right) Shown are the actual data points compared with the fitted curves.\"\n",
    "] * 3) + ([\n",
    "    \"For the New York state scenario, with R0 presumed to decrease by a factor of two with distancing measures, the outbreak is not completely controlled by distancing, and the number of infections continues to rise to approximately 10% by mid-April.\"\n",
    "]) + ([\n",
    "    \"strain on the hospital system. In the California scenario, distancing measures bring the effective R0 closer to one, thus keeping infections at a much smaller portion of the population than the scenario with no social distancing, at least during the period when the distancing is still in effect. We take these scenarios one step further by suddenly stopping distancing on 5 May (this is both extreme and hypothetical, but it serves to illustrate the model). Because of the low initial infected count in California, bringing R0 back to the original predistancing level produces a curve that follows the original peak scenario, just shifted later in time. For New York state, because a nontrivial fraction of the population is initially infected, there are fewer to infect, and the new peak is less steep than the scenario without any distancing.\"\n",
    "] * 2) + ([\n",
    "    \"Fig. 3. Scenarios for the impact of short-term social distancing: fraction of population vs. date. (Left) California SIR model based on mortality data with parameters from Table 1 (R0 =2:7, =:12, I0 =:1) under two scenarios: R0 constant in time (light blue) and R0 cut in half from 27 March (1 wk from the start of the California shutdown) to 5 May but then returned to its original value, to represent a short-term distancing strategy (dark blue). (Right) New York SIR model with parameters from Table 1 (R0 =4:1, =:1, I0 =05) under the same two scenarios but with short-term distancing occurring over the dates of 30 March (1 wk from the start of the New York shutdown) to 5 May. In both states, the distancing measures suppress the curve and push the peak infected date into the future, but the total number of cases is only slightly reduced.\"\n",
    "] * 6) + (\n",
    "    [\"Fitting the SIR, SEIR, and Branching Process Models. The parameters for SIR and SEIR in Table 1 were found using maximum Poisson likelihood regression (as in ref. 43 for death data from the 1918 pandemic in US cities) via grid search with ranges I0 2 [:005, :1], R0 2 [1:5, 5],  2 [:01, :2], and  2 [:01, :4].\"] * 4\n",
    ")\n",
    "context"
   ],
   "metadata": {
    "collapsed": false,
    "ExecuteTime": {
     "end_time": "2023-11-01T01:19:17.465110Z",
     "start_time": "2023-11-01T01:19:17.457774Z"
    }
   },
   "id": "958e156173558708"
  },
  {
   "cell_type": "code",
   "execution_count": 4,
   "outputs": [
    {
     "data": {
      "text/plain": "(23, 23)"
     },
     "execution_count": 4,
     "metadata": {},
     "output_type": "execute_result"
    }
   ],
   "source": [
    "# Sanity check\n",
    "len(context), len(annotations_w_context)"
   ],
   "metadata": {
    "collapsed": false,
    "ExecuteTime": {
     "end_time": "2023-11-01T01:19:17.467811Z",
     "start_time": "2023-11-01T01:19:17.465270Z"
    }
   },
   "id": "ad7fc952bcf55105"
  },
  {
   "cell_type": "markdown",
   "source": [
    "## Question answering prototype"
   ],
   "metadata": {
    "collapsed": false
   },
   "id": "cb01e9c9fee71ed1"
  },
  {
   "cell_type": "code",
   "execution_count": 5,
   "outputs": [],
   "source": [
    "from typing import Optional\n",
    "from transformers import AutoModelForQuestionAnswering, AutoTokenizer, pipeline\n",
    "import torch\n",
    "\n",
    "model_name = \"deepset/roberta-base-squad2\"\n",
    "nlp = pipeline('question-answering', model=model_name, tokenizer=model_name, device=torch.device(\"mps\"))\n",
    "\n",
    "def geo_context_as_qa(extraction:str, context:str, gt:Optional[str] = None):\n",
    "    \n",
    "    \n",
    "    QA_input = {\n",
    "        'question': f'What are the relevant countries or geographical locations for \"{extraction}\"?',\n",
    "        'context': context\n",
    "    }\n",
    "    res = nlp(QA_input)\n",
    "    \n",
    "    ret = dict()\n",
    "    ret['answer'] = res['answer']\n",
    "    ret['score'] = res['score']\n",
    "    if gt is not None:\n",
    "        ret['gt'] = gt\n",
    "        # ret['hit'] = gt.lower() in res['answer'].lower() or res['answer'].lower() in gt.lower() \n",
    "    \n",
    "    return ret\n",
    "\n",
    "def time_context_as_qa(extraction:str, context:str, gt:Optional[str] = None):\n",
    "    \n",
    "    QA_input = {\n",
    "        'question': f'What are the relevant date or date range for \"{extraction}\"?',\n",
    "        'context': context\n",
    "    }\n",
    "    res = nlp(QA_input)\n",
    "    \n",
    "    ret = dict()\n",
    "    ret['answer'] = res['answer']\n",
    "    ret['score'] = res['score']\n",
    "    if gt is not None:\n",
    "        ret['gt'] = gt\n",
    "        # ret['hit'] = gt.lower() in res['answer'].lower() or res['answer'].lower() in gt.lower() \n",
    "    \n",
    "    return ret\n",
    "# # b) Load model & tokenizer\n",
    "# model = AutoModelForQuestionAnswering.from_pretrained(model_name)\n",
    "# tokenizer = AutoTokenizer.from_pretrained(model_name)"
   ],
   "metadata": {
    "collapsed": false,
    "ExecuteTime": {
     "end_time": "2023-11-01T01:19:29.318348Z",
     "start_time": "2023-11-01T01:19:17.469306Z"
    }
   },
   "id": "fc321d70c66bf5c2"
  },
  {
   "cell_type": "code",
   "execution_count": 6,
   "outputs": [
    {
     "data": {
      "text/plain": "                                             answer     score  \\\n0                     Italy, Germany, France, Spain  0.005217   \n1                     Italy, Germany, France, Spain  0.003371   \n2                             Japan and South Korea  0.015129   \n3                     Italy, Germany, France, Spain  0.000621   \n4       New York (NY), California (CA), and Indiana  0.017807   \n5               China, Italy, and the United States  0.010101   \n6               China, Italy, and the United States  0.010101   \n7   California (CA), Indiana (IN), and New York (NY  0.000196   \n8   California (CA), Indiana (IN), and New York (NY  0.000564   \n9   California (CA), Indiana (IN), and New York (NY  0.000177   \n10                                   New York state  0.003918   \n11                                   New York state  0.000401   \n12                                   New York state  0.000401   \n13                                       California  0.003553   \n14                                       California  0.000162   \n15                                       California  0.004123   \n16                                         New York  0.006652   \n17                                         New York  0.000092   \n18                                         New York  0.118288   \n19                                   R0 2 [1:5, 5],  0.000867   \n20                                     2 [:01, :2],  0.000245   \n21                                   R0 2 [1:5, 5],  0.001176   \n22                                                   0.000738   \n\n                                                   gt  \n0   location: italy, germany, france, spain, unite...  \n1   location: italy, germany, france, spain, unite...  \n2   location: italy, germany, france, spain, unite...  \n3   location: italy, germany, france, spain, unite...  \n4   location: new york, california, indiana;time: ...  \n5                      location: china;time: february  \n6                          location: italy;time april  \n7             location: california, indiana, new york  \n8             location: california, indiana, new york  \n9             location: california, indiana, new york  \n10           location: new york state; time:mid-april  \n11                               location: california  \n12                  location: california; time: 5 may  \n13  location: california; time: from 27 march to 5...  \n14  location: california; time: from 27 march to 5...  \n15  location: california; time: from 27 march to 5...  \n16   location: new york; time: from 30 march to 5 may  \n17   location: new york; time: from 30 march to 5 may  \n18   location: new york; time: from 30 march to 5 may  \n19                            location: us;time: 1928  \n20                            location: us;time: 1928  \n21                            location: us;time: 1928  \n22                            location: us;time: 1928  ",
      "text/html": "<div>\n<style scoped>\n    .dataframe tbody tr th:only-of-type {\n        vertical-align: middle;\n    }\n\n    .dataframe tbody tr th {\n        vertical-align: top;\n    }\n\n    .dataframe thead th {\n        text-align: right;\n    }\n</style>\n<table border=\"1\" class=\"dataframe\">\n  <thead>\n    <tr style=\"text-align: right;\">\n      <th></th>\n      <th>answer</th>\n      <th>score</th>\n      <th>gt</th>\n    </tr>\n  </thead>\n  <tbody>\n    <tr>\n      <th>0</th>\n      <td>Italy, Germany, France, Spain</td>\n      <td>0.005217</td>\n      <td>location: italy, germany, france, spain, unite...</td>\n    </tr>\n    <tr>\n      <th>1</th>\n      <td>Italy, Germany, France, Spain</td>\n      <td>0.003371</td>\n      <td>location: italy, germany, france, spain, unite...</td>\n    </tr>\n    <tr>\n      <th>2</th>\n      <td>Japan and South Korea</td>\n      <td>0.015129</td>\n      <td>location: italy, germany, france, spain, unite...</td>\n    </tr>\n    <tr>\n      <th>3</th>\n      <td>Italy, Germany, France, Spain</td>\n      <td>0.000621</td>\n      <td>location: italy, germany, france, spain, unite...</td>\n    </tr>\n    <tr>\n      <th>4</th>\n      <td>New York (NY), California (CA), and Indiana</td>\n      <td>0.017807</td>\n      <td>location: new york, california, indiana;time: ...</td>\n    </tr>\n    <tr>\n      <th>5</th>\n      <td>China, Italy, and the United States</td>\n      <td>0.010101</td>\n      <td>location: china;time: february</td>\n    </tr>\n    <tr>\n      <th>6</th>\n      <td>China, Italy, and the United States</td>\n      <td>0.010101</td>\n      <td>location: italy;time april</td>\n    </tr>\n    <tr>\n      <th>7</th>\n      <td>California (CA), Indiana (IN), and New York (NY</td>\n      <td>0.000196</td>\n      <td>location: california, indiana, new york</td>\n    </tr>\n    <tr>\n      <th>8</th>\n      <td>California (CA), Indiana (IN), and New York (NY</td>\n      <td>0.000564</td>\n      <td>location: california, indiana, new york</td>\n    </tr>\n    <tr>\n      <th>9</th>\n      <td>California (CA), Indiana (IN), and New York (NY</td>\n      <td>0.000177</td>\n      <td>location: california, indiana, new york</td>\n    </tr>\n    <tr>\n      <th>10</th>\n      <td>New York state</td>\n      <td>0.003918</td>\n      <td>location: new york state; time:mid-april</td>\n    </tr>\n    <tr>\n      <th>11</th>\n      <td>New York state</td>\n      <td>0.000401</td>\n      <td>location: california</td>\n    </tr>\n    <tr>\n      <th>12</th>\n      <td>New York state</td>\n      <td>0.000401</td>\n      <td>location: california; time: 5 may</td>\n    </tr>\n    <tr>\n      <th>13</th>\n      <td>California</td>\n      <td>0.003553</td>\n      <td>location: california; time: from 27 march to 5...</td>\n    </tr>\n    <tr>\n      <th>14</th>\n      <td>California</td>\n      <td>0.000162</td>\n      <td>location: california; time: from 27 march to 5...</td>\n    </tr>\n    <tr>\n      <th>15</th>\n      <td>California</td>\n      <td>0.004123</td>\n      <td>location: california; time: from 27 march to 5...</td>\n    </tr>\n    <tr>\n      <th>16</th>\n      <td>New York</td>\n      <td>0.006652</td>\n      <td>location: new york; time: from 30 march to 5 may</td>\n    </tr>\n    <tr>\n      <th>17</th>\n      <td>New York</td>\n      <td>0.000092</td>\n      <td>location: new york; time: from 30 march to 5 may</td>\n    </tr>\n    <tr>\n      <th>18</th>\n      <td>New York</td>\n      <td>0.118288</td>\n      <td>location: new york; time: from 30 march to 5 may</td>\n    </tr>\n    <tr>\n      <th>19</th>\n      <td>R0 2 [1:5, 5],</td>\n      <td>0.000867</td>\n      <td>location: us;time: 1928</td>\n    </tr>\n    <tr>\n      <th>20</th>\n      <td>2 [:01, :2],</td>\n      <td>0.000245</td>\n      <td>location: us;time: 1928</td>\n    </tr>\n    <tr>\n      <th>21</th>\n      <td>R0 2 [1:5, 5],</td>\n      <td>0.001176</td>\n      <td>location: us;time: 1928</td>\n    </tr>\n    <tr>\n      <th>22</th>\n      <td></td>\n      <td>0.000738</td>\n      <td>location: us;time: 1928</td>\n    </tr>\n  </tbody>\n</table>\n</div>"
     },
     "execution_count": 6,
     "metadata": {},
     "output_type": "execute_result"
    }
   ],
   "source": [
    "import pandas as pd\n",
    "\n",
    "rows = list()\n",
    "for a, ctx in zip(annotations_w_context, context):\n",
    "    actx = [c for c in a['contents'].split(\";\") if c.startswith('location:')]\n",
    "    if len(actx) > 0:\n",
    "        rows.append(geo_context_as_qa(a['text'], ctx, gt=a['contents']))\n",
    "\n",
    "frame = pd.DataFrame(rows)\n",
    "frame"
   ],
   "metadata": {
    "collapsed": false,
    "ExecuteTime": {
     "end_time": "2023-11-01T01:19:31.656984Z",
     "start_time": "2023-11-01T01:19:29.322555Z"
    }
   },
   "id": "d44da921332290d0"
  },
  {
   "cell_type": "code",
   "execution_count": 7,
   "outputs": [
    {
     "data": {
      "text/plain": "                                  answer     score  \\\n0                           1 April 2020  0.032063   \n1  late January 2020 to early April 2020  0.000382   \n2                                      2  0.024565   \n3                             [:01, :2],  0.028086   \n4                             [:01, :4].  0.041060   \n5                                      2  0.102504   \n\n                                                  gt  \n0  location: new york, california, indiana;time: ...  \n1                     location: china;time: february  \n2                            location: us;time: 1928  \n3                            location: us;time: 1928  \n4                            location: us;time: 1928  \n5                            location: us;time: 1928  ",
      "text/html": "<div>\n<style scoped>\n    .dataframe tbody tr th:only-of-type {\n        vertical-align: middle;\n    }\n\n    .dataframe tbody tr th {\n        vertical-align: top;\n    }\n\n    .dataframe thead th {\n        text-align: right;\n    }\n</style>\n<table border=\"1\" class=\"dataframe\">\n  <thead>\n    <tr style=\"text-align: right;\">\n      <th></th>\n      <th>answer</th>\n      <th>score</th>\n      <th>gt</th>\n    </tr>\n  </thead>\n  <tbody>\n    <tr>\n      <th>0</th>\n      <td>1 April 2020</td>\n      <td>0.032063</td>\n      <td>location: new york, california, indiana;time: ...</td>\n    </tr>\n    <tr>\n      <th>1</th>\n      <td>late January 2020 to early April 2020</td>\n      <td>0.000382</td>\n      <td>location: china;time: february</td>\n    </tr>\n    <tr>\n      <th>2</th>\n      <td>2</td>\n      <td>0.024565</td>\n      <td>location: us;time: 1928</td>\n    </tr>\n    <tr>\n      <th>3</th>\n      <td>[:01, :2],</td>\n      <td>0.028086</td>\n      <td>location: us;time: 1928</td>\n    </tr>\n    <tr>\n      <th>4</th>\n      <td>[:01, :4].</td>\n      <td>0.041060</td>\n      <td>location: us;time: 1928</td>\n    </tr>\n    <tr>\n      <th>5</th>\n      <td>2</td>\n      <td>0.102504</td>\n      <td>location: us;time: 1928</td>\n    </tr>\n  </tbody>\n</table>\n</div>"
     },
     "execution_count": 7,
     "metadata": {},
     "output_type": "execute_result"
    }
   ],
   "source": [
    "rows = list()\n",
    "for a, ctx in zip(annotations_w_context, context):\n",
    "    actx = [c for c in a['contents'].split(\";\") if c.startswith('time:')]\n",
    "    if len(actx) > 0:\n",
    "        rows.append(time_context_as_qa(a['text'], ctx, gt=a['contents']))\n",
    "\n",
    "frame = pd.DataFrame(rows)\n",
    "frame"
   ],
   "metadata": {
    "collapsed": false,
    "ExecuteTime": {
     "end_time": "2023-11-01T01:19:31.770986Z",
     "start_time": "2023-11-01T01:19:31.656009Z"
    }
   },
   "id": "8e16674187fa565"
  },
  {
   "cell_type": "markdown",
   "source": [
    "## Zero-shot prototype (Embedding similarity) "
   ],
   "metadata": {
    "collapsed": false
   },
   "id": "e3175cd9027d83ba"
  },
  {
   "cell_type": "code",
   "execution_count": 8,
   "outputs": [
    {
     "data": {
      "text/plain": "({'california',\n  'china',\n  'france',\n  'germany',\n  'indiana',\n  'italy',\n  'new york',\n  'new york state',\n  'spain',\n  'united kingdom',\n  'united states',\n  'us'},\n {'1 april 2020', '1928', 'february'})"
     },
     "execution_count": 8,
     "metadata": {},
     "output_type": "execute_result"
    }
   ],
   "source": [
    "# First get all the candidate contexts\n",
    "import itertools as it\n",
    "\n",
    "geo_candidates = {g.strip() for g in it.chain.from_iterable(c.replace('location:', '').split(',') for c in (it.chain.from_iterable(a['contents'].split(';') for a in annotations_w_context)) if c.startswith('location:'))}\n",
    "\n",
    "time_candidates = {g.strip() for g in it.chain.from_iterable(c.replace('time:', '').split(',') for c in (it.chain.from_iterable(a['contents'].split(';') for a in annotations_w_context)) if c.startswith('time:'))}\n",
    "geo_candidates, time_candidates"
   ],
   "metadata": {
    "collapsed": false,
    "ExecuteTime": {
     "end_time": "2023-11-01T01:19:31.771149Z",
     "start_time": "2023-11-01T01:19:31.760812Z"
    }
   },
   "id": "9116dedf58839de4"
  },
  {
   "cell_type": "code",
   "execution_count": 9,
   "outputs": [],
   "source": [
    "from typing import Set\n",
    "import torch\n",
    "\n",
    "# Location context\n",
    "from transformers import pipeline\n",
    "classifier = pipeline(\"zero-shot-classification\",\n",
    "                      model=\"facebook/bart-large-mnli\", device=torch.device(\"mps\"))\n",
    "\n",
    "def ctx_as_zs(text:str, context:str, candidates:Set[str], gt:Optional[str]):\n",
    "       results = classifier(context, candidates)\n",
    "       label, score = None, 0\n",
    "       for l, s in zip(results['labels'], results['scores']):\n",
    "           if s >= score:\n",
    "               score = s\n",
    "               label = l\n",
    "       ret = {\n",
    "           'prediction': label,\n",
    "           'score': score,\n",
    "       } \n",
    "       \n",
    "       if gt is not None:\n",
    "           ret['gt'] = gt\n",
    "       \n",
    "       return ret\n",
    "\n"
   ],
   "metadata": {
    "collapsed": false,
    "ExecuteTime": {
     "end_time": "2023-11-01T01:19:35.678356Z",
     "start_time": "2023-11-01T01:19:31.764668Z"
    }
   },
   "id": "8870f041a9561563"
  },
  {
   "cell_type": "code",
   "execution_count": 12,
   "outputs": [
    {
     "data": {
      "text/plain": "        prediction     score  \\\n0          indiana  0.241326   \n1          indiana  0.241326   \n2          indiana  0.241326   \n3          indiana  0.241326   \n4          indiana  0.241326   \n5    united states  0.430048   \n6    united states  0.430048   \n7       california  0.296473   \n8       california  0.296473   \n9       california  0.296473   \n10  new york state  0.753717   \n11      california  0.841992   \n12      california  0.841992   \n13      california  0.611907   \n14      california  0.611907   \n15      california  0.611907   \n16      california  0.611907   \n17      california  0.611907   \n18      california  0.611907   \n19              us  0.214178   \n20              us  0.214178   \n21              us  0.214178   \n22              us  0.214178   \n\n                                                   gt  \n0   [location: italy, germany, france, spain, unit...  \n1   [location: italy, germany, france, spain, unit...  \n2   [location: italy, germany, france, spain, unit...  \n3   [location: italy, germany, france, spain, unit...  \n4           [location: new york, california, indiana]  \n5                                   [location: china]  \n6                                   [location: italy]  \n7           [location: california, indiana, new york]  \n8           [location: california, indiana, new york]  \n9           [location: california, indiana, new york]  \n10                         [location: new york state]  \n11                             [location: california]  \n12                             [location: california]  \n13                             [location: california]  \n14                             [location: california]  \n15                             [location: california]  \n16                               [location: new york]  \n17                               [location: new york]  \n18                               [location: new york]  \n19                                     [location: us]  \n20                                     [location: us]  \n21                                     [location: us]  \n22                                     [location: us]  ",
      "text/html": "<div>\n<style scoped>\n    .dataframe tbody tr th:only-of-type {\n        vertical-align: middle;\n    }\n\n    .dataframe tbody tr th {\n        vertical-align: top;\n    }\n\n    .dataframe thead th {\n        text-align: right;\n    }\n</style>\n<table border=\"1\" class=\"dataframe\">\n  <thead>\n    <tr style=\"text-align: right;\">\n      <th></th>\n      <th>prediction</th>\n      <th>score</th>\n      <th>gt</th>\n    </tr>\n  </thead>\n  <tbody>\n    <tr>\n      <th>0</th>\n      <td>indiana</td>\n      <td>0.241326</td>\n      <td>[location: italy, germany, france, spain, unit...</td>\n    </tr>\n    <tr>\n      <th>1</th>\n      <td>indiana</td>\n      <td>0.241326</td>\n      <td>[location: italy, germany, france, spain, unit...</td>\n    </tr>\n    <tr>\n      <th>2</th>\n      <td>indiana</td>\n      <td>0.241326</td>\n      <td>[location: italy, germany, france, spain, unit...</td>\n    </tr>\n    <tr>\n      <th>3</th>\n      <td>indiana</td>\n      <td>0.241326</td>\n      <td>[location: italy, germany, france, spain, unit...</td>\n    </tr>\n    <tr>\n      <th>4</th>\n      <td>indiana</td>\n      <td>0.241326</td>\n      <td>[location: new york, california, indiana]</td>\n    </tr>\n    <tr>\n      <th>5</th>\n      <td>united states</td>\n      <td>0.430048</td>\n      <td>[location: china]</td>\n    </tr>\n    <tr>\n      <th>6</th>\n      <td>united states</td>\n      <td>0.430048</td>\n      <td>[location: italy]</td>\n    </tr>\n    <tr>\n      <th>7</th>\n      <td>california</td>\n      <td>0.296473</td>\n      <td>[location: california, indiana, new york]</td>\n    </tr>\n    <tr>\n      <th>8</th>\n      <td>california</td>\n      <td>0.296473</td>\n      <td>[location: california, indiana, new york]</td>\n    </tr>\n    <tr>\n      <th>9</th>\n      <td>california</td>\n      <td>0.296473</td>\n      <td>[location: california, indiana, new york]</td>\n    </tr>\n    <tr>\n      <th>10</th>\n      <td>new york state</td>\n      <td>0.753717</td>\n      <td>[location: new york state]</td>\n    </tr>\n    <tr>\n      <th>11</th>\n      <td>california</td>\n      <td>0.841992</td>\n      <td>[location: california]</td>\n    </tr>\n    <tr>\n      <th>12</th>\n      <td>california</td>\n      <td>0.841992</td>\n      <td>[location: california]</td>\n    </tr>\n    <tr>\n      <th>13</th>\n      <td>california</td>\n      <td>0.611907</td>\n      <td>[location: california]</td>\n    </tr>\n    <tr>\n      <th>14</th>\n      <td>california</td>\n      <td>0.611907</td>\n      <td>[location: california]</td>\n    </tr>\n    <tr>\n      <th>15</th>\n      <td>california</td>\n      <td>0.611907</td>\n      <td>[location: california]</td>\n    </tr>\n    <tr>\n      <th>16</th>\n      <td>california</td>\n      <td>0.611907</td>\n      <td>[location: new york]</td>\n    </tr>\n    <tr>\n      <th>17</th>\n      <td>california</td>\n      <td>0.611907</td>\n      <td>[location: new york]</td>\n    </tr>\n    <tr>\n      <th>18</th>\n      <td>california</td>\n      <td>0.611907</td>\n      <td>[location: new york]</td>\n    </tr>\n    <tr>\n      <th>19</th>\n      <td>us</td>\n      <td>0.214178</td>\n      <td>[location: us]</td>\n    </tr>\n    <tr>\n      <th>20</th>\n      <td>us</td>\n      <td>0.214178</td>\n      <td>[location: us]</td>\n    </tr>\n    <tr>\n      <th>21</th>\n      <td>us</td>\n      <td>0.214178</td>\n      <td>[location: us]</td>\n    </tr>\n    <tr>\n      <th>22</th>\n      <td>us</td>\n      <td>0.214178</td>\n      <td>[location: us]</td>\n    </tr>\n  </tbody>\n</table>\n</div>"
     },
     "execution_count": 12,
     "metadata": {},
     "output_type": "execute_result"
    }
   ],
   "source": [
    "rows = list()\n",
    "for a, ctx in zip(annotations_w_context, context):\n",
    "    actx = [c for c in a['contents'].split(\";\") if c.startswith('location:')]\n",
    "    if len(actx) > 0:\n",
    "        rows.append(ctx_as_zs(a['text'], ctx, candidates=list(geo_candidates), gt=actx))\n",
    "\n",
    "frame = pd.DataFrame(rows)\n",
    "frame"
   ],
   "metadata": {
    "collapsed": false,
    "ExecuteTime": {
     "end_time": "2023-11-01T01:20:18.338024Z",
     "start_time": "2023-11-01T01:20:05.256716Z"
    }
   },
   "id": "4c3145cfa58bb8ac"
  },
  {
   "cell_type": "code",
   "execution_count": 13,
   "outputs": [
    {
     "data": {
      "text/plain": "     prediction     score                    gt\n0  1 april 2020  0.984790  [time: 1 april 2020]\n1  1 april 2020  0.664593      [time: february]\n2          1928  0.625099          [time: 1928]\n3          1928  0.625099          [time: 1928]\n4          1928  0.625099          [time: 1928]\n5          1928  0.625099          [time: 1928]",
      "text/html": "<div>\n<style scoped>\n    .dataframe tbody tr th:only-of-type {\n        vertical-align: middle;\n    }\n\n    .dataframe tbody tr th {\n        vertical-align: top;\n    }\n\n    .dataframe thead th {\n        text-align: right;\n    }\n</style>\n<table border=\"1\" class=\"dataframe\">\n  <thead>\n    <tr style=\"text-align: right;\">\n      <th></th>\n      <th>prediction</th>\n      <th>score</th>\n      <th>gt</th>\n    </tr>\n  </thead>\n  <tbody>\n    <tr>\n      <th>0</th>\n      <td>1 april 2020</td>\n      <td>0.984790</td>\n      <td>[time: 1 april 2020]</td>\n    </tr>\n    <tr>\n      <th>1</th>\n      <td>1 april 2020</td>\n      <td>0.664593</td>\n      <td>[time: february]</td>\n    </tr>\n    <tr>\n      <th>2</th>\n      <td>1928</td>\n      <td>0.625099</td>\n      <td>[time: 1928]</td>\n    </tr>\n    <tr>\n      <th>3</th>\n      <td>1928</td>\n      <td>0.625099</td>\n      <td>[time: 1928]</td>\n    </tr>\n    <tr>\n      <th>4</th>\n      <td>1928</td>\n      <td>0.625099</td>\n      <td>[time: 1928]</td>\n    </tr>\n    <tr>\n      <th>5</th>\n      <td>1928</td>\n      <td>0.625099</td>\n      <td>[time: 1928]</td>\n    </tr>\n  </tbody>\n</table>\n</div>"
     },
     "execution_count": 13,
     "metadata": {},
     "output_type": "execute_result"
    }
   ],
   "source": [
    "rows = list()\n",
    "for a, ctx in zip(annotations_w_context, context):\n",
    "    actx = [c for c in a['contents'].split(\";\") if c.startswith('time:')]\n",
    "    if len(actx) > 0:\n",
    "        rows.append(ctx_as_zs(a['text'], ctx, candidates=list(time_candidates), gt=actx))\n",
    "\n",
    "frame = pd.DataFrame(rows)\n",
    "frame"
   ],
   "metadata": {
    "collapsed": false,
    "ExecuteTime": {
     "end_time": "2023-11-01T01:20:21.719104Z",
     "start_time": "2023-11-01T01:20:20.780395Z"
    }
   },
   "id": "d112626c050b2a4a"
  }
 ],
 "metadata": {
  "kernelspec": {
   "display_name": "Python 3",
   "language": "python",
   "name": "python3"
  },
  "language_info": {
   "codemirror_mode": {
    "name": "ipython",
    "version": 2
   },
   "file_extension": ".py",
   "mimetype": "text/x-python",
   "name": "python",
   "nbconvert_exporter": "python",
   "pygments_lexer": "ipython2",
   "version": "2.7.6"
  }
 },
 "nbformat": 4,
 "nbformat_minor": 5
}
