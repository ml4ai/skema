{
 "cells": [
  {
   "cell_type": "code",
   "execution_count": 2,
   "metadata": {},
   "outputs": [
    {
     "name": "stdout",
     "output_type": "stream",
     "text": [
      "Attempting Mathpix POST request\n",
      "Request Complete\n",
      "Batch ID: 21278625\n"
     ]
    }
   ],
   "source": [
    "from batchRequesthandler import BatchRequestHandler\n",
    "\n",
    "handler = BatchRequestHandler()\n",
    "\n",
    "# Post Batch\n",
    "batch_id = handler.post_batch()\n",
    "print(\"Batch ID:\", batch_id)"
   ]
  },
  {
   "cell_type": "code",
   "execution_count": 3,
   "metadata": {},
   "outputs": [
    {
     "name": "stdout",
     "output_type": "stream",
     "text": [
      "Attempting Mathpix GET request for batch 21278625\n",
      "Request Complete\n"
     ]
    }
   ],
   "source": [
    "import json\n",
    "\n",
    "# Get Batch Results\n",
    "results_json = handler.get_batch_results(batch_id)"
   ]
  },
  {
   "cell_type": "code",
   "execution_count": 11,
   "metadata": {},
   "outputs": [
    {
     "name": "stdout",
     "output_type": "stream",
     "text": [
      "3994 images were successfully processed. The results have been saved to ../latex_data_dev.js\n",
      "78 images encountered errors. The results have been saved to mathpix_errors.json\n"
     ]
    }
   ],
   "source": [
    "# Process the results in  a convenient way\n",
    "image_ids = results_json[\"keys\"]\n",
    "results_data = results_json[\"results\"]\n",
    "\n",
    "output_json = []\n",
    "errors_json = []\n",
    "success_count, error_count = 0, 0\n",
    "for image_id in image_ids:\n",
    "    if \"error\" in results_data[image_id].keys():\n",
    "        # Track images where errors occured and continue\n",
    "        errors_json.append(\n",
    "            {\n",
    "                \"id\": image_id,\n",
    "                \"error\": results_data[image_id][\"error_info\"],\n",
    "                \"link\": f\"https://raw.githubusercontent.com/imzoc/mathpix-annotation/master/mathml-images/images_filtered/{image_id}.png\"\n",
    "            }\n",
    "        )\n",
    "        error_count += 1\n",
    "        continue\n",
    "    else:\n",
    "        current_image_result_data = results_data[image_id][\"data\"]\n",
    "\n",
    "        mathml_res = []\n",
    "        latex_res = []\n",
    "        for row in current_image_result_data:\n",
    "            if row[\"type\"] == \"mathml\":\n",
    "                mathml_res.append(row[\"value\"])\n",
    "            else:\n",
    "                latex_res.append(row[\"value\"])\n",
    "\n",
    "        current_image_consolidated_result_data = {\n",
    "            \"id\": image_id,\n",
    "            \"mathml\": \" \".join(mathml_res),\n",
    "            \"latex\": \" \".join(latex_res),\n",
    "        }\n",
    "        output_json.append(current_image_consolidated_result_data)\n",
    "        success_count += 1\n",
    "\n",
    "\n",
    "# Save results\n",
    "with open(\"../latex_data_dev.js\", \"w\") as f:\n",
    "    f.write(f\"eqn_src = {json.dumps(output_json, indent=4)}\")\n",
    "    print(\n",
    "        f\"{success_count} images were successfully processed. The results have been saved to {f.name}\"\n",
    "    )\n",
    "\n",
    "with open(\"mathpix_errors.json\", \"w\") as f:\n",
    "    json.dump(errors_json, f, indent=4)\n",
    "    print(\n",
    "        f\"{error_count} images encountered errors. The results have been saved to {f.name}\"\n",
    "    )"
   ]
  }
 ],
 "metadata": {
  "kernelspec": {
   "display_name": "venv",
   "language": "python",
   "name": "python3"
  },
  "language_info": {
   "codemirror_mode": {
    "name": "ipython",
    "version": 3
   },
   "file_extension": ".py",
   "mimetype": "text/x-python",
   "name": "python",
   "nbconvert_exporter": "python",
   "pygments_lexer": "ipython3",
   "version": "3.11.4"
  },
  "orig_nbformat": 4
 },
 "nbformat": 4,
 "nbformat_minor": 2
}
