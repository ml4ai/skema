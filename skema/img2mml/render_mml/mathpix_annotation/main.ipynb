{
 "cells": [
  {
   "cell_type": "code",
   "execution_count": 3,
   "metadata": {},
   "outputs": [
    {
     "name": "stdout",
     "output_type": "stream",
     "text": [
      "Attempting Mathpix POST request\n",
      "Request Complete\n",
      "Batch ID: 21274206\n"
     ]
    }
   ],
   "source": [
    "from batchRequesthandler import BatchRequestHandler\n",
    "\n",
    "handler = BatchRequestHandler()\n",
    "\n",
    "\n",
    "# Post Batch\n",
    "batch_id = handler.post_request()\n",
    "print(\"Batch ID:\", batch_id)"
   ]
  },
  {
   "cell_type": "code",
   "execution_count": 4,
   "metadata": {},
   "outputs": [
    {
     "name": "stdout",
     "output_type": "stream",
     "text": [
      "Attempting Mathpix GET request for batch 21274206\n",
      "Request Complete\n"
     ]
    }
   ],
   "source": [
    "import json\n",
    "\n",
    "# Get Batch Results\n",
    "results_json = handler.get_request(batch_id)"
   ]
  },
  {
   "cell_type": "code",
   "execution_count": 13,
   "metadata": {},
   "outputs": [],
   "source": [
    "\n",
    "keys = results_json[\"keys\"]\n",
    "results_data = results_json[\"results\"]\n",
    "\n",
    "output_json = []\n",
    "for key in keys:\n",
    "    current_image_result_data = results_data[key][\"data\"]\n",
    "    \n",
    "    mathml_res = []\n",
    "    latex_res = []\n",
    "    for row in current_image_result_data:\n",
    "        if row[\"type\"] == \"mathml\":\n",
    "            mathml_res.append(row[\"value\"])\n",
    "        else:\n",
    "            latex_res.append(row[\"value\"])\n",
    "    \n",
    "    current_image_consolidated_result_data = {\n",
    "        \"id\": key,\n",
    "        \"mathml\": \" \".join(mathml_res),\n",
    "        \"latex\": \" \".join(latex_res),\n",
    "    }\n",
    "    output_json.append(current_image_consolidated_result_data)\n",
    "\n",
    "with open(\"../latex_data_dev.js\", \"w\") as f:\n",
    "       f.write(f\"eqn_src = {json.dumps(output_json, indent=4)}\")"
   ]
  }
 ],
 "metadata": {
  "kernelspec": {
   "display_name": "venv",
   "language": "python",
   "name": "python3"
  },
  "language_info": {
   "codemirror_mode": {
    "name": "ipython",
    "version": 3
   },
   "file_extension": ".py",
   "mimetype": "text/x-python",
   "name": "python",
   "nbconvert_exporter": "python",
   "pygments_lexer": "ipython3",
   "version": "3.11.4"
  },
  "orig_nbformat": 4
 },
 "nbformat": 4,
 "nbformat_minor": 2
}
