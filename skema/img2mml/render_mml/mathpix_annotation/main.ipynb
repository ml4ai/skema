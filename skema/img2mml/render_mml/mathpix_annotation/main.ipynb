{
 "cells": [
  {
   "attachments": {},
   "cell_type": "markdown",
   "metadata": {},
   "source": [
    "# Instructions\n",
    "\n",
    "The following 2 cells should be run only to post and get the results of a new batch. Since the results of a previous run already exist in mathpix_full_results.json, simply running cell 3 will load and use those results. Avoid uncommenting and rerunning cell 1 and 2 unless there is a good reason since the batch request will incur API costs. "
   ]
  },
  {
   "cell_type": "code",
   "execution_count": 1,
   "metadata": {},
   "outputs": [],
   "source": [
    "# from batchRequestHandler import BatchRequestHandler\n",
    "\n",
    "# handler = BatchRequestHandler()\n",
    "\n",
    "# # Post Batch\n",
    "# batch_id = handler.post_batch()\n",
    "# print(\"Batch ID:\", batch_id)"
   ]
  },
  {
   "cell_type": "code",
   "execution_count": 2,
   "metadata": {},
   "outputs": [],
   "source": [
    "# import json\n",
    "# from batchRequestHandler import BatchRequestHandler\n",
    "\n",
    "# results_json = handler.get_batch_results(batch_id)"
   ]
  },
  {
   "cell_type": "code",
   "execution_count": 3,
   "metadata": {},
   "outputs": [
    {
     "name": "stdout",
     "output_type": "stream",
     "text": [
      "Full results have been saved to mathpix_full_results.json\n",
      "78 images encountered errors. The results have been saved to mathpix_errors.json\n",
      "3994 images were successfully processed. The results have been saved to ./mathpix_ocr_tweaker_data.json\n"
     ]
    }
   ],
   "source": [
    "# Process the results in a convenient way\n",
    "import json\n",
    "\n",
    "with open('./mathpix_full_results.json', 'r') as f:\n",
    "  results_json = json.load(f)\n",
    "\n",
    "image_ids = results_json[\"keys\"]\n",
    "results_data = results_json[\"results\"]\n",
    "\n",
    "output_json = []\n",
    "errors_json = []\n",
    "success_count, error_count = 0, 0\n",
    "for image_id in image_ids:\n",
    "    if \"error\" in results_data[image_id].keys():\n",
    "        # Track images where errors occured and continue\n",
    "        errors_json.append(\n",
    "            {\n",
    "                \"id\": image_id,\n",
    "                \"error\": results_data[image_id][\"error_info\"],\n",
    "                \"link\": f\"https://raw.githubusercontent.com/imzoc/mathpix-annotation/master/mathml-images/images_filtered/{image_id}.png\",\n",
    "            }\n",
    "        )\n",
    "        error_count += 1\n",
    "        continue\n",
    "    else:\n",
    "        current_image_result_data = results_data[image_id][\"data\"]\n",
    "\n",
    "        mathml_res = []\n",
    "        latex_res = []\n",
    "        for row in current_image_result_data:\n",
    "            if row[\"type\"] == \"mathml\":\n",
    "                mathml_res.append(row[\"value\"])\n",
    "            else:\n",
    "                latex_res.append(row[\"value\"])\n",
    "\n",
    "        current_image_consolidated_result_data = {\n",
    "            \"id\": image_id,\n",
    "            \"mathml\": \" \".join(mathml_res),\n",
    "            \"latex\": \" \".join(latex_res),\n",
    "            \"confidence\": float(results_data[image_id][\"confidence\"])\n",
    "        }\n",
    "        output_json.append(current_image_consolidated_result_data)\n",
    "        success_count += 1\n",
    "\n",
    "\n",
    "# Save results\n",
    "\n",
    "# raw results\n",
    "with open(\"mathpix_full_results.json\", \"w\") as f:\n",
    "    json.dump(results_json, f, indent=4)\n",
    "    print(\n",
    "        f\"Full results have been saved to {f.name}\"\n",
    "    )\n",
    "\n",
    "with open(\"mathpix_errors.json\", \"w\") as f:\n",
    "    json.dump(errors_json, f, indent=4)\n",
    "    print(\n",
    "        f\"{error_count} images encountered errors. The results have been saved to {f.name}\"\n",
    "    )\n",
    "\n",
    "# Results for webapp\n",
    "with open(\"./mathpix_ocr_tweaker_data.json\", \"w\") as f:\n",
    "    \n",
    "    sorted_output_json = sorted(output_json, key=lambda x: x[\"confidence\"])\n",
    "    json.dump(sorted_output_json,f, indent=4)\n",
    "    print(\n",
    "        f\"{success_count} images were successfully processed. The results have been saved to {f.name}\"\n",
    "    )\n"
   ]
  },
  {
   "cell_type": "code",
   "execution_count": 4,
   "metadata": {},
   "outputs": [
    {
     "name": "stdout",
     "output_type": "stream",
     "text": [
      "Mathpix had 332 results with confidence levels below 50\n",
      "\n",
      "\n",
      "The following 10 images had the lowest confidence level:\n",
      "\n",
      "6e74d159-5bf7-4c67-97f2-71a9e286fdea : 0.2% \n",
      "Link : https://raw.githubusercontent.com/imzoc/mathpix-annotation/master/mathml-images/images_filtered/6e74d159-5bf7-4c67-97f2-71a9e286fdea.png\n",
      "\n",
      "31e0d57b-0481-4a4e-a80a-a7e8b4aca730 : 0.33% \n",
      "Link : https://raw.githubusercontent.com/imzoc/mathpix-annotation/master/mathml-images/images_filtered/31e0d57b-0481-4a4e-a80a-a7e8b4aca730.png\n",
      "\n",
      "9b38946a-eab1-4a8a-95aa-4f79b1f451e7 : 0.35% \n",
      "Link : https://raw.githubusercontent.com/imzoc/mathpix-annotation/master/mathml-images/images_filtered/9b38946a-eab1-4a8a-95aa-4f79b1f451e7.png\n",
      "\n",
      "70c2b0a7-852d-4e56-a588-8e1195fb396b : 0.59% \n",
      "Link : https://raw.githubusercontent.com/imzoc/mathpix-annotation/master/mathml-images/images_filtered/70c2b0a7-852d-4e56-a588-8e1195fb396b.png\n",
      "\n",
      "370b5e2a-1c72-4e9d-a45d-fb63634af632 : 0.77% \n",
      "Link : https://raw.githubusercontent.com/imzoc/mathpix-annotation/master/mathml-images/images_filtered/370b5e2a-1c72-4e9d-a45d-fb63634af632.png\n",
      "\n",
      "c6d8922a-91af-4510-8d1a-403fcd451bed : 2.0% \n",
      "Link : https://raw.githubusercontent.com/imzoc/mathpix-annotation/master/mathml-images/images_filtered/c6d8922a-91af-4510-8d1a-403fcd451bed.png\n",
      "\n",
      "a987f9b1-87ab-488e-8cf8-ecc47d2a07d3 : 2.44% \n",
      "Link : https://raw.githubusercontent.com/imzoc/mathpix-annotation/master/mathml-images/images_filtered/a987f9b1-87ab-488e-8cf8-ecc47d2a07d3.png\n",
      "\n",
      "b8b74a7b-0db8-44ad-81b7-c7ab9b9d8a50 : 2.7% \n",
      "Link : https://raw.githubusercontent.com/imzoc/mathpix-annotation/master/mathml-images/images_filtered/b8b74a7b-0db8-44ad-81b7-c7ab9b9d8a50.png\n",
      "\n",
      "36b8a2fa-fcd4-4fde-906a-f3219a2df36a : 2.7% \n",
      "Link : https://raw.githubusercontent.com/imzoc/mathpix-annotation/master/mathml-images/images_filtered/36b8a2fa-fcd4-4fde-906a-f3219a2df36a.png\n",
      "\n",
      "\n",
      "\n"
     ]
    },
    {
     "data": {
      "image/png": "[encoded data removed]",
      "text/plain": [
       "<Figure size 640x480 with 1 Axes>"
      ]
     },
     "metadata": {},
     "output_type": "display_data"
    }
   ],
   "source": [
    "# Basic Confidence Analysis\n",
    "import numpy as np\n",
    "import matplotlib.pyplot as plt\n",
    "\n",
    "confidence_values = np.zeros(success_count)\n",
    "corresponding_image_ids = [\"\"] * success_count\n",
    "\n",
    "i = 0\n",
    "for image_id in image_ids:\n",
    "    if not \"error\" in results_data[image_id].keys():\n",
    "        confidence_values[i] = results_data[image_id][\"confidence\"]\n",
    "        corresponding_image_ids[i] = image_id\n",
    "        i += 1\n",
    "\n",
    "confidence_values *= 100\n",
    "\n",
    "# Simultaneously sort the confidence values and their corresponding ids\n",
    "sort_mask = np.argsort(confidence_values)\n",
    "confidence_values.sort()\n",
    "corresponding_image_ids = [corresponding_image_ids[pos] for pos in sort_mask]\n",
    "\n",
    "\n",
    "plt.title(\"Histogram of Mathpix Confidence Levels\")\n",
    "plt.hist(confidence_values, bins=10)\n",
    "\n",
    "confidence_values_below_50 = confidence_values[confidence_values < 50]\n",
    "print(\n",
    "    f\"Mathpix had {len(confidence_values_below_50)} results with confidence levels below 50\\n\\n\"\n",
    ")\n",
    "\n",
    "\n",
    "worst_10_results = [\n",
    "    (corresponding_image_ids[i], confidence_values[i]) for i in range(1, 10)\n",
    "]\n",
    "res = \"\\n\".join(\n",
    "    [\n",
    "        f\"{image_id} : {np.round(confidence,2)}% \\nLink : https://raw.githubusercontent.com/imzoc/mathpix-annotation/master/mathml-images/images_filtered/{image_id}.png\\n\"\n",
    "        for image_id, confidence in worst_10_results\n",
    "    ]\n",
    ")\n",
    "print(f\"The following 10 images had the lowest confidence level:\\n\\n{res}\\n\\n\")"
   ]
  }
 ],
 "metadata": {
  "kernelspec": {
   "display_name": "venv",
   "language": "python",
   "name": "python3"
  },
  "language_info": {
   "codemirror_mode": {
    "name": "ipython",
    "version": 3
   },
   "file_extension": ".py",
   "mimetype": "text/x-python",
   "name": "python",
   "nbconvert_exporter": "python",
   "pygments_lexer": "ipython3",
   "version": "3.11.4"
  },
  "orig_nbformat": 4
 },
 "nbformat": 4,
 "nbformat_minor": 2
}
