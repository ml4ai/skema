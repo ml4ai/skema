{
 "cells": [
  {
   "cell_type": "code",
   "execution_count": null,
   "metadata": {},
   "outputs": [],
   "source": [
    "import requests\n",
    "import json\n",
    "import pandas as pd\n",
    "from typing import Any, List, Mapping, Optional\n",
    "from pandas import DataFrame"
   ]
  },
  {
   "cell_type": "code",
   "execution_count": null,
   "metadata": {},
   "outputs": [],
   "source": [
    "def get_sentence(mention:Mapping[str, Any], documents:Mapping[str, Any]):\n",
    "\t\"\"\" Returns the text containing the mention \"\"\"\n",
    "\tdoc_id = mention['document']\n",
    "\tsentence_ix = mention['sentence']\n",
    "\n",
    "\tsentence = documents[doc_id]['sentences'][sentence_ix]\n",
    "\n",
    "\treturn ' '.join(sentence['words'])\n",
    "\n",
    "\n",
    "def build_groundings(mention:Mapping[str, Any]) -> Optional[str]:\n",
    "\t\"\"\" Extracts the grounding ID of the grounding associated to the current mention \"\"\"\n",
    "\n",
    "\t\n",
    "\tif mention['type'] == \"TextBoundMention\":\n",
    "\t\tgroundings = list()\n",
    "\t\tfor a in mention['attachments']:\n",
    "\t\t\t# If score is a field in the attachment, then this is a grounding\n",
    "\t\t\tif type(a) == list:\n",
    "\t\t\t\tfor g in a[0]:\n",
    "\t\t\t\t\tscore = \"{:.2f}\".format(g['score'])\n",
    "\t\t\t\t\tgroundings.append(f\"({g['name']}, {g['id']}, {score})\")\n",
    "\t\tif len(groundings) > 0:\n",
    "\t\t\treturn ', '.join(groundings)\n",
    "\t\t\t\n",
    "\t"
   ]
  },
  {
   "cell_type": "code",
   "execution_count": null,
   "metadata": {},
   "outputs": [],
   "source": [
    "def annotate_json(file_path:str, endpoint:str = \"http://localhost:9000/cosmos_json_to_mentions\") -> List[Mapping[str, Any]]:\n",
    "\t\"\"\" Annotates an existing json file on the server with the text reading pipeline \"\"\"\n",
    "\n",
    "\tdata = requests.post(endpoint, json={'pathToCosmosJson': file_path}).json()\n",
    "\n",
    "\treturn data\n",
    "\n",
    "\n",
    "def build_data_frame(mentions:List[Mapping[str, Any]], documents:Mapping[str, Any]) -> DataFrame:\n",
    "\t\"\"\" Builds a data frame from the output of text reading \"\"\"\n",
    "\n",
    "\treturn DataFrame(\n",
    "\t\t\t{\n",
    "\t\t\t\t'text': mention['text'],\n",
    "\t\t\t\t'sentence': get_sentence(mention, documents),\n",
    "\t\t\t\t'start_token': mention['tokenInterval']['start'],\n",
    "\t\t\t\t'end_token': mention['tokenInterval']['end'],\n",
    "\t\t\t\t'mention_type': mention['type'],\n",
    "\t\t\t\t'label': mention['labels'][0],\n",
    "\t\t\t\t'grounding_id': build_groundings(mention),\n",
    "\t\t\t\t# 'sentence_ix': mention['sentence'],\t\t\t\t\n",
    "\t\t\t}\n",
    "\t\t\tfor mention in mentions\n",
    "\t\t)\n",
    "\n",
    "def text_reading_mentions(file_path:str) -> DataFrame:\n",
    "\t\"\"\" Puts together annotation and creating the data frame\"\"\"\n",
    "\t\n",
    "\treturn build_data_frame(**annotate_json(file_path))"
   ]
  },
  {
   "cell_type": "code",
   "execution_count": null,
   "metadata": {},
   "outputs": [],
   "source": [
    "def get_paper_by_doi(doi:str) -> Optional[str]:\n",
    "\t\"\"\" Mocks getting the Cosmos output by the paper's DOI \"\"\"\n",
    "\tpapers = {\n",
    "\t\t\"10.1016/j.chaos.2021.110689\": \"/media/evo870/github/COSMOS-data/output_files/documents_5Febcovid19--COSMOS-data.json\"\n",
    "\t}\n",
    "\n",
    "\treturn papers.get(doi)"
   ]
  },
  {
   "cell_type": "code",
   "execution_count": null,
   "metadata": {},
   "outputs": [],
   "source": [
    "pd.set_option('display.max_colwidth', None)\n",
    "\n",
    "paper_path = get_paper_by_doi(\"10.1016/j.chaos.2021.110689\")\n",
    "\n",
    "text_reading_mentions(paper_path)"
   ]
  }
 ],
 "metadata": {
  "kernelspec": {
   "display_name": "Python 3.8.5 ('base')",
   "language": "python",
   "name": "python3"
  },
  "language_info": {
   "codemirror_mode": {
    "name": "ipython",
    "version": 3
   },
   "file_extension": ".py",
   "mimetype": "text/x-python",
   "name": "python",
   "nbconvert_exporter": "python",
   "pygments_lexer": "ipython3",
   "version": "3.8.5"
  },
  "vscode": {
   "interpreter": {
    "hash": "aef11b4c468da2b0e795b4d858d688307cae6f063ca97ed9bb13cab311e0ade4"
   }
  }
 },
 "nbformat": 4,
 "nbformat_minor": 2
}
