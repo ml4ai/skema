{
 "cells": [
  {
   "cell_type": "code",
   "execution_count": 1,
   "metadata": {
    "collapsed": true,
    "ExecuteTime": {
     "end_time": "2023-07-20T02:30:49.590066Z",
     "start_time": "2023-07-20T02:30:48.566796Z"
    }
   },
   "outputs": [
    {
     "name": "stderr",
     "output_type": "stream",
     "text": [
      "/Users/enoriega/.pyenv/versions/miniconda3-latest/envs/skema-dev/lib/python3.8/site-packages/pydantic/_internal/_config.py:261: UserWarning: Valid config keys have changed in V2:\n",
      "* 'schema_extra' has been renamed to 'json_schema_extra'\n",
      "  warnings.warn(message, UserWarning)\n"
     ]
    }
   ],
   "source": [
    "import json\n",
    "import pandas as pd\n",
    "from pathlib import Path\n",
    "from askem_extractions.data_model import AttributeCollection"
   ]
  },
  {
   "cell_type": "code",
   "execution_count": 2,
   "outputs": [],
   "source": [
    "# Read the linked AMR\n",
    "with (Path(\"data\") / \"linked_seirhd_eval_sc1_latex_amr.json\").open() as f:\n",
    "    amr = json.load(f)\n",
    "    metadata_extractions = AttributeCollection.from_json(amr['metadata'])"
   ],
   "metadata": {
    "collapsed": false,
    "ExecuteTime": {
     "end_time": "2023-07-20T02:30:49.707048Z",
     "start_time": "2023-07-20T02:30:49.590837Z"
    }
   }
  },
  {
   "cell_type": "code",
   "execution_count": 3,
   "outputs": [
    {
     "name": "stdout",
     "output_type": "stream",
     "text": [
      "Total metadata extractions: 4070\n",
      "Linked metadata extractions: 51\n"
     ]
    }
   ],
   "source": [
    "from askem_extractions.data_model import AttributeType\n",
    "\n",
    "# Number of extractions\n",
    "print(f\"Total metadata extractions: {len(metadata_extractions.attributes)}\")\n",
    "linked_metadata = [a for a in metadata_extractions.attributes if a.amr_element_id is not None]\n",
    "print(f\"Linked metadata extractions: {len(linked_metadata)}\")"
   ],
   "metadata": {
    "collapsed": false,
    "ExecuteTime": {
     "end_time": "2023-07-20T02:30:49.710380Z",
     "start_time": "2023-07-20T02:30:49.708377Z"
    }
   }
  },
  {
   "cell_type": "code",
   "execution_count": 4,
   "outputs": [],
   "source": [
    "# Build the dictionary of AMR elements\n",
    "from collections import defaultdict\n",
    "states = defaultdict(list)\n",
    "params = defaultdict(list)\n",
    "\n",
    "for state in amr['model']['states']:\n",
    "    states[state['id']].append(state)\n",
    "\n",
    "for param in amr['semantics']['ode']['parameters']:\n",
    "    params[param['id']].append(param)\n"
   ],
   "metadata": {
    "collapsed": false,
    "ExecuteTime": {
     "end_time": "2023-07-20T02:30:49.714371Z",
     "start_time": "2023-07-20T02:30:49.711486Z"
    }
   }
  },
  {
   "cell_type": "code",
   "execution_count": 5,
   "outputs": [
    {
     "name": "stdout",
     "output_type": "stream",
     "text": [
      "51\n"
     ]
    }
   ],
   "source": [
    "raw_rows = list()\n",
    "for extraction in linked_metadata:\n",
    "    key = extraction.amr_element_id\n",
    "    for element in states[key]:\n",
    "        raw_rows.append((\"state\", element['name'], extraction))\n",
    "    for element in params[key]:\n",
    "        raw_rows.append((\"parameter\", element['name'], extraction))\n",
    "\n",
    "print(len(raw_rows))"
   ],
   "metadata": {
    "collapsed": false,
    "ExecuteTime": {
     "end_time": "2023-07-20T02:30:49.718196Z",
     "start_time": "2023-07-20T02:30:49.714864Z"
    }
   }
  },
  {
   "cell_type": "code",
   "execution_count": 6,
   "outputs": [],
   "source": [
    "# Get Scenario Contexts\n",
    "scontext = [m for m in metadata_extractions.attributes if m.type == AttributeType.scenario_context]\n",
    "\n",
    "context_index = defaultdict(list)\n",
    "for c in scontext:\n",
    "    for ex in c.payload.extractions:\n",
    "        eid = ex.id\n",
    "        context_index[eid].append(c.payload)\n"
   ],
   "metadata": {
    "collapsed": false,
    "ExecuteTime": {
     "end_time": "2023-07-20T02:30:49.722888Z",
     "start_time": "2023-07-20T02:30:49.718745Z"
    }
   }
  },
  {
   "cell_type": "code",
   "execution_count": 7,
   "outputs": [
    {
     "data": {
      "text/plain": "         Type AMR Elem    Metadata Name  \\\n0       state        E                E   \n3       state        E                E   \n4       state        E               S0   \n31      state        E                E   \n30      state        E               AZ   \n20      state        E                E   \n17      state        E                E   \n16      state        E               )S   \n2       state        I                I   \n6       state        I                I   \n7       state        I               I0   \n32      state        R  40e50% of cases   \n19      state        R                R   \n18      state        R  passage of time   \n1       state        R                R   \n5       state        R                R   \n14      state        S             phis   \n13      state        S                S   \n12      state        S                N   \n29      state        S                S   \n28      state        S              USA   \n15      state        S               S*   \n33  parameter        β          beta(t)   \n8   parameter        β                V   \n26  parameter        β           DTotal   \n25  parameter        β               βS   \n24  parameter        β            NtauD   \n23  parameter        β               βi   \n22  parameter        β                i   \n9   parameter        β            K F V   \n34  parameter        β          beta(t)   \n27  parameter        β               βA   \n37  parameter        β               k1   \n\n                                 Metadata Description Pipeline SKEMA Values  \\\n0                                             Exposed    SKEMA                \n3                                             Exposed    SKEMA          λIS   \n4                              Susceptible population      MIT          λIS   \n31                                            Exposed      MIT                \n30                                              Tempe    SKEMA                \n20                                            exposed    SKEMA                \n17                                 Exposed population      MIT         1, 0   \n16                 Number of exposed human population    SKEMA         1, 0   \n2                                          Infectious    SKEMA                \n6                                          Infectious    SKEMA        kE δI   \n7                               Infectious population      MIT        kE δI   \n32                                          Recovered    SKEMA        40e50   \n19                               Recovered population      MIT     85-90, 0   \n18               Number of recovered human population    SKEMA     85-90, 0   \n1                                           Recovered    SKEMA                \n5                                           Recovered    SKEMA                \n14  are hospitalized at the rate phis while the in...    SKEMA                \n13             Number of susceptible human population      MIT          Λ/µ   \n12                             total human population    SKEMA          Λ/µ   \n29                                        Susceptible      MIT                \n28                                              Tempe    SKEMA                \n15                       total susceptible population      MIT                \n33                                               beta    SKEMA                \n8                                                beta    SKEMA                \n26                                          betaAtauA    SKEMA         2.71   \n25  inoculum release rate of symptomatic infectiou...      MIT            1   \n24                                          betaStauS    SKEMA            1   \n23                                  Transmission rate      MIT                \n22                                             (betai    SKEMA                \n9                                                beta    SKEMA                \n34                                               beta    SKEMA          m(t   \n27  inoculum release rate of asymptomatic infectio...      MIT         2.71   \n37                                 Arbitrary constant      MIT                \n\n                                     Scenario Context  \n0                                    Location: Wolfel  \n3                                                      \n4                                                      \n31                                                     \n30  Location: Arizona State University, Location: ...  \n20                                                     \n17                                                     \n16                                                     \n2                                    Location: Wolfel  \n6                                                      \n7                                                      \n32  Location: Wuhan, Location: Verity, Location: C...  \n19                                                     \n18                                                     \n1                                    Location: Wolfel  \n5                                                      \n14                                                     \n13                                                     \n12                                    Location: India  \n29                                                     \n28  Location: Arizona State University, Location: ...  \n15                                                     \n33  Location: Germany, Location: Arizona, Location...  \n8                                       Location: K F  \n26                                                     \n25                                                     \n24                                                     \n23                                                     \n22                                       Location: IA  \n9                                       Location: K F  \n34  Location: Germany, Location: Arizona, Location...  \n27                                                     \n37                                                     ",
      "text/html": "<div>\n<style scoped>\n    .dataframe tbody tr th:only-of-type {\n        vertical-align: middle;\n    }\n\n    .dataframe tbody tr th {\n        vertical-align: top;\n    }\n\n    .dataframe thead th {\n        text-align: right;\n    }\n</style>\n<table border=\"1\" class=\"dataframe\">\n  <thead>\n    <tr style=\"text-align: right;\">\n      <th></th>\n      <th>Type</th>\n      <th>AMR Elem</th>\n      <th>Metadata Name</th>\n      <th>Metadata Description</th>\n      <th>Pipeline</th>\n      <th>SKEMA Values</th>\n      <th>Scenario Context</th>\n    </tr>\n  </thead>\n  <tbody>\n    <tr>\n      <th>0</th>\n      <td>state</td>\n      <td>E</td>\n      <td>E</td>\n      <td>Exposed</td>\n      <td>SKEMA</td>\n      <td></td>\n      <td>Location: Wolfel</td>\n    </tr>\n    <tr>\n      <th>3</th>\n      <td>state</td>\n      <td>E</td>\n      <td>E</td>\n      <td>Exposed</td>\n      <td>SKEMA</td>\n      <td>λIS</td>\n      <td></td>\n    </tr>\n    <tr>\n      <th>4</th>\n      <td>state</td>\n      <td>E</td>\n      <td>S0</td>\n      <td>Susceptible population</td>\n      <td>MIT</td>\n      <td>λIS</td>\n      <td></td>\n    </tr>\n    <tr>\n      <th>31</th>\n      <td>state</td>\n      <td>E</td>\n      <td>E</td>\n      <td>Exposed</td>\n      <td>MIT</td>\n      <td></td>\n      <td></td>\n    </tr>\n    <tr>\n      <th>30</th>\n      <td>state</td>\n      <td>E</td>\n      <td>AZ</td>\n      <td>Tempe</td>\n      <td>SKEMA</td>\n      <td></td>\n      <td>Location: Arizona State University, Location: ...</td>\n    </tr>\n    <tr>\n      <th>20</th>\n      <td>state</td>\n      <td>E</td>\n      <td>E</td>\n      <td>exposed</td>\n      <td>SKEMA</td>\n      <td></td>\n      <td></td>\n    </tr>\n    <tr>\n      <th>17</th>\n      <td>state</td>\n      <td>E</td>\n      <td>E</td>\n      <td>Exposed population</td>\n      <td>MIT</td>\n      <td>1, 0</td>\n      <td></td>\n    </tr>\n    <tr>\n      <th>16</th>\n      <td>state</td>\n      <td>E</td>\n      <td>)S</td>\n      <td>Number of exposed human population</td>\n      <td>SKEMA</td>\n      <td>1, 0</td>\n      <td></td>\n    </tr>\n    <tr>\n      <th>2</th>\n      <td>state</td>\n      <td>I</td>\n      <td>I</td>\n      <td>Infectious</td>\n      <td>SKEMA</td>\n      <td></td>\n      <td>Location: Wolfel</td>\n    </tr>\n    <tr>\n      <th>6</th>\n      <td>state</td>\n      <td>I</td>\n      <td>I</td>\n      <td>Infectious</td>\n      <td>SKEMA</td>\n      <td>kE δI</td>\n      <td></td>\n    </tr>\n    <tr>\n      <th>7</th>\n      <td>state</td>\n      <td>I</td>\n      <td>I0</td>\n      <td>Infectious population</td>\n      <td>MIT</td>\n      <td>kE δI</td>\n      <td></td>\n    </tr>\n    <tr>\n      <th>32</th>\n      <td>state</td>\n      <td>R</td>\n      <td>40e50% of cases</td>\n      <td>Recovered</td>\n      <td>SKEMA</td>\n      <td>40e50</td>\n      <td>Location: Wuhan, Location: Verity, Location: C...</td>\n    </tr>\n    <tr>\n      <th>19</th>\n      <td>state</td>\n      <td>R</td>\n      <td>R</td>\n      <td>Recovered population</td>\n      <td>MIT</td>\n      <td>85-90, 0</td>\n      <td></td>\n    </tr>\n    <tr>\n      <th>18</th>\n      <td>state</td>\n      <td>R</td>\n      <td>passage of time</td>\n      <td>Number of recovered human population</td>\n      <td>SKEMA</td>\n      <td>85-90, 0</td>\n      <td></td>\n    </tr>\n    <tr>\n      <th>1</th>\n      <td>state</td>\n      <td>R</td>\n      <td>R</td>\n      <td>Recovered</td>\n      <td>SKEMA</td>\n      <td></td>\n      <td>Location: Wolfel</td>\n    </tr>\n    <tr>\n      <th>5</th>\n      <td>state</td>\n      <td>R</td>\n      <td>R</td>\n      <td>Recovered</td>\n      <td>SKEMA</td>\n      <td></td>\n      <td></td>\n    </tr>\n    <tr>\n      <th>14</th>\n      <td>state</td>\n      <td>S</td>\n      <td>phis</td>\n      <td>are hospitalized at the rate phis while the in...</td>\n      <td>SKEMA</td>\n      <td></td>\n      <td></td>\n    </tr>\n    <tr>\n      <th>13</th>\n      <td>state</td>\n      <td>S</td>\n      <td>S</td>\n      <td>Number of susceptible human population</td>\n      <td>MIT</td>\n      <td>Λ/µ</td>\n      <td></td>\n    </tr>\n    <tr>\n      <th>12</th>\n      <td>state</td>\n      <td>S</td>\n      <td>N</td>\n      <td>total human population</td>\n      <td>SKEMA</td>\n      <td>Λ/µ</td>\n      <td>Location: India</td>\n    </tr>\n    <tr>\n      <th>29</th>\n      <td>state</td>\n      <td>S</td>\n      <td>S</td>\n      <td>Susceptible</td>\n      <td>MIT</td>\n      <td></td>\n      <td></td>\n    </tr>\n    <tr>\n      <th>28</th>\n      <td>state</td>\n      <td>S</td>\n      <td>USA</td>\n      <td>Tempe</td>\n      <td>SKEMA</td>\n      <td></td>\n      <td>Location: Arizona State University, Location: ...</td>\n    </tr>\n    <tr>\n      <th>15</th>\n      <td>state</td>\n      <td>S</td>\n      <td>S*</td>\n      <td>total susceptible population</td>\n      <td>MIT</td>\n      <td></td>\n      <td></td>\n    </tr>\n    <tr>\n      <th>33</th>\n      <td>parameter</td>\n      <td>β</td>\n      <td>beta(t)</td>\n      <td>beta</td>\n      <td>SKEMA</td>\n      <td></td>\n      <td>Location: Germany, Location: Arizona, Location...</td>\n    </tr>\n    <tr>\n      <th>8</th>\n      <td>parameter</td>\n      <td>β</td>\n      <td>V</td>\n      <td>beta</td>\n      <td>SKEMA</td>\n      <td></td>\n      <td>Location: K F</td>\n    </tr>\n    <tr>\n      <th>26</th>\n      <td>parameter</td>\n      <td>β</td>\n      <td>DTotal</td>\n      <td>betaAtauA</td>\n      <td>SKEMA</td>\n      <td>2.71</td>\n      <td></td>\n    </tr>\n    <tr>\n      <th>25</th>\n      <td>parameter</td>\n      <td>β</td>\n      <td>βS</td>\n      <td>inoculum release rate of symptomatic infectiou...</td>\n      <td>MIT</td>\n      <td>1</td>\n      <td></td>\n    </tr>\n    <tr>\n      <th>24</th>\n      <td>parameter</td>\n      <td>β</td>\n      <td>NtauD</td>\n      <td>betaStauS</td>\n      <td>SKEMA</td>\n      <td>1</td>\n      <td></td>\n    </tr>\n    <tr>\n      <th>23</th>\n      <td>parameter</td>\n      <td>β</td>\n      <td>βi</td>\n      <td>Transmission rate</td>\n      <td>MIT</td>\n      <td></td>\n      <td></td>\n    </tr>\n    <tr>\n      <th>22</th>\n      <td>parameter</td>\n      <td>β</td>\n      <td>i</td>\n      <td>(betai</td>\n      <td>SKEMA</td>\n      <td></td>\n      <td>Location: IA</td>\n    </tr>\n    <tr>\n      <th>9</th>\n      <td>parameter</td>\n      <td>β</td>\n      <td>K F V</td>\n      <td>beta</td>\n      <td>SKEMA</td>\n      <td></td>\n      <td>Location: K F</td>\n    </tr>\n    <tr>\n      <th>34</th>\n      <td>parameter</td>\n      <td>β</td>\n      <td>beta(t)</td>\n      <td>beta</td>\n      <td>SKEMA</td>\n      <td>m(t</td>\n      <td>Location: Germany, Location: Arizona, Location...</td>\n    </tr>\n    <tr>\n      <th>27</th>\n      <td>parameter</td>\n      <td>β</td>\n      <td>βA</td>\n      <td>inoculum release rate of asymptomatic infectio...</td>\n      <td>MIT</td>\n      <td>2.71</td>\n      <td></td>\n    </tr>\n    <tr>\n      <th>37</th>\n      <td>parameter</td>\n      <td>β</td>\n      <td>k1</td>\n      <td>Arbitrary constant</td>\n      <td>MIT</td>\n      <td></td>\n      <td></td>\n    </tr>\n  </tbody>\n</table>\n</div>"
     },
     "execution_count": 7,
     "metadata": {},
     "output_type": "execute_result"
    }
   ],
   "source": [
    "from askem_extractions.data_model import LocationContext, TemporalContext\n",
    "\n",
    "rows = list()\n",
    "for type_, element, extraction in raw_rows:\n",
    "    extraction = extraction.payload\n",
    "    for name, desc in zip(extraction.names, extraction.descriptions):\n",
    "\n",
    "        pipeline = \"SKEMA\" if \"Skema\" in name.provenance.method else \"MIT\"\n",
    "        if pipeline == \"SKEMA\":\n",
    "            id_ = extraction.id.id\n",
    "            ctx = list()\n",
    "            for c in context_index[id_]:\n",
    "                if c.location is not None:\n",
    "                    ctx.append(f\"Location: {c.location.location}\")\n",
    "                elif c.time is not None:\n",
    "                    ctx.append(f\"Time: {c.time.datetime}\")\n",
    "            ctx = \", \".join(ctx)\n",
    "        else:\n",
    "            ctx = \"\"\n",
    "\n",
    "        # print(ctx)\n",
    "\n",
    "        rows.append({\n",
    "            \"Type\": type_,\n",
    "            \"AMR Elem\": element,\n",
    "            \"Metadata Name\": name.name,\n",
    "            \"Metadata Description\": desc.source,\n",
    "            \"Pipeline\": pipeline,\n",
    "            \"SKEMA Values\": \", \".join(v.value.source for v in extraction.value_specs),\n",
    "            \"Scenario Context\": ctx\n",
    "            # \"Method\": name.provenance.method\n",
    "        })\n",
    "\n",
    "\n",
    "\n",
    "frame = pd.DataFrame(rows).drop_duplicates().sort_values(\"AMR Elem\")\n",
    "frame"
   ],
   "metadata": {
    "collapsed": false,
    "ExecuteTime": {
     "end_time": "2023-07-20T02:30:49.751508Z",
     "start_time": "2023-07-20T02:30:49.724342Z"
    }
   }
  },
  {
   "cell_type": "code",
   "execution_count": 8,
   "outputs": [
    {
     "data": {
      "text/plain": "      Metadata Name AMR Elem  \\\n4                 E        E   \n10                R        R   \n11                S        S   \n0                )S        E   \n14              USA        S   \n22               βS        β   \n21               βA        β   \n20             phis        S   \n19  passage of time        R   \n18               k1        β   \n17                i        β   \n16          beta(t)        β   \n15                V        β   \n12               S*        S   \n13               S0        E   \n1   40e50% of cases        R   \n9             NtauD        β   \n8                 N        S   \n7             K F V        β   \n6                I0        I   \n5                 I        I   \n3            DTotal        β   \n2                AZ        E   \n23               βi        β   \n\n                                 Metadata Description   SKEMA Values  \\\n4              {exposed, Exposed population, Exposed}  {, 1, 0, λIS}   \n10                  {Recovered, Recovered population}   {, 85-90, 0}   \n11  {Number of susceptible human population, Susce...        {Λ/µ, }   \n0                {Number of exposed human population}         {1, 0}   \n14                                            {Tempe}             {}   \n22  {inoculum release rate of symptomatic infectio...            {1}   \n21  {inoculum release rate of asymptomatic infecti...         {2.71}   \n20  {are hospitalized at the rate phis while the i...             {}   \n19             {Number of recovered human population}     {85-90, 0}   \n18                               {Arbitrary constant}             {}   \n17                                           {(betai}             {}   \n16                                             {beta}        {, m(t}   \n15                                             {beta}             {}   \n12                     {total susceptible population}             {}   \n13                           {Susceptible population}          {λIS}   \n1                                         {Recovered}        {40e50}   \n9                                         {betaStauS}            {1}   \n8                            {total human population}          {Λ/µ}   \n7                                              {beta}             {}   \n6                             {Infectious population}        {kE δI}   \n5                                        {Infectious}      {, kE δI}   \n3                                         {betaAtauA}         {2.71}   \n2                                             {Tempe}             {}   \n23                                {Transmission rate}             {}   \n\n                                     Scenario Context  counts  \n4                                  {Location: Wolfel}       3  \n10                                 {Location: Wolfel}       2  \n11                                                 {}       2  \n0                                                  {}       1  \n14  {Location: Arizona State University, Location:...       1  \n22                                                 {}       1  \n21                                                 {}       1  \n20                                                 {}       1  \n19                                                 {}       1  \n18                                                 {}       1  \n17                                     {Location: IA}       1  \n16  {Location: Germany, Location: Arizona, Locatio...       1  \n15                                    {Location: K F}       1  \n12                                                 {}       1  \n13                                                 {}       1  \n1   {Location: Wuhan, Location: Verity, Location: ...       1  \n9                                                  {}       1  \n8                                   {Location: India}       1  \n7                                     {Location: K F}       1  \n6                                                  {}       1  \n5                                  {Location: Wolfel}       1  \n3                                                  {}       1  \n2   {Location: Arizona State University, Location:...       1  \n23                                                 {}       1  ",
      "text/html": "<div>\n<style scoped>\n    .dataframe tbody tr th:only-of-type {\n        vertical-align: middle;\n    }\n\n    .dataframe tbody tr th {\n        vertical-align: top;\n    }\n\n    .dataframe thead th {\n        text-align: right;\n    }\n</style>\n<table border=\"1\" class=\"dataframe\">\n  <thead>\n    <tr style=\"text-align: right;\">\n      <th></th>\n      <th>Metadata Name</th>\n      <th>AMR Elem</th>\n      <th>Metadata Description</th>\n      <th>SKEMA Values</th>\n      <th>Scenario Context</th>\n      <th>counts</th>\n    </tr>\n  </thead>\n  <tbody>\n    <tr>\n      <th>4</th>\n      <td>E</td>\n      <td>E</td>\n      <td>{exposed, Exposed population, Exposed}</td>\n      <td>{, 1, 0, λIS}</td>\n      <td>{Location: Wolfel}</td>\n      <td>3</td>\n    </tr>\n    <tr>\n      <th>10</th>\n      <td>R</td>\n      <td>R</td>\n      <td>{Recovered, Recovered population}</td>\n      <td>{, 85-90, 0}</td>\n      <td>{Location: Wolfel}</td>\n      <td>2</td>\n    </tr>\n    <tr>\n      <th>11</th>\n      <td>S</td>\n      <td>S</td>\n      <td>{Number of susceptible human population, Susce...</td>\n      <td>{Λ/µ, }</td>\n      <td>{}</td>\n      <td>2</td>\n    </tr>\n    <tr>\n      <th>0</th>\n      <td>)S</td>\n      <td>E</td>\n      <td>{Number of exposed human population}</td>\n      <td>{1, 0}</td>\n      <td>{}</td>\n      <td>1</td>\n    </tr>\n    <tr>\n      <th>14</th>\n      <td>USA</td>\n      <td>S</td>\n      <td>{Tempe}</td>\n      <td>{}</td>\n      <td>{Location: Arizona State University, Location:...</td>\n      <td>1</td>\n    </tr>\n    <tr>\n      <th>22</th>\n      <td>βS</td>\n      <td>β</td>\n      <td>{inoculum release rate of symptomatic infectio...</td>\n      <td>{1}</td>\n      <td>{}</td>\n      <td>1</td>\n    </tr>\n    <tr>\n      <th>21</th>\n      <td>βA</td>\n      <td>β</td>\n      <td>{inoculum release rate of asymptomatic infecti...</td>\n      <td>{2.71}</td>\n      <td>{}</td>\n      <td>1</td>\n    </tr>\n    <tr>\n      <th>20</th>\n      <td>phis</td>\n      <td>S</td>\n      <td>{are hospitalized at the rate phis while the i...</td>\n      <td>{}</td>\n      <td>{}</td>\n      <td>1</td>\n    </tr>\n    <tr>\n      <th>19</th>\n      <td>passage of time</td>\n      <td>R</td>\n      <td>{Number of recovered human population}</td>\n      <td>{85-90, 0}</td>\n      <td>{}</td>\n      <td>1</td>\n    </tr>\n    <tr>\n      <th>18</th>\n      <td>k1</td>\n      <td>β</td>\n      <td>{Arbitrary constant}</td>\n      <td>{}</td>\n      <td>{}</td>\n      <td>1</td>\n    </tr>\n    <tr>\n      <th>17</th>\n      <td>i</td>\n      <td>β</td>\n      <td>{(betai}</td>\n      <td>{}</td>\n      <td>{Location: IA}</td>\n      <td>1</td>\n    </tr>\n    <tr>\n      <th>16</th>\n      <td>beta(t)</td>\n      <td>β</td>\n      <td>{beta}</td>\n      <td>{, m(t}</td>\n      <td>{Location: Germany, Location: Arizona, Locatio...</td>\n      <td>1</td>\n    </tr>\n    <tr>\n      <th>15</th>\n      <td>V</td>\n      <td>β</td>\n      <td>{beta}</td>\n      <td>{}</td>\n      <td>{Location: K F}</td>\n      <td>1</td>\n    </tr>\n    <tr>\n      <th>12</th>\n      <td>S*</td>\n      <td>S</td>\n      <td>{total susceptible population}</td>\n      <td>{}</td>\n      <td>{}</td>\n      <td>1</td>\n    </tr>\n    <tr>\n      <th>13</th>\n      <td>S0</td>\n      <td>E</td>\n      <td>{Susceptible population}</td>\n      <td>{λIS}</td>\n      <td>{}</td>\n      <td>1</td>\n    </tr>\n    <tr>\n      <th>1</th>\n      <td>40e50% of cases</td>\n      <td>R</td>\n      <td>{Recovered}</td>\n      <td>{40e50}</td>\n      <td>{Location: Wuhan, Location: Verity, Location: ...</td>\n      <td>1</td>\n    </tr>\n    <tr>\n      <th>9</th>\n      <td>NtauD</td>\n      <td>β</td>\n      <td>{betaStauS}</td>\n      <td>{1}</td>\n      <td>{}</td>\n      <td>1</td>\n    </tr>\n    <tr>\n      <th>8</th>\n      <td>N</td>\n      <td>S</td>\n      <td>{total human population}</td>\n      <td>{Λ/µ}</td>\n      <td>{Location: India}</td>\n      <td>1</td>\n    </tr>\n    <tr>\n      <th>7</th>\n      <td>K F V</td>\n      <td>β</td>\n      <td>{beta}</td>\n      <td>{}</td>\n      <td>{Location: K F}</td>\n      <td>1</td>\n    </tr>\n    <tr>\n      <th>6</th>\n      <td>I0</td>\n      <td>I</td>\n      <td>{Infectious population}</td>\n      <td>{kE δI}</td>\n      <td>{}</td>\n      <td>1</td>\n    </tr>\n    <tr>\n      <th>5</th>\n      <td>I</td>\n      <td>I</td>\n      <td>{Infectious}</td>\n      <td>{, kE δI}</td>\n      <td>{Location: Wolfel}</td>\n      <td>1</td>\n    </tr>\n    <tr>\n      <th>3</th>\n      <td>DTotal</td>\n      <td>β</td>\n      <td>{betaAtauA}</td>\n      <td>{2.71}</td>\n      <td>{}</td>\n      <td>1</td>\n    </tr>\n    <tr>\n      <th>2</th>\n      <td>AZ</td>\n      <td>E</td>\n      <td>{Tempe}</td>\n      <td>{}</td>\n      <td>{Location: Arizona State University, Location:...</td>\n      <td>1</td>\n    </tr>\n    <tr>\n      <th>23</th>\n      <td>βi</td>\n      <td>β</td>\n      <td>{Transmission rate}</td>\n      <td>{}</td>\n      <td>{}</td>\n      <td>1</td>\n    </tr>\n  </tbody>\n</table>\n</div>"
     },
     "execution_count": 8,
     "metadata": {},
     "output_type": "execute_result"
    }
   ],
   "source": [
    "# Aggregate for nicer experience\n",
    "\n",
    "g = frame.groupby('Metadata Name').agg({\n",
    "    \"AMR Elem\": lambda d: next(iter(set(d))),\n",
    "    \"Metadata Description\": lambda s: set(s),\n",
    "    \"SKEMA Values\": lambda s: set(s),\n",
    "    \"Scenario Context\": lambda s: set(x for x in s if x)\n",
    "}).reset_index()\n",
    "\n",
    "g['counts'] = g['Metadata Description'].map(len)\n",
    "g = g.sort_values('counts', ascending=False)\n",
    "g"
   ],
   "metadata": {
    "collapsed": false,
    "ExecuteTime": {
     "end_time": "2023-07-20T02:30:49.751685Z",
     "start_time": "2023-07-20T02:30:49.748946Z"
    }
   }
  },
  {
   "cell_type": "code",
   "execution_count": 9,
   "outputs": [
    {
     "name": "stdout",
     "output_type": "stream",
     "text": [
      "Metadata Name: \"E\" - Num extractions: 3\n",
      "AMR Element: E\n",
      "\tDescriptions:\n",
      "\t\t-exposed\n",
      "\t\t-Exposed population\n",
      "\t\t-Exposed\n",
      "\tValues:\n",
      "\t\t-1, 0\n",
      "\t\t-λIS\n",
      "\tScenario Context:\n",
      "\t\t-Location: Wolfel\n"
     ]
    }
   ],
   "source": [
    "def print_row(r):\n",
    "    print(f\"Metadata Name: \\\"{r['Metadata Name']}\\\" - Num extractions: {r.counts}\")\n",
    "    print(f\"AMR Element: {r['AMR Elem']}\")\n",
    "    print(\"\\tDescriptions:\")\n",
    "    for d in r['Metadata Description']:\n",
    "        print(f\"\\t\\t-{d}\")\n",
    "    print(\"\\tValues:\")\n",
    "    if len(r['SKEMA Values']) > 0:\n",
    "        for d in r['SKEMA Values']:\n",
    "            if d:\n",
    "                print(f\"\\t\\t-{d}\")\n",
    "    print(\"\\tScenario Context:\")\n",
    "    if len(r['Scenario Context']) > 0:\n",
    "        for d in r['Scenario Context']:\n",
    "            if d:\n",
    "                print(f\"\\t\\t-{d}\")\n",
    "\n",
    "print_row(g.iloc[0])"
   ],
   "metadata": {
    "collapsed": false,
    "ExecuteTime": {
     "end_time": "2023-07-20T02:30:49.754872Z",
     "start_time": "2023-07-20T02:30:49.752656Z"
    }
   }
  },
  {
   "cell_type": "code",
   "execution_count": 12,
   "outputs": [
    {
     "name": "stdout",
     "output_type": "stream",
     "text": [
      "Metadata Name: \"E\" - Num extractions: 3\n",
      "AMR Element: E\n",
      "\tDescriptions:\n",
      "\t\t-exposed\n",
      "\t\t-Exposed population\n",
      "\t\t-Exposed\n",
      "\tValues:\n",
      "\t\t-1, 0\n",
      "\t\t-λIS\n",
      "\tScenario Context:\n",
      "\t\t-Location: Wolfel\n",
      "--------------------\n",
      "\n",
      "Metadata Name: \"R\" - Num extractions: 2\n",
      "AMR Element: R\n",
      "\tDescriptions:\n",
      "\t\t-Recovered\n",
      "\t\t-Recovered population\n",
      "\tValues:\n",
      "\t\t-85-90, 0\n",
      "\tScenario Context:\n",
      "\t\t-Location: Wolfel\n",
      "--------------------\n",
      "\n",
      "Metadata Name: \"S\" - Num extractions: 2\n",
      "AMR Element: S\n",
      "\tDescriptions:\n",
      "\t\t-Number of susceptible human population\n",
      "\t\t-Susceptible\n",
      "\tValues:\n",
      "\t\t-Λ/µ\n",
      "\tScenario Context:\n",
      "--------------------\n",
      "\n",
      "Metadata Name: \")S\" - Num extractions: 1\n",
      "AMR Element: E\n",
      "\tDescriptions:\n",
      "\t\t-Number of exposed human population\n",
      "\tValues:\n",
      "\t\t-1, 0\n",
      "\tScenario Context:\n",
      "--------------------\n",
      "\n",
      "Metadata Name: \"USA\" - Num extractions: 1\n",
      "AMR Element: S\n",
      "\tDescriptions:\n",
      "\t\t-Tempe\n",
      "\tValues:\n",
      "\tScenario Context:\n",
      "\t\t-Location: Arizona State University, Location: Statistical Sciences, Time: 16 April 2020, Time: 6 April 2020\n",
      "--------------------\n",
      "\n",
      "Metadata Name: \"βS\" - Num extractions: 1\n",
      "AMR Element: β\n",
      "\tDescriptions:\n",
      "\t\t-inoculum release rate of symptomatic infectious individuals\n",
      "\tValues:\n",
      "\t\t-1\n",
      "\tScenario Context:\n",
      "--------------------\n",
      "\n",
      "Metadata Name: \"βA\" - Num extractions: 1\n",
      "AMR Element: β\n",
      "\tDescriptions:\n",
      "\t\t-inoculum release rate of asymptomatic infectious individuals\n",
      "\tValues:\n",
      "\t\t-2.71\n",
      "\tScenario Context:\n",
      "--------------------\n",
      "\n",
      "Metadata Name: \"phis\" - Num extractions: 1\n",
      "AMR Element: S\n",
      "\tDescriptions:\n",
      "\t\t-are hospitalized at the rate phis while the individuals in asymptomatic class move to the quarantined compartment at the rate gammaa\n",
      "\tValues:\n",
      "\tScenario Context:\n",
      "--------------------\n",
      "\n",
      "Metadata Name: \"passage of time\" - Num extractions: 1\n",
      "AMR Element: R\n",
      "\tDescriptions:\n",
      "\t\t-Number of recovered human population\n",
      "\tValues:\n",
      "\t\t-85-90, 0\n",
      "\tScenario Context:\n",
      "--------------------\n",
      "\n",
      "Metadata Name: \"k1\" - Num extractions: 1\n",
      "AMR Element: β\n",
      "\tDescriptions:\n",
      "\t\t-Arbitrary constant\n",
      "\tValues:\n",
      "\tScenario Context:\n",
      "--------------------\n",
      "\n",
      "Metadata Name: \"i\" - Num extractions: 1\n",
      "AMR Element: β\n",
      "\tDescriptions:\n",
      "\t\t-(betai\n",
      "\tValues:\n",
      "\tScenario Context:\n",
      "\t\t-Location: IA\n",
      "--------------------\n",
      "\n",
      "Metadata Name: \"beta(t)\" - Num extractions: 1\n",
      "AMR Element: β\n",
      "\tDescriptions:\n",
      "\t\t-beta\n",
      "\tValues:\n",
      "\t\t-m(t\n",
      "\tScenario Context:\n",
      "\t\t-Location: Germany, Location: Arizona, Location: Singapore\n",
      "--------------------\n",
      "\n",
      "Metadata Name: \"V\" - Num extractions: 1\n",
      "AMR Element: β\n",
      "\tDescriptions:\n",
      "\t\t-beta\n",
      "\tValues:\n",
      "\tScenario Context:\n",
      "\t\t-Location: K F\n",
      "--------------------\n",
      "\n",
      "Metadata Name: \"S*\" - Num extractions: 1\n",
      "AMR Element: S\n",
      "\tDescriptions:\n",
      "\t\t-total susceptible population\n",
      "\tValues:\n",
      "\tScenario Context:\n",
      "--------------------\n",
      "\n",
      "Metadata Name: \"S0\" - Num extractions: 1\n",
      "AMR Element: E\n",
      "\tDescriptions:\n",
      "\t\t-Susceptible population\n",
      "\tValues:\n",
      "\t\t-λIS\n",
      "\tScenario Context:\n",
      "--------------------\n",
      "\n",
      "Metadata Name: \"40e50% of cases\" - Num extractions: 1\n",
      "AMR Element: R\n",
      "\tDescriptions:\n",
      "\t\t-Recovered\n",
      "\tValues:\n",
      "\t\t-40e50\n",
      "\tScenario Context:\n",
      "\t\t-Location: Wuhan, Location: Verity, Location: China, Location: Italy\n",
      "--------------------\n",
      "\n",
      "Metadata Name: \"NtauD\" - Num extractions: 1\n",
      "AMR Element: β\n",
      "\tDescriptions:\n",
      "\t\t-betaStauS\n",
      "\tValues:\n",
      "\t\t-1\n",
      "\tScenario Context:\n",
      "--------------------\n",
      "\n",
      "Metadata Name: \"N\" - Num extractions: 1\n",
      "AMR Element: S\n",
      "\tDescriptions:\n",
      "\t\t-total human population\n",
      "\tValues:\n",
      "\t\t-Λ/µ\n",
      "\tScenario Context:\n",
      "\t\t-Location: India\n",
      "--------------------\n",
      "\n",
      "Metadata Name: \"K F V\" - Num extractions: 1\n",
      "AMR Element: β\n",
      "\tDescriptions:\n",
      "\t\t-beta\n",
      "\tValues:\n",
      "\tScenario Context:\n",
      "\t\t-Location: K F\n",
      "--------------------\n",
      "\n",
      "Metadata Name: \"I0\" - Num extractions: 1\n",
      "AMR Element: I\n",
      "\tDescriptions:\n",
      "\t\t-Infectious population\n",
      "\tValues:\n",
      "\t\t-kE δI\n",
      "\tScenario Context:\n",
      "--------------------\n",
      "\n",
      "Metadata Name: \"I\" - Num extractions: 1\n",
      "AMR Element: I\n",
      "\tDescriptions:\n",
      "\t\t-Infectious\n",
      "\tValues:\n",
      "\t\t-kE δI\n",
      "\tScenario Context:\n",
      "\t\t-Location: Wolfel\n",
      "--------------------\n",
      "\n",
      "Metadata Name: \"DTotal\" - Num extractions: 1\n",
      "AMR Element: β\n",
      "\tDescriptions:\n",
      "\t\t-betaAtauA\n",
      "\tValues:\n",
      "\t\t-2.71\n",
      "\tScenario Context:\n",
      "--------------------\n",
      "\n",
      "Metadata Name: \"AZ\" - Num extractions: 1\n",
      "AMR Element: E\n",
      "\tDescriptions:\n",
      "\t\t-Tempe\n",
      "\tValues:\n",
      "\tScenario Context:\n",
      "\t\t-Location: Arizona State University, Location: Statistical Sciences, Time: 16 April 2020, Time: 6 April 2020\n",
      "--------------------\n",
      "\n",
      "Metadata Name: \"βi\" - Num extractions: 1\n",
      "AMR Element: β\n",
      "\tDescriptions:\n",
      "\t\t-Transmission rate\n",
      "\tValues:\n",
      "\tScenario Context:\n",
      "--------------------\n",
      "\n"
     ]
    }
   ],
   "source": [
    "for _, r in g.iterrows():\n",
    "    print_row(r)\n",
    "    print(\"--------------------\")\n",
    "    print()"
   ],
   "metadata": {
    "collapsed": false,
    "ExecuteTime": {
     "end_time": "2023-07-20T02:31:08.795937Z",
     "start_time": "2023-07-20T02:31:08.792913Z"
    }
   }
  },
  {
   "cell_type": "code",
   "execution_count": null,
   "outputs": [],
   "source": [],
   "metadata": {
    "collapsed": false
   }
  }
 ],
 "metadata": {
  "kernelspec": {
   "display_name": "Python 3",
   "language": "python",
   "name": "python3"
  },
  "language_info": {
   "codemirror_mode": {
    "name": "ipython",
    "version": 2
   },
   "file_extension": ".py",
   "mimetype": "text/x-python",
   "name": "python",
   "nbconvert_exporter": "python",
   "pygments_lexer": "ipython2",
   "version": "2.7.6"
  }
 },
 "nbformat": 4,
 "nbformat_minor": 0
}
